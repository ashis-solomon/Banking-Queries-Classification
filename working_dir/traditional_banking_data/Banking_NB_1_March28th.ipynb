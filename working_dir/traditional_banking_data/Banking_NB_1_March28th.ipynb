{
 "cells": [
  {
   "cell_type": "code",
   "execution_count": 1,
   "id": "670117f1",
   "metadata": {},
   "outputs": [],
   "source": [
    "import numpy as np\n",
    "import pandas as pd\n",
    "import matplotlib.pyplot as plt\n",
    "import seaborn as sns\n",
    "\n",
    "import warnings\n",
    "warnings.filterwarnings(action='ignore')\n",
    "\n",
    "import re\n",
    "import json\n",
    "import time\n",
    "\n",
    "from nltk.corpus import stopwords\n",
    "from nltk.tokenize import word_tokenize\n",
    "from nltk.stem import PorterStemmer, WordNetLemmatizer"
   ]
  },
  {
   "cell_type": "code",
   "execution_count": 2,
   "id": "ed3d6aff",
   "metadata": {},
   "outputs": [],
   "source": [
    "df = pd.read_csv('./OPTION2_joined_coursework_dataset_banking_final.csv')"
   ]
  },
  {
   "cell_type": "code",
   "execution_count": 3,
   "id": "d78ec8ef",
   "metadata": {},
   "outputs": [
    {
     "data": {
      "text/html": [
       "<div>\n",
       "<style scoped>\n",
       "    .dataframe tbody tr th:only-of-type {\n",
       "        vertical-align: middle;\n",
       "    }\n",
       "\n",
       "    .dataframe tbody tr th {\n",
       "        vertical-align: top;\n",
       "    }\n",
       "\n",
       "    .dataframe thead th {\n",
       "        text-align: right;\n",
       "    }\n",
       "</style>\n",
       "<table border=\"1\" class=\"dataframe\">\n",
       "  <thead>\n",
       "    <tr style=\"text-align: right;\">\n",
       "      <th></th>\n",
       "      <th>text</th>\n",
       "      <th>label</th>\n",
       "      <th>query_index</th>\n",
       "    </tr>\n",
       "  </thead>\n",
       "  <tbody>\n",
       "    <tr>\n",
       "      <th>0</th>\n",
       "      <td>Can I automatically top-up when traveling?</td>\n",
       "      <td>top_up_queries_or_issues</td>\n",
       "      <td>526cd7f17526</td>\n",
       "    </tr>\n",
       "    <tr>\n",
       "      <th>1</th>\n",
       "      <td>What kind of fiat currency can I used for hold...</td>\n",
       "      <td>other</td>\n",
       "      <td>f3cf7343067e</td>\n",
       "    </tr>\n",
       "    <tr>\n",
       "      <th>2</th>\n",
       "      <td>I did not get the item I ordered.  How should ...</td>\n",
       "      <td>other</td>\n",
       "      <td>9a19501c3a3c</td>\n",
       "    </tr>\n",
       "    <tr>\n",
       "      <th>3</th>\n",
       "      <td>Freeze my account it's been hacked.</td>\n",
       "      <td>needs_troubleshooting</td>\n",
       "      <td>d76b07db8cf8</td>\n",
       "    </tr>\n",
       "    <tr>\n",
       "      <th>4</th>\n",
       "      <td>is there a reason that my payment didnt go thr...</td>\n",
       "      <td>other</td>\n",
       "      <td>bd95ba09a18d</td>\n",
       "    </tr>\n",
       "    <tr>\n",
       "      <th>...</th>\n",
       "      <td>...</td>\n",
       "      <td>...</td>\n",
       "      <td>...</td>\n",
       "    </tr>\n",
       "    <tr>\n",
       "      <th>14190</th>\n",
       "      <td>Can you tell me what the disposable cards are ...</td>\n",
       "      <td>card_queries_or_issues</td>\n",
       "      <td>bd6df98cc746</td>\n",
       "    </tr>\n",
       "    <tr>\n",
       "      <th>14191</th>\n",
       "      <td>The ATM won't give me my card back. I need it ...</td>\n",
       "      <td>card_queries_or_issues</td>\n",
       "      <td>e6197a1334b3</td>\n",
       "    </tr>\n",
       "    <tr>\n",
       "      <th>14192</th>\n",
       "      <td>Can you please tell me why my card payments ar...</td>\n",
       "      <td>card_queries_or_issues</td>\n",
       "      <td>b922a2a5f687</td>\n",
       "    </tr>\n",
       "    <tr>\n",
       "      <th>14193</th>\n",
       "      <td>The rate for a currency exchange was wrong whe...</td>\n",
       "      <td>needs_troubleshooting</td>\n",
       "      <td>cb1ed2c3ca95</td>\n",
       "    </tr>\n",
       "    <tr>\n",
       "      <th>14194</th>\n",
       "      <td>Am I able to track the card that was just sent...</td>\n",
       "      <td>card_queries_or_issues</td>\n",
       "      <td>f7e5a9b88449</td>\n",
       "    </tr>\n",
       "  </tbody>\n",
       "</table>\n",
       "<p>14195 rows × 3 columns</p>\n",
       "</div>"
      ],
      "text/plain": [
       "                                                    text  \\\n",
       "0             Can I automatically top-up when traveling?   \n",
       "1      What kind of fiat currency can I used for hold...   \n",
       "2      I did not get the item I ordered.  How should ...   \n",
       "3                    Freeze my account it's been hacked.   \n",
       "4      is there a reason that my payment didnt go thr...   \n",
       "...                                                  ...   \n",
       "14190  Can you tell me what the disposable cards are ...   \n",
       "14191  The ATM won't give me my card back. I need it ...   \n",
       "14192  Can you please tell me why my card payments ar...   \n",
       "14193  The rate for a currency exchange was wrong whe...   \n",
       "14194  Am I able to track the card that was just sent...   \n",
       "\n",
       "                          label   query_index  \n",
       "0      top_up_queries_or_issues  526cd7f17526  \n",
       "1                         other  f3cf7343067e  \n",
       "2                         other  9a19501c3a3c  \n",
       "3         needs_troubleshooting  d76b07db8cf8  \n",
       "4                         other  bd95ba09a18d  \n",
       "...                         ...           ...  \n",
       "14190    card_queries_or_issues  bd6df98cc746  \n",
       "14191    card_queries_or_issues  e6197a1334b3  \n",
       "14192    card_queries_or_issues  b922a2a5f687  \n",
       "14193     needs_troubleshooting  cb1ed2c3ca95  \n",
       "14194    card_queries_or_issues  f7e5a9b88449  \n",
       "\n",
       "[14195 rows x 3 columns]"
      ]
     },
     "execution_count": 3,
     "metadata": {},
     "output_type": "execute_result"
    }
   ],
   "source": [
    "df"
   ]
  },
  {
   "cell_type": "code",
   "execution_count": 4,
   "id": "218c354b",
   "metadata": {},
   "outputs": [
    {
     "data": {
      "text/plain": [
       "(14195, 3)"
      ]
     },
     "execution_count": 4,
     "metadata": {},
     "output_type": "execute_result"
    }
   ],
   "source": [
    "df.shape"
   ]
  },
  {
   "cell_type": "code",
   "execution_count": 5,
   "id": "1414d260",
   "metadata": {},
   "outputs": [
    {
     "data": {
      "text/plain": [
       "Index(['text', 'label', 'query_index'], dtype='object')"
      ]
     },
     "execution_count": 5,
     "metadata": {},
     "output_type": "execute_result"
    }
   ],
   "source": [
    "df.columns"
   ]
  },
  {
   "cell_type": "code",
   "execution_count": 6,
   "id": "8eb5383f",
   "metadata": {},
   "outputs": [
    {
     "data": {
      "text/plain": [
       "other                       5036\n",
       "needs_troubleshooting       4305\n",
       "card_queries_or_issues      2598\n",
       "top_up_queries_or_issues    1684\n",
       "Other                         21\n",
       "Card_queries_or_issues        12\n",
       "Top_up_queries_or_issues      11\n",
       "Needs_troubleshooting          7\n",
       "Name: label, dtype: int64"
      ]
     },
     "execution_count": 6,
     "metadata": {},
     "output_type": "execute_result"
    }
   ],
   "source": [
    "df['label'].value_counts()"
   ]
  },
  {
   "cell_type": "raw",
   "id": "f2e87ef9",
   "metadata": {},
   "source": [
    "'''\n",
    "We have to transform into 4 classes in total\n",
    "“card queries or issues”\n",
    "“needs troubleshooting”\n",
    "“top up queries or issues”\n",
    "“other” \n",
    "'''"
   ]
  },
  {
   "cell_type": "code",
   "execution_count": 7,
   "id": "3c9e1f0e",
   "metadata": {},
   "outputs": [],
   "source": [
    "df['label'] = df['label'].str.lower()"
   ]
  },
  {
   "cell_type": "code",
   "execution_count": 8,
   "id": "9dcd2a9e",
   "metadata": {},
   "outputs": [
    {
     "data": {
      "text/plain": [
       "other                       5057\n",
       "needs_troubleshooting       4312\n",
       "card_queries_or_issues      2610\n",
       "top_up_queries_or_issues    1695\n",
       "Name: label, dtype: int64"
      ]
     },
     "execution_count": 8,
     "metadata": {},
     "output_type": "execute_result"
    }
   ],
   "source": [
    "df['label'].value_counts()"
   ]
  },
  {
   "cell_type": "code",
   "execution_count": 9,
   "id": "a74bb27b",
   "metadata": {
    "scrolled": false
   },
   "outputs": [
    {
     "data": {
      "text/html": [
       "<div>\n",
       "<style scoped>\n",
       "    .dataframe tbody tr th:only-of-type {\n",
       "        vertical-align: middle;\n",
       "    }\n",
       "\n",
       "    .dataframe tbody tr th {\n",
       "        vertical-align: top;\n",
       "    }\n",
       "\n",
       "    .dataframe thead th {\n",
       "        text-align: right;\n",
       "    }\n",
       "</style>\n",
       "<table border=\"1\" class=\"dataframe\">\n",
       "  <thead>\n",
       "    <tr style=\"text-align: right;\">\n",
       "      <th></th>\n",
       "      <th>text</th>\n",
       "    </tr>\n",
       "  </thead>\n",
       "  <tbody>\n",
       "    <tr>\n",
       "      <th>#</th>\n",
       "      <td>68</td>\n",
       "    </tr>\n",
       "    <tr>\n",
       "      <th>I topped up but the app did not accept it.</th>\n",
       "      <td>3</td>\n",
       "    </tr>\n",
       "    <tr>\n",
       "      <th>How do I know if my top up was unsuccessful?</th>\n",
       "      <td>3</td>\n",
       "    </tr>\n",
       "    <tr>\n",
       "      <th>Oh my goodness, my card has been declined twice at ATM! I tried two different ATM, but each one declined my card! Can you tell me what's going on with my account?</th>\n",
       "      <td>3</td>\n",
       "    </tr>\n",
       "    <tr>\n",
       "      <th>I don't understand where this debit came from and want it removed.</th>\n",
       "      <td>3</td>\n",
       "    </tr>\n",
       "    <tr>\n",
       "      <th>...</th>\n",
       "      <td>...</td>\n",
       "    </tr>\n",
       "    <tr>\n",
       "      <th>My statement shows different transaction times.</th>\n",
       "      <td>1</td>\n",
       "    </tr>\n",
       "    <tr>\n",
       "      <th>What are the steps I need to take to cancel a transaction?</th>\n",
       "      <td>1</td>\n",
       "    </tr>\n",
       "    <tr>\n",
       "      <th>after i got married i need to change my name</th>\n",
       "      <td>1</td>\n",
       "    </tr>\n",
       "    <tr>\n",
       "      <th>I still have not received an answer as to why I was charged $1.00 in a transaction?</th>\n",
       "      <td>1</td>\n",
       "    </tr>\n",
       "    <tr>\n",
       "      <th>Am I able to track the card that was just sent to me?</th>\n",
       "      <td>1</td>\n",
       "    </tr>\n",
       "  </tbody>\n",
       "</table>\n",
       "<p>13084 rows × 1 columns</p>\n",
       "</div>"
      ],
      "text/plain": [
       "                                                    text\n",
       "#                                                     68\n",
       "I topped up but the app did not accept it.             3\n",
       "How do I know if my top up was unsuccessful?           3\n",
       "Oh my goodness, my card has been declined twice...     3\n",
       "I don't understand where this debit came from a...     3\n",
       "...                                                  ...\n",
       "My statement shows different transaction times.        1\n",
       "What are the steps I need to take to cancel a t...     1\n",
       "after i got married i need to change my name           1\n",
       "I still have not received an answer as to why I...     1\n",
       "Am I able to track the card that was just sent ...     1\n",
       "\n",
       "[13084 rows x 1 columns]"
      ]
     },
     "execution_count": 9,
     "metadata": {},
     "output_type": "execute_result"
    }
   ],
   "source": [
    "pd.DataFrame(df['text'].value_counts())"
   ]
  },
  {
   "cell_type": "code",
   "execution_count": 10,
   "id": "a46b31e9",
   "metadata": {},
   "outputs": [
    {
     "data": {
      "text/html": [
       "<div>\n",
       "<style scoped>\n",
       "    .dataframe tbody tr th:only-of-type {\n",
       "        vertical-align: middle;\n",
       "    }\n",
       "\n",
       "    .dataframe tbody tr th {\n",
       "        vertical-align: top;\n",
       "    }\n",
       "\n",
       "    .dataframe thead th {\n",
       "        text-align: right;\n",
       "    }\n",
       "</style>\n",
       "<table border=\"1\" class=\"dataframe\">\n",
       "  <thead>\n",
       "    <tr style=\"text-align: right;\">\n",
       "      <th></th>\n",
       "      <th>text</th>\n",
       "      <th>label</th>\n",
       "      <th>query_index</th>\n",
       "    </tr>\n",
       "  </thead>\n",
       "  <tbody>\n",
       "    <tr>\n",
       "      <th>106</th>\n",
       "      <td>#</td>\n",
       "      <td>needs_troubleshooting</td>\n",
       "      <td>226t0c5be7cf</td>\n",
       "    </tr>\n",
       "    <tr>\n",
       "      <th>139</th>\n",
       "      <td>#</td>\n",
       "      <td>other</td>\n",
       "      <td>10et93272e2e</td>\n",
       "    </tr>\n",
       "    <tr>\n",
       "      <th>266</th>\n",
       "      <td>#</td>\n",
       "      <td>other</td>\n",
       "      <td>849t6f85a049</td>\n",
       "    </tr>\n",
       "    <tr>\n",
       "      <th>346</th>\n",
       "      <td>#</td>\n",
       "      <td>other</td>\n",
       "      <td>73ft45a21d0f</td>\n",
       "    </tr>\n",
       "    <tr>\n",
       "      <th>530</th>\n",
       "      <td>#</td>\n",
       "      <td>card_queries_or_issues</td>\n",
       "      <td>ef6teff01216</td>\n",
       "    </tr>\n",
       "    <tr>\n",
       "      <th>...</th>\n",
       "      <td>...</td>\n",
       "      <td>...</td>\n",
       "      <td>...</td>\n",
       "    </tr>\n",
       "    <tr>\n",
       "      <th>13505</th>\n",
       "      <td>#</td>\n",
       "      <td>top_up_queries_or_issues</td>\n",
       "      <td>33dte465441a</td>\n",
       "    </tr>\n",
       "    <tr>\n",
       "      <th>13531</th>\n",
       "      <td>#</td>\n",
       "      <td>needs_troubleshooting</td>\n",
       "      <td>451t8fa10c0d</td>\n",
       "    </tr>\n",
       "    <tr>\n",
       "      <th>13799</th>\n",
       "      <td>#</td>\n",
       "      <td>other</td>\n",
       "      <td>b25teb82e4a2</td>\n",
       "    </tr>\n",
       "    <tr>\n",
       "      <th>13825</th>\n",
       "      <td>#</td>\n",
       "      <td>top_up_queries_or_issues</td>\n",
       "      <td>763tcd9275b1</td>\n",
       "    </tr>\n",
       "    <tr>\n",
       "      <th>13884</th>\n",
       "      <td>#</td>\n",
       "      <td>other</td>\n",
       "      <td>9eetccf1515a</td>\n",
       "    </tr>\n",
       "  </tbody>\n",
       "</table>\n",
       "<p>68 rows × 3 columns</p>\n",
       "</div>"
      ],
      "text/plain": [
       "      text                     label   query_index\n",
       "106      #     needs_troubleshooting  226t0c5be7cf\n",
       "139      #                     other  10et93272e2e\n",
       "266      #                     other  849t6f85a049\n",
       "346      #                     other  73ft45a21d0f\n",
       "530      #    card_queries_or_issues  ef6teff01216\n",
       "...    ...                       ...           ...\n",
       "13505    #  top_up_queries_or_issues  33dte465441a\n",
       "13531    #     needs_troubleshooting  451t8fa10c0d\n",
       "13799    #                     other  b25teb82e4a2\n",
       "13825    #  top_up_queries_or_issues  763tcd9275b1\n",
       "13884    #                     other  9eetccf1515a\n",
       "\n",
       "[68 rows x 3 columns]"
      ]
     },
     "execution_count": 10,
     "metadata": {},
     "output_type": "execute_result"
    }
   ],
   "source": [
    "df[df['text'] == '#']"
   ]
  },
  {
   "cell_type": "code",
   "execution_count": 11,
   "id": "60098d9c",
   "metadata": {},
   "outputs": [
    {
     "data": {
      "text/plain": [
       "other                       32\n",
       "needs_troubleshooting       12\n",
       "card_queries_or_issues      12\n",
       "top_up_queries_or_issues    12\n",
       "Name: label, dtype: int64"
      ]
     },
     "execution_count": 11,
     "metadata": {},
     "output_type": "execute_result"
    }
   ],
   "source": [
    "df[df['text'] == '#']['label'].value_counts()"
   ]
  },
  {
   "cell_type": "code",
   "execution_count": 12,
   "id": "4b4c3f61",
   "metadata": {},
   "outputs": [
    {
     "data": {
      "text/plain": [
       "'other'"
      ]
     },
     "execution_count": 12,
     "metadata": {},
     "output_type": "execute_result"
    }
   ],
   "source": [
    "df[df['text'] == '#']['label'].value_counts().idxmax()"
   ]
  },
  {
   "cell_type": "code",
   "execution_count": 13,
   "id": "e994e2de",
   "metadata": {},
   "outputs": [],
   "source": [
    "df[df['text'] == '#']['label'] = df[df['text'] == '#']['label'].value_counts().idxmax()"
   ]
  },
  {
   "cell_type": "code",
   "execution_count": 14,
   "id": "a6b9073a",
   "metadata": {},
   "outputs": [],
   "source": [
    "highest_count = df[df['text'] == '#']['label'].value_counts().idxmax()\n",
    "df.loc[df['text'] == '#', 'label'] = highest_count"
   ]
  },
  {
   "cell_type": "code",
   "execution_count": null,
   "id": "f44a1dd7",
   "metadata": {},
   "outputs": [],
   "source": []
  },
  {
   "cell_type": "code",
   "execution_count": 15,
   "id": "0c9d20b4",
   "metadata": {},
   "outputs": [
    {
     "data": {
      "text/plain": [
       "text             0\n",
       "label          521\n",
       "query_index      0\n",
       "dtype: int64"
      ]
     },
     "execution_count": 15,
     "metadata": {},
     "output_type": "execute_result"
    }
   ],
   "source": [
    "df.isna().sum()"
   ]
  },
  {
   "cell_type": "code",
   "execution_count": 16,
   "id": "ebec48b6",
   "metadata": {
    "scrolled": true
   },
   "outputs": [
    {
     "data": {
      "text/html": [
       "<div>\n",
       "<style scoped>\n",
       "    .dataframe tbody tr th:only-of-type {\n",
       "        vertical-align: middle;\n",
       "    }\n",
       "\n",
       "    .dataframe tbody tr th {\n",
       "        vertical-align: top;\n",
       "    }\n",
       "\n",
       "    .dataframe thead th {\n",
       "        text-align: right;\n",
       "    }\n",
       "</style>\n",
       "<table border=\"1\" class=\"dataframe\">\n",
       "  <thead>\n",
       "    <tr style=\"text-align: right;\">\n",
       "      <th></th>\n",
       "      <th>text</th>\n",
       "      <th>label</th>\n",
       "      <th>query_index</th>\n",
       "    </tr>\n",
       "  </thead>\n",
       "  <tbody>\n",
       "    <tr>\n",
       "      <th>17</th>\n",
       "      <td>What do you charge to top up US cards?</td>\n",
       "      <td>NaN</td>\n",
       "      <td>f9ct7333337b</td>\n",
       "    </tr>\n",
       "    <tr>\n",
       "      <th>22</th>\n",
       "      <td>I did a transfer to my account but it doesn't ...</td>\n",
       "      <td>NaN</td>\n",
       "      <td>a85ta60fdb59</td>\n",
       "    </tr>\n",
       "    <tr>\n",
       "      <th>43</th>\n",
       "      <td>I'm not recognizing the card payment.</td>\n",
       "      <td>NaN</td>\n",
       "      <td>f55t70c7ee03</td>\n",
       "    </tr>\n",
       "    <tr>\n",
       "      <th>52</th>\n",
       "      <td>Is it okay to use a bank card to top up</td>\n",
       "      <td>NaN</td>\n",
       "      <td>c72t8fdedfc9</td>\n",
       "    </tr>\n",
       "    <tr>\n",
       "      <th>99</th>\n",
       "      <td>Why is there an extra fee on my statement?</td>\n",
       "      <td>NaN</td>\n",
       "      <td>ee0t3820e035</td>\n",
       "    </tr>\n",
       "    <tr>\n",
       "      <th>...</th>\n",
       "      <td>...</td>\n",
       "      <td>...</td>\n",
       "      <td>...</td>\n",
       "    </tr>\n",
       "    <tr>\n",
       "      <th>14131</th>\n",
       "      <td>When did you start charging to make a withdraw...</td>\n",
       "      <td>NaN</td>\n",
       "      <td>8c8t86b69685</td>\n",
       "    </tr>\n",
       "    <tr>\n",
       "      <th>14140</th>\n",
       "      <td>Is there a fee to add money to an internationa...</td>\n",
       "      <td>NaN</td>\n",
       "      <td>f1dt07d4aad8</td>\n",
       "    </tr>\n",
       "    <tr>\n",
       "      <th>14155</th>\n",
       "      <td>My money transaction hasn't arrived.</td>\n",
       "      <td>NaN</td>\n",
       "      <td>2b4td3854067</td>\n",
       "    </tr>\n",
       "    <tr>\n",
       "      <th>14177</th>\n",
       "      <td>I want to get some cash from the ATM using my ...</td>\n",
       "      <td>NaN</td>\n",
       "      <td>0fdtb1ed8321</td>\n",
       "    </tr>\n",
       "    <tr>\n",
       "      <th>14188</th>\n",
       "      <td>My transfer was declined. What might the reaso...</td>\n",
       "      <td>NaN</td>\n",
       "      <td>aeet3c64060d</td>\n",
       "    </tr>\n",
       "  </tbody>\n",
       "</table>\n",
       "<p>521 rows × 3 columns</p>\n",
       "</div>"
      ],
      "text/plain": [
       "                                                    text label   query_index\n",
       "17                What do you charge to top up US cards?   NaN  f9ct7333337b\n",
       "22     I did a transfer to my account but it doesn't ...   NaN  a85ta60fdb59\n",
       "43                 I'm not recognizing the card payment.   NaN  f55t70c7ee03\n",
       "52               Is it okay to use a bank card to top up   NaN  c72t8fdedfc9\n",
       "99            Why is there an extra fee on my statement?   NaN  ee0t3820e035\n",
       "...                                                  ...   ...           ...\n",
       "14131  When did you start charging to make a withdraw...   NaN  8c8t86b69685\n",
       "14140  Is there a fee to add money to an internationa...   NaN  f1dt07d4aad8\n",
       "14155               My money transaction hasn't arrived.   NaN  2b4td3854067\n",
       "14177  I want to get some cash from the ATM using my ...   NaN  0fdtb1ed8321\n",
       "14188  My transfer was declined. What might the reaso...   NaN  aeet3c64060d\n",
       "\n",
       "[521 rows x 3 columns]"
      ]
     },
     "execution_count": 16,
     "metadata": {},
     "output_type": "execute_result"
    }
   ],
   "source": [
    "df[df['label'].isna()]"
   ]
  },
  {
   "cell_type": "code",
   "execution_count": 17,
   "id": "be6136ac",
   "metadata": {
    "scrolled": false
   },
   "outputs": [
    {
     "data": {
      "text/html": [
       "<div>\n",
       "<style scoped>\n",
       "    .dataframe tbody tr th:only-of-type {\n",
       "        vertical-align: middle;\n",
       "    }\n",
       "\n",
       "    .dataframe tbody tr th {\n",
       "        vertical-align: top;\n",
       "    }\n",
       "\n",
       "    .dataframe thead th {\n",
       "        text-align: right;\n",
       "    }\n",
       "</style>\n",
       "<table border=\"1\" class=\"dataframe\">\n",
       "  <thead>\n",
       "    <tr style=\"text-align: right;\">\n",
       "      <th></th>\n",
       "      <th>text</th>\n",
       "      <th>label</th>\n",
       "      <th>query_index</th>\n",
       "    </tr>\n",
       "  </thead>\n",
       "  <tbody>\n",
       "    <tr>\n",
       "      <th>17</th>\n",
       "      <td>What do you charge to top up US cards?</td>\n",
       "      <td>NaN</td>\n",
       "      <td>f9ct7333337b</td>\n",
       "    </tr>\n",
       "    <tr>\n",
       "      <th>7924</th>\n",
       "      <td>What do you charge to top up US cards?</td>\n",
       "      <td>top_up_queries_or_issues</td>\n",
       "      <td>f9c07333337b</td>\n",
       "    </tr>\n",
       "  </tbody>\n",
       "</table>\n",
       "</div>"
      ],
      "text/plain": [
       "                                        text                     label  \\\n",
       "17    What do you charge to top up US cards?                       NaN   \n",
       "7924  What do you charge to top up US cards?  top_up_queries_or_issues   \n",
       "\n",
       "       query_index  \n",
       "17    f9ct7333337b  \n",
       "7924  f9c07333337b  "
      ]
     },
     "execution_count": 17,
     "metadata": {},
     "output_type": "execute_result"
    }
   ],
   "source": [
    "df[df['text'] == 'What do you charge to top up US cards?']"
   ]
  },
  {
   "cell_type": "code",
   "execution_count": null,
   "id": "a7e01b14",
   "metadata": {},
   "outputs": [],
   "source": []
  },
  {
   "cell_type": "code",
   "execution_count": 18,
   "id": "a625c2f4",
   "metadata": {},
   "outputs": [],
   "source": [
    "text_duplicates = df[df.duplicated(subset=['text'], keep=False)]"
   ]
  },
  {
   "cell_type": "code",
   "execution_count": 19,
   "id": "a95e2f45",
   "metadata": {},
   "outputs": [
    {
     "data": {
      "text/html": [
       "<div>\n",
       "<style scoped>\n",
       "    .dataframe tbody tr th:only-of-type {\n",
       "        vertical-align: middle;\n",
       "    }\n",
       "\n",
       "    .dataframe tbody tr th {\n",
       "        vertical-align: top;\n",
       "    }\n",
       "\n",
       "    .dataframe thead th {\n",
       "        text-align: right;\n",
       "    }\n",
       "</style>\n",
       "<table border=\"1\" class=\"dataframe\">\n",
       "  <thead>\n",
       "    <tr style=\"text-align: right;\">\n",
       "      <th></th>\n",
       "      <th>text</th>\n",
       "      <th>label</th>\n",
       "      <th>query_index</th>\n",
       "    </tr>\n",
       "  </thead>\n",
       "  <tbody>\n",
       "    <tr>\n",
       "      <th>17</th>\n",
       "      <td>What do you charge to top up US cards?</td>\n",
       "      <td>NaN</td>\n",
       "      <td>f9ct7333337b</td>\n",
       "    </tr>\n",
       "    <tr>\n",
       "      <th>22</th>\n",
       "      <td>I did a transfer to my account but it doesn't ...</td>\n",
       "      <td>NaN</td>\n",
       "      <td>a85ta60fdb59</td>\n",
       "    </tr>\n",
       "    <tr>\n",
       "      <th>31</th>\n",
       "      <td>Is there a charge for exchanging foreign curre...</td>\n",
       "      <td>other</td>\n",
       "      <td>a3868d3af8da</td>\n",
       "    </tr>\n",
       "    <tr>\n",
       "      <th>39</th>\n",
       "      <td>Hello I made a bank transfer couple hours ago ...</td>\n",
       "      <td>needs_troubleshooting</td>\n",
       "      <td>1612042a2d27</td>\n",
       "    </tr>\n",
       "    <tr>\n",
       "      <th>43</th>\n",
       "      <td>I'm not recognizing the card payment.</td>\n",
       "      <td>NaN</td>\n",
       "      <td>f55t70c7ee03</td>\n",
       "    </tr>\n",
       "    <tr>\n",
       "      <th>...</th>\n",
       "      <td>...</td>\n",
       "      <td>...</td>\n",
       "      <td>...</td>\n",
       "    </tr>\n",
       "    <tr>\n",
       "      <th>14171</th>\n",
       "      <td>Someone else used my card!</td>\n",
       "      <td>needs_troubleshooting</td>\n",
       "      <td>4a9ac2ff2976</td>\n",
       "    </tr>\n",
       "    <tr>\n",
       "      <th>14174</th>\n",
       "      <td>Why was money taken for a transfer?</td>\n",
       "      <td>other</td>\n",
       "      <td>62ff235434bf</td>\n",
       "    </tr>\n",
       "    <tr>\n",
       "      <th>14177</th>\n",
       "      <td>I want to get some cash from the ATM using my ...</td>\n",
       "      <td>NaN</td>\n",
       "      <td>0fdtb1ed8321</td>\n",
       "    </tr>\n",
       "    <tr>\n",
       "      <th>14188</th>\n",
       "      <td>My transfer was declined. What might the reaso...</td>\n",
       "      <td>NaN</td>\n",
       "      <td>aeet3c64060d</td>\n",
       "    </tr>\n",
       "    <tr>\n",
       "      <th>14189</th>\n",
       "      <td>For what reason must I authenticate the top up?</td>\n",
       "      <td>top_up_queries_or_issues</td>\n",
       "      <td>bbe3b7801c11</td>\n",
       "    </tr>\n",
       "  </tbody>\n",
       "</table>\n",
       "<p>2135 rows × 3 columns</p>\n",
       "</div>"
      ],
      "text/plain": [
       "                                                    text  \\\n",
       "17                What do you charge to top up US cards?   \n",
       "22     I did a transfer to my account but it doesn't ...   \n",
       "31     Is there a charge for exchanging foreign curre...   \n",
       "39     Hello I made a bank transfer couple hours ago ...   \n",
       "43                 I'm not recognizing the card payment.   \n",
       "...                                                  ...   \n",
       "14171                         Someone else used my card!   \n",
       "14174                Why was money taken for a transfer?   \n",
       "14177  I want to get some cash from the ATM using my ...   \n",
       "14188  My transfer was declined. What might the reaso...   \n",
       "14189    For what reason must I authenticate the top up?   \n",
       "\n",
       "                          label   query_index  \n",
       "17                          NaN  f9ct7333337b  \n",
       "22                          NaN  a85ta60fdb59  \n",
       "31                        other  a3868d3af8da  \n",
       "39        needs_troubleshooting  1612042a2d27  \n",
       "43                          NaN  f55t70c7ee03  \n",
       "...                         ...           ...  \n",
       "14171     needs_troubleshooting  4a9ac2ff2976  \n",
       "14174                     other  62ff235434bf  \n",
       "14177                       NaN  0fdtb1ed8321  \n",
       "14188                       NaN  aeet3c64060d  \n",
       "14189  top_up_queries_or_issues  bbe3b7801c11  \n",
       "\n",
       "[2135 rows x 3 columns]"
      ]
     },
     "execution_count": 19,
     "metadata": {},
     "output_type": "execute_result"
    }
   ],
   "source": [
    "text_duplicates"
   ]
  },
  {
   "cell_type": "code",
   "execution_count": 20,
   "id": "5f5e40bf",
   "metadata": {},
   "outputs": [],
   "source": [
    "sorted_text_duplicates = text_duplicates.sort_values(by=['text'])"
   ]
  },
  {
   "cell_type": "code",
   "execution_count": 21,
   "id": "7bf92b27",
   "metadata": {
    "scrolled": false
   },
   "outputs": [
    {
     "data": {
      "text/html": [
       "<div>\n",
       "<style scoped>\n",
       "    .dataframe tbody tr th:only-of-type {\n",
       "        vertical-align: middle;\n",
       "    }\n",
       "\n",
       "    .dataframe tbody tr th {\n",
       "        vertical-align: top;\n",
       "    }\n",
       "\n",
       "    .dataframe thead th {\n",
       "        text-align: right;\n",
       "    }\n",
       "</style>\n",
       "<table border=\"1\" class=\"dataframe\">\n",
       "  <thead>\n",
       "    <tr style=\"text-align: right;\">\n",
       "      <th></th>\n",
       "      <th>text</th>\n",
       "      <th>label</th>\n",
       "      <th>query_index</th>\n",
       "    </tr>\n",
       "  </thead>\n",
       "  <tbody>\n",
       "    <tr>\n",
       "      <th>11294</th>\n",
       "      <td>\\nDo I need to go to a physical bank to change...</td>\n",
       "      <td>other</td>\n",
       "      <td>bd266914309f</td>\n",
       "    </tr>\n",
       "    <tr>\n",
       "      <th>12851</th>\n",
       "      <td>\\nDo I need to go to a physical bank to change...</td>\n",
       "      <td>other</td>\n",
       "      <td>bd266914309f</td>\n",
       "    </tr>\n",
       "    <tr>\n",
       "      <th>12814</th>\n",
       "      <td>\\nWhere can I use my card?</td>\n",
       "      <td>card_queries_or_issues</td>\n",
       "      <td>8c5e2792341b</td>\n",
       "    </tr>\n",
       "    <tr>\n",
       "      <th>4211</th>\n",
       "      <td>\\nWhere can I use my card?</td>\n",
       "      <td>card_queries_or_issues</td>\n",
       "      <td>8c5e2792341b</td>\n",
       "    </tr>\n",
       "    <tr>\n",
       "      <th>2679</th>\n",
       "      <td>#</td>\n",
       "      <td>other</td>\n",
       "      <td>83dt36353408</td>\n",
       "    </tr>\n",
       "    <tr>\n",
       "      <th>...</th>\n",
       "      <td>...</td>\n",
       "      <td>...</td>\n",
       "      <td>...</td>\n",
       "    </tr>\n",
       "    <tr>\n",
       "      <th>12077</th>\n",
       "      <td>why isnt my cash withdrawal showing</td>\n",
       "      <td>other</td>\n",
       "      <td>d8be9d199edb</td>\n",
       "    </tr>\n",
       "    <tr>\n",
       "      <th>9691</th>\n",
       "      <td>why top up is not working even if I got my Ame...</td>\n",
       "      <td>NaN</td>\n",
       "      <td>251t19d88274</td>\n",
       "    </tr>\n",
       "    <tr>\n",
       "      <th>4683</th>\n",
       "      <td>why top up is not working even if I got my Ame...</td>\n",
       "      <td>other</td>\n",
       "      <td>251719d88274</td>\n",
       "    </tr>\n",
       "    <tr>\n",
       "      <th>3150</th>\n",
       "      <td>why wasn't a transfer to account approved</td>\n",
       "      <td>NaN</td>\n",
       "      <td>791tec873502</td>\n",
       "    </tr>\n",
       "    <tr>\n",
       "      <th>7768</th>\n",
       "      <td>why wasn't a transfer to account approved</td>\n",
       "      <td>needs_troubleshooting</td>\n",
       "      <td>7912ec873502</td>\n",
       "    </tr>\n",
       "  </tbody>\n",
       "</table>\n",
       "<p>2135 rows × 3 columns</p>\n",
       "</div>"
      ],
      "text/plain": [
       "                                                    text  \\\n",
       "11294  \\nDo I need to go to a physical bank to change...   \n",
       "12851  \\nDo I need to go to a physical bank to change...   \n",
       "12814                         \\nWhere can I use my card?   \n",
       "4211                          \\nWhere can I use my card?   \n",
       "2679                                                   #   \n",
       "...                                                  ...   \n",
       "12077                why isnt my cash withdrawal showing   \n",
       "9691   why top up is not working even if I got my Ame...   \n",
       "4683   why top up is not working even if I got my Ame...   \n",
       "3150           why wasn't a transfer to account approved   \n",
       "7768           why wasn't a transfer to account approved   \n",
       "\n",
       "                        label   query_index  \n",
       "11294                   other  bd266914309f  \n",
       "12851                   other  bd266914309f  \n",
       "12814  card_queries_or_issues  8c5e2792341b  \n",
       "4211   card_queries_or_issues  8c5e2792341b  \n",
       "2679                    other  83dt36353408  \n",
       "...                       ...           ...  \n",
       "12077                   other  d8be9d199edb  \n",
       "9691                      NaN  251t19d88274  \n",
       "4683                    other  251719d88274  \n",
       "3150                      NaN  791tec873502  \n",
       "7768    needs_troubleshooting  7912ec873502  \n",
       "\n",
       "[2135 rows x 3 columns]"
      ]
     },
     "execution_count": 21,
     "metadata": {},
     "output_type": "execute_result"
    }
   ],
   "source": [
    "sorted_text_duplicates"
   ]
  },
  {
   "cell_type": "code",
   "execution_count": 22,
   "id": "0eb2227c",
   "metadata": {},
   "outputs": [
    {
     "data": {
      "text/plain": [
       "text             0\n",
       "label          521\n",
       "query_index      0\n",
       "dtype: int64"
      ]
     },
     "execution_count": 22,
     "metadata": {},
     "output_type": "execute_result"
    }
   ],
   "source": [
    "sorted_text_duplicates.isna().sum()"
   ]
  },
  {
   "cell_type": "code",
   "execution_count": 23,
   "id": "617d816f",
   "metadata": {},
   "outputs": [],
   "source": [
    "# There are text columns that are duplicated but having the label values as NaN\n",
    "# So the next step is to fill the NaN values with the corresponding label group value"
   ]
  },
  {
   "cell_type": "code",
   "execution_count": 24,
   "id": "ef5c7e54",
   "metadata": {},
   "outputs": [],
   "source": [
    "df['label'] = df.groupby('text')['label'].apply(lambda x: x.fillna(x.mode()[0]))"
   ]
  },
  {
   "cell_type": "code",
   "execution_count": 25,
   "id": "0d4a29e7",
   "metadata": {},
   "outputs": [
    {
     "data": {
      "text/html": [
       "<div>\n",
       "<style scoped>\n",
       "    .dataframe tbody tr th:only-of-type {\n",
       "        vertical-align: middle;\n",
       "    }\n",
       "\n",
       "    .dataframe tbody tr th {\n",
       "        vertical-align: top;\n",
       "    }\n",
       "\n",
       "    .dataframe thead th {\n",
       "        text-align: right;\n",
       "    }\n",
       "</style>\n",
       "<table border=\"1\" class=\"dataframe\">\n",
       "  <thead>\n",
       "    <tr style=\"text-align: right;\">\n",
       "      <th></th>\n",
       "      <th>text</th>\n",
       "      <th>label</th>\n",
       "      <th>query_index</th>\n",
       "    </tr>\n",
       "  </thead>\n",
       "  <tbody>\n",
       "    <tr>\n",
       "      <th>11294</th>\n",
       "      <td>\\nDo I need to go to a physical bank to change...</td>\n",
       "      <td>other</td>\n",
       "      <td>bd266914309f</td>\n",
       "    </tr>\n",
       "    <tr>\n",
       "      <th>12851</th>\n",
       "      <td>\\nDo I need to go to a physical bank to change...</td>\n",
       "      <td>other</td>\n",
       "      <td>bd266914309f</td>\n",
       "    </tr>\n",
       "    <tr>\n",
       "      <th>12814</th>\n",
       "      <td>\\nWhere can I use my card?</td>\n",
       "      <td>card_queries_or_issues</td>\n",
       "      <td>8c5e2792341b</td>\n",
       "    </tr>\n",
       "    <tr>\n",
       "      <th>4211</th>\n",
       "      <td>\\nWhere can I use my card?</td>\n",
       "      <td>card_queries_or_issues</td>\n",
       "      <td>8c5e2792341b</td>\n",
       "    </tr>\n",
       "    <tr>\n",
       "      <th>2679</th>\n",
       "      <td>#</td>\n",
       "      <td>other</td>\n",
       "      <td>83dt36353408</td>\n",
       "    </tr>\n",
       "    <tr>\n",
       "      <th>...</th>\n",
       "      <td>...</td>\n",
       "      <td>...</td>\n",
       "      <td>...</td>\n",
       "    </tr>\n",
       "    <tr>\n",
       "      <th>12077</th>\n",
       "      <td>why isnt my cash withdrawal showing</td>\n",
       "      <td>other</td>\n",
       "      <td>d8be9d199edb</td>\n",
       "    </tr>\n",
       "    <tr>\n",
       "      <th>9691</th>\n",
       "      <td>why top up is not working even if I got my Ame...</td>\n",
       "      <td>other</td>\n",
       "      <td>251t19d88274</td>\n",
       "    </tr>\n",
       "    <tr>\n",
       "      <th>4683</th>\n",
       "      <td>why top up is not working even if I got my Ame...</td>\n",
       "      <td>other</td>\n",
       "      <td>251719d88274</td>\n",
       "    </tr>\n",
       "    <tr>\n",
       "      <th>3150</th>\n",
       "      <td>why wasn't a transfer to account approved</td>\n",
       "      <td>needs_troubleshooting</td>\n",
       "      <td>791tec873502</td>\n",
       "    </tr>\n",
       "    <tr>\n",
       "      <th>7768</th>\n",
       "      <td>why wasn't a transfer to account approved</td>\n",
       "      <td>needs_troubleshooting</td>\n",
       "      <td>7912ec873502</td>\n",
       "    </tr>\n",
       "  </tbody>\n",
       "</table>\n",
       "<p>2135 rows × 3 columns</p>\n",
       "</div>"
      ],
      "text/plain": [
       "                                                    text  \\\n",
       "11294  \\nDo I need to go to a physical bank to change...   \n",
       "12851  \\nDo I need to go to a physical bank to change...   \n",
       "12814                         \\nWhere can I use my card?   \n",
       "4211                          \\nWhere can I use my card?   \n",
       "2679                                                   #   \n",
       "...                                                  ...   \n",
       "12077                why isnt my cash withdrawal showing   \n",
       "9691   why top up is not working even if I got my Ame...   \n",
       "4683   why top up is not working even if I got my Ame...   \n",
       "3150           why wasn't a transfer to account approved   \n",
       "7768           why wasn't a transfer to account approved   \n",
       "\n",
       "                        label   query_index  \n",
       "11294                   other  bd266914309f  \n",
       "12851                   other  bd266914309f  \n",
       "12814  card_queries_or_issues  8c5e2792341b  \n",
       "4211   card_queries_or_issues  8c5e2792341b  \n",
       "2679                    other  83dt36353408  \n",
       "...                       ...           ...  \n",
       "12077                   other  d8be9d199edb  \n",
       "9691                    other  251t19d88274  \n",
       "4683                    other  251719d88274  \n",
       "3150    needs_troubleshooting  791tec873502  \n",
       "7768    needs_troubleshooting  7912ec873502  \n",
       "\n",
       "[2135 rows x 3 columns]"
      ]
     },
     "execution_count": 25,
     "metadata": {},
     "output_type": "execute_result"
    }
   ],
   "source": [
    "text_duplicates = df[df.duplicated(subset=['text'], keep=False)]\n",
    "sorted_text_duplicates = text_duplicates.sort_values(by=['text'])\n",
    "sorted_text_duplicates"
   ]
  },
  {
   "cell_type": "code",
   "execution_count": 26,
   "id": "eea278b8",
   "metadata": {},
   "outputs": [
    {
     "data": {
      "text/plain": [
       "text           0\n",
       "label          0\n",
       "query_index    0\n",
       "dtype: int64"
      ]
     },
     "execution_count": 26,
     "metadata": {},
     "output_type": "execute_result"
    }
   ],
   "source": [
    "sorted_text_duplicates.isna().sum()"
   ]
  },
  {
   "cell_type": "code",
   "execution_count": null,
   "id": "23f09a06",
   "metadata": {},
   "outputs": [],
   "source": []
  },
  {
   "cell_type": "code",
   "execution_count": 27,
   "id": "e3bab49d",
   "metadata": {},
   "outputs": [
    {
     "data": {
      "text/plain": [
       "text           0\n",
       "label          0\n",
       "query_index    0\n",
       "dtype: int64"
      ]
     },
     "execution_count": 27,
     "metadata": {},
     "output_type": "execute_result"
    }
   ],
   "source": [
    "df.isna().sum()"
   ]
  },
  {
   "cell_type": "code",
   "execution_count": 28,
   "id": "28f0f89d",
   "metadata": {},
   "outputs": [],
   "source": [
    "df.drop_duplicates(subset=[\"text\"],keep=\"first\",inplace=True)"
   ]
  },
  {
   "cell_type": "code",
   "execution_count": 29,
   "id": "c87fa259",
   "metadata": {},
   "outputs": [
    {
     "data": {
      "text/plain": [
       "(13084, 3)"
      ]
     },
     "execution_count": 29,
     "metadata": {},
     "output_type": "execute_result"
    }
   ],
   "source": [
    "df.shape"
   ]
  },
  {
   "cell_type": "code",
   "execution_count": null,
   "id": "42772d97",
   "metadata": {
    "scrolled": false
   },
   "outputs": [],
   "source": []
  },
  {
   "cell_type": "code",
   "execution_count": null,
   "id": "78ffe0fb",
   "metadata": {},
   "outputs": [],
   "source": []
  },
  {
   "cell_type": "code",
   "execution_count": 30,
   "id": "4fee2ee6",
   "metadata": {},
   "outputs": [
    {
     "data": {
      "text/plain": [
       "526cd7f17526    1\n",
       "be7f630d23e6    1\n",
       "c76d0689bc38    1\n",
       "7b7132a101a3    1\n",
       "048df7723d23    1\n",
       "               ..\n",
       "c2ff064df31a    1\n",
       "1b5c41964834    1\n",
       "57be586d1da7    1\n",
       "c5e8492cfaf5    1\n",
       "f7e5a9b88449    1\n",
       "Name: query_index, Length: 13084, dtype: int64"
      ]
     },
     "execution_count": 30,
     "metadata": {},
     "output_type": "execute_result"
    }
   ],
   "source": [
    "df['query_index'].value_counts()"
   ]
  },
  {
   "cell_type": "code",
   "execution_count": 31,
   "id": "c58864c6",
   "metadata": {},
   "outputs": [
    {
     "data": {
      "text/plain": [
       "13084"
      ]
     },
     "execution_count": 31,
     "metadata": {},
     "output_type": "execute_result"
    }
   ],
   "source": [
    "(df['query_index'].value_counts() > 0).sum()"
   ]
  },
  {
   "cell_type": "code",
   "execution_count": 32,
   "id": "0d1bf2bc",
   "metadata": {},
   "outputs": [],
   "source": [
    "df.drop(['query_index'], axis=1, inplace=True)"
   ]
  },
  {
   "cell_type": "code",
   "execution_count": null,
   "id": "89c4d131",
   "metadata": {},
   "outputs": [],
   "source": []
  },
  {
   "cell_type": "code",
   "execution_count": 33,
   "id": "0e1eb1e6",
   "metadata": {},
   "outputs": [
    {
     "data": {
      "text/html": [
       "<div>\n",
       "<style scoped>\n",
       "    .dataframe tbody tr th:only-of-type {\n",
       "        vertical-align: middle;\n",
       "    }\n",
       "\n",
       "    .dataframe tbody tr th {\n",
       "        vertical-align: top;\n",
       "    }\n",
       "\n",
       "    .dataframe thead th {\n",
       "        text-align: right;\n",
       "    }\n",
       "</style>\n",
       "<table border=\"1\" class=\"dataframe\">\n",
       "  <thead>\n",
       "    <tr style=\"text-align: right;\">\n",
       "      <th></th>\n",
       "      <th>text</th>\n",
       "      <th>label</th>\n",
       "    </tr>\n",
       "  </thead>\n",
       "  <tbody>\n",
       "    <tr>\n",
       "      <th>0</th>\n",
       "      <td>Can I automatically top-up when traveling?</td>\n",
       "      <td>top_up_queries_or_issues</td>\n",
       "    </tr>\n",
       "    <tr>\n",
       "      <th>1</th>\n",
       "      <td>What kind of fiat currency can I used for hold...</td>\n",
       "      <td>other</td>\n",
       "    </tr>\n",
       "    <tr>\n",
       "      <th>2</th>\n",
       "      <td>I did not get the item I ordered.  How should ...</td>\n",
       "      <td>other</td>\n",
       "    </tr>\n",
       "    <tr>\n",
       "      <th>3</th>\n",
       "      <td>Freeze my account it's been hacked.</td>\n",
       "      <td>needs_troubleshooting</td>\n",
       "    </tr>\n",
       "    <tr>\n",
       "      <th>4</th>\n",
       "      <td>is there a reason that my payment didnt go thr...</td>\n",
       "      <td>other</td>\n",
       "    </tr>\n",
       "    <tr>\n",
       "      <th>...</th>\n",
       "      <td>...</td>\n",
       "      <td>...</td>\n",
       "    </tr>\n",
       "    <tr>\n",
       "      <th>14190</th>\n",
       "      <td>Can you tell me what the disposable cards are ...</td>\n",
       "      <td>card_queries_or_issues</td>\n",
       "    </tr>\n",
       "    <tr>\n",
       "      <th>14191</th>\n",
       "      <td>The ATM won't give me my card back. I need it ...</td>\n",
       "      <td>card_queries_or_issues</td>\n",
       "    </tr>\n",
       "    <tr>\n",
       "      <th>14192</th>\n",
       "      <td>Can you please tell me why my card payments ar...</td>\n",
       "      <td>card_queries_or_issues</td>\n",
       "    </tr>\n",
       "    <tr>\n",
       "      <th>14193</th>\n",
       "      <td>The rate for a currency exchange was wrong whe...</td>\n",
       "      <td>needs_troubleshooting</td>\n",
       "    </tr>\n",
       "    <tr>\n",
       "      <th>14194</th>\n",
       "      <td>Am I able to track the card that was just sent...</td>\n",
       "      <td>card_queries_or_issues</td>\n",
       "    </tr>\n",
       "  </tbody>\n",
       "</table>\n",
       "<p>13084 rows × 2 columns</p>\n",
       "</div>"
      ],
      "text/plain": [
       "                                                    text  \\\n",
       "0             Can I automatically top-up when traveling?   \n",
       "1      What kind of fiat currency can I used for hold...   \n",
       "2      I did not get the item I ordered.  How should ...   \n",
       "3                    Freeze my account it's been hacked.   \n",
       "4      is there a reason that my payment didnt go thr...   \n",
       "...                                                  ...   \n",
       "14190  Can you tell me what the disposable cards are ...   \n",
       "14191  The ATM won't give me my card back. I need it ...   \n",
       "14192  Can you please tell me why my card payments ar...   \n",
       "14193  The rate for a currency exchange was wrong whe...   \n",
       "14194  Am I able to track the card that was just sent...   \n",
       "\n",
       "                          label  \n",
       "0      top_up_queries_or_issues  \n",
       "1                         other  \n",
       "2                         other  \n",
       "3         needs_troubleshooting  \n",
       "4                         other  \n",
       "...                         ...  \n",
       "14190    card_queries_or_issues  \n",
       "14191    card_queries_or_issues  \n",
       "14192    card_queries_or_issues  \n",
       "14193     needs_troubleshooting  \n",
       "14194    card_queries_or_issues  \n",
       "\n",
       "[13084 rows x 2 columns]"
      ]
     },
     "execution_count": 33,
     "metadata": {},
     "output_type": "execute_result"
    }
   ],
   "source": [
    "df"
   ]
  },
  {
   "cell_type": "code",
   "execution_count": 34,
   "id": "07b24762",
   "metadata": {},
   "outputs": [
    {
     "name": "stdout",
     "output_type": "stream",
     "text": [
      "<class 'pandas.core.frame.DataFrame'>\n",
      "Int64Index: 13084 entries, 0 to 14194\n",
      "Data columns (total 2 columns):\n",
      " #   Column  Non-Null Count  Dtype \n",
      "---  ------  --------------  ----- \n",
      " 0   text    13084 non-null  object\n",
      " 1   label   13084 non-null  object\n",
      "dtypes: object(2)\n",
      "memory usage: 306.7+ KB\n"
     ]
    }
   ],
   "source": [
    "df.info()"
   ]
  },
  {
   "cell_type": "code",
   "execution_count": 35,
   "id": "7039c238",
   "metadata": {},
   "outputs": [
    {
     "data": {
      "text/html": [
       "<div>\n",
       "<style scoped>\n",
       "    .dataframe tbody tr th:only-of-type {\n",
       "        vertical-align: middle;\n",
       "    }\n",
       "\n",
       "    .dataframe tbody tr th {\n",
       "        vertical-align: top;\n",
       "    }\n",
       "\n",
       "    .dataframe thead th {\n",
       "        text-align: right;\n",
       "    }\n",
       "</style>\n",
       "<table border=\"1\" class=\"dataframe\">\n",
       "  <thead>\n",
       "    <tr style=\"text-align: right;\">\n",
       "      <th></th>\n",
       "      <th>text</th>\n",
       "      <th>label</th>\n",
       "    </tr>\n",
       "  </thead>\n",
       "  <tbody>\n",
       "    <tr>\n",
       "      <th>0</th>\n",
       "      <td>Can I automatically top-up when traveling?</td>\n",
       "      <td>top_up_queries_or_issues</td>\n",
       "    </tr>\n",
       "    <tr>\n",
       "      <th>1</th>\n",
       "      <td>What kind of fiat currency can I used for hold...</td>\n",
       "      <td>other</td>\n",
       "    </tr>\n",
       "    <tr>\n",
       "      <th>2</th>\n",
       "      <td>I did not get the item I ordered.  How should ...</td>\n",
       "      <td>other</td>\n",
       "    </tr>\n",
       "    <tr>\n",
       "      <th>3</th>\n",
       "      <td>Freeze my account it's been hacked.</td>\n",
       "      <td>needs_troubleshooting</td>\n",
       "    </tr>\n",
       "    <tr>\n",
       "      <th>4</th>\n",
       "      <td>is there a reason that my payment didnt go thr...</td>\n",
       "      <td>other</td>\n",
       "    </tr>\n",
       "  </tbody>\n",
       "</table>\n",
       "</div>"
      ],
      "text/plain": [
       "                                                text                     label\n",
       "0         Can I automatically top-up when traveling?  top_up_queries_or_issues\n",
       "1  What kind of fiat currency can I used for hold...                     other\n",
       "2  I did not get the item I ordered.  How should ...                     other\n",
       "3                Freeze my account it's been hacked.     needs_troubleshooting\n",
       "4  is there a reason that my payment didnt go thr...                     other"
      ]
     },
     "execution_count": 35,
     "metadata": {},
     "output_type": "execute_result"
    }
   ],
   "source": [
    "df.head()"
   ]
  },
  {
   "cell_type": "code",
   "execution_count": 36,
   "id": "757adb44",
   "metadata": {},
   "outputs": [
    {
     "data": {
      "text/html": [
       "<div>\n",
       "<style scoped>\n",
       "    .dataframe tbody tr th:only-of-type {\n",
       "        vertical-align: middle;\n",
       "    }\n",
       "\n",
       "    .dataframe tbody tr th {\n",
       "        vertical-align: top;\n",
       "    }\n",
       "\n",
       "    .dataframe thead th {\n",
       "        text-align: right;\n",
       "    }\n",
       "</style>\n",
       "<table border=\"1\" class=\"dataframe\">\n",
       "  <thead>\n",
       "    <tr style=\"text-align: right;\">\n",
       "      <th></th>\n",
       "      <th>text</th>\n",
       "      <th>label</th>\n",
       "    </tr>\n",
       "  </thead>\n",
       "  <tbody>\n",
       "    <tr>\n",
       "      <th>count</th>\n",
       "      <td>13084</td>\n",
       "      <td>13084</td>\n",
       "    </tr>\n",
       "    <tr>\n",
       "      <th>unique</th>\n",
       "      <td>13084</td>\n",
       "      <td>4</td>\n",
       "    </tr>\n",
       "    <tr>\n",
       "      <th>top</th>\n",
       "      <td>Can I automatically top-up when traveling?</td>\n",
       "      <td>other</td>\n",
       "    </tr>\n",
       "    <tr>\n",
       "      <th>freq</th>\n",
       "      <td>1</td>\n",
       "      <td>4804</td>\n",
       "    </tr>\n",
       "  </tbody>\n",
       "</table>\n",
       "</div>"
      ],
      "text/plain": [
       "                                              text  label\n",
       "count                                        13084  13084\n",
       "unique                                       13084      4\n",
       "top     Can I automatically top-up when traveling?  other\n",
       "freq                                             1   4804"
      ]
     },
     "execution_count": 36,
     "metadata": {},
     "output_type": "execute_result"
    }
   ],
   "source": [
    "df.describe()"
   ]
  },
  {
   "cell_type": "code",
   "execution_count": 37,
   "id": "6b247c2e",
   "metadata": {},
   "outputs": [
    {
     "data": {
      "text/html": [
       "<div>\n",
       "<style scoped>\n",
       "    .dataframe tbody tr th:only-of-type {\n",
       "        vertical-align: middle;\n",
       "    }\n",
       "\n",
       "    .dataframe tbody tr th {\n",
       "        vertical-align: top;\n",
       "    }\n",
       "\n",
       "    .dataframe thead th {\n",
       "        text-align: right;\n",
       "    }\n",
       "</style>\n",
       "<table border=\"1\" class=\"dataframe\">\n",
       "  <thead>\n",
       "    <tr style=\"text-align: right;\">\n",
       "      <th></th>\n",
       "      <th>text</th>\n",
       "    </tr>\n",
       "  </thead>\n",
       "  <tbody>\n",
       "    <tr>\n",
       "      <th>Can I automatically top-up when traveling?</th>\n",
       "      <td>1</td>\n",
       "    </tr>\n",
       "    <tr>\n",
       "      <th>I was charged for a cash withdrawal.</th>\n",
       "      <td>1</td>\n",
       "    </tr>\n",
       "    <tr>\n",
       "      <th>I asked for $40 and I only received $20, what happened?</th>\n",
       "      <td>1</td>\n",
       "    </tr>\n",
       "    <tr>\n",
       "      <th>Can you tell me how long it would take, to make a transfer from France? I made one 2 days ago and its not there yet.</th>\n",
       "      <td>1</td>\n",
       "    </tr>\n",
       "    <tr>\n",
       "      <th>I want to reverse a transaction I did this morning</th>\n",
       "      <td>1</td>\n",
       "    </tr>\n",
       "    <tr>\n",
       "      <th>...</th>\n",
       "      <td>...</td>\n",
       "    </tr>\n",
       "    <tr>\n",
       "      <th>Are there fees for adding money using an international card</th>\n",
       "      <td>1</td>\n",
       "    </tr>\n",
       "    <tr>\n",
       "      <th>The card I thought I lost was in my jacket pocket this morning, so can I reactivate that?</th>\n",
       "      <td>1</td>\n",
       "    </tr>\n",
       "    <tr>\n",
       "      <th>What types of foreign money can be used with this service.?</th>\n",
       "      <td>1</td>\n",
       "    </tr>\n",
       "    <tr>\n",
       "      <th>I have transfered to my account before but it is being declined now?</th>\n",
       "      <td>1</td>\n",
       "    </tr>\n",
       "    <tr>\n",
       "      <th>Am I able to track the card that was just sent to me?</th>\n",
       "      <td>1</td>\n",
       "    </tr>\n",
       "  </tbody>\n",
       "</table>\n",
       "<p>13084 rows × 1 columns</p>\n",
       "</div>"
      ],
      "text/plain": [
       "                                                    text\n",
       "Can I automatically top-up when traveling?             1\n",
       "I was charged for a cash withdrawal.                   1\n",
       "I asked for $40 and I only received $20, what h...     1\n",
       "Can you tell me how long it would take, to make...     1\n",
       "I want to reverse a transaction I did this morning     1\n",
       "...                                                  ...\n",
       "Are there fees for adding money using an intern...     1\n",
       "The card I thought I lost was in my jacket pock...     1\n",
       "What types of foreign money can be used with th...     1\n",
       "I have transfered to my account before but it i...     1\n",
       "Am I able to track the card that was just sent ...     1\n",
       "\n",
       "[13084 rows x 1 columns]"
      ]
     },
     "execution_count": 37,
     "metadata": {},
     "output_type": "execute_result"
    }
   ],
   "source": [
    "pd.DataFrame(df['text'].value_counts())"
   ]
  },
  {
   "cell_type": "code",
   "execution_count": 38,
   "id": "898dee2b",
   "metadata": {},
   "outputs": [
    {
     "data": {
      "text/html": [
       "<div>\n",
       "<style scoped>\n",
       "    .dataframe tbody tr th:only-of-type {\n",
       "        vertical-align: middle;\n",
       "    }\n",
       "\n",
       "    .dataframe tbody tr th {\n",
       "        vertical-align: top;\n",
       "    }\n",
       "\n",
       "    .dataframe thead th {\n",
       "        text-align: right;\n",
       "    }\n",
       "</style>\n",
       "<table border=\"1\" class=\"dataframe\">\n",
       "  <thead>\n",
       "    <tr style=\"text-align: right;\">\n",
       "      <th></th>\n",
       "      <th>text</th>\n",
       "      <th>label</th>\n",
       "    </tr>\n",
       "  </thead>\n",
       "  <tbody>\n",
       "    <tr>\n",
       "      <th>0</th>\n",
       "      <td>Can I automatically top-up when traveling?</td>\n",
       "      <td>top_up_queries_or_issues</td>\n",
       "    </tr>\n",
       "    <tr>\n",
       "      <th>1</th>\n",
       "      <td>What kind of fiat currency can I used for hold...</td>\n",
       "      <td>other</td>\n",
       "    </tr>\n",
       "    <tr>\n",
       "      <th>2</th>\n",
       "      <td>I did not get the item I ordered.  How should ...</td>\n",
       "      <td>other</td>\n",
       "    </tr>\n",
       "    <tr>\n",
       "      <th>3</th>\n",
       "      <td>Freeze my account it's been hacked.</td>\n",
       "      <td>needs_troubleshooting</td>\n",
       "    </tr>\n",
       "    <tr>\n",
       "      <th>4</th>\n",
       "      <td>is there a reason that my payment didnt go thr...</td>\n",
       "      <td>other</td>\n",
       "    </tr>\n",
       "    <tr>\n",
       "      <th>...</th>\n",
       "      <td>...</td>\n",
       "      <td>...</td>\n",
       "    </tr>\n",
       "    <tr>\n",
       "      <th>14190</th>\n",
       "      <td>Can you tell me what the disposable cards are ...</td>\n",
       "      <td>card_queries_or_issues</td>\n",
       "    </tr>\n",
       "    <tr>\n",
       "      <th>14191</th>\n",
       "      <td>The ATM won't give me my card back. I need it ...</td>\n",
       "      <td>card_queries_or_issues</td>\n",
       "    </tr>\n",
       "    <tr>\n",
       "      <th>14192</th>\n",
       "      <td>Can you please tell me why my card payments ar...</td>\n",
       "      <td>card_queries_or_issues</td>\n",
       "    </tr>\n",
       "    <tr>\n",
       "      <th>14193</th>\n",
       "      <td>The rate for a currency exchange was wrong whe...</td>\n",
       "      <td>needs_troubleshooting</td>\n",
       "    </tr>\n",
       "    <tr>\n",
       "      <th>14194</th>\n",
       "      <td>Am I able to track the card that was just sent...</td>\n",
       "      <td>card_queries_or_issues</td>\n",
       "    </tr>\n",
       "  </tbody>\n",
       "</table>\n",
       "<p>13084 rows × 2 columns</p>\n",
       "</div>"
      ],
      "text/plain": [
       "                                                    text  \\\n",
       "0             Can I automatically top-up when traveling?   \n",
       "1      What kind of fiat currency can I used for hold...   \n",
       "2      I did not get the item I ordered.  How should ...   \n",
       "3                    Freeze my account it's been hacked.   \n",
       "4      is there a reason that my payment didnt go thr...   \n",
       "...                                                  ...   \n",
       "14190  Can you tell me what the disposable cards are ...   \n",
       "14191  The ATM won't give me my card back. I need it ...   \n",
       "14192  Can you please tell me why my card payments ar...   \n",
       "14193  The rate for a currency exchange was wrong whe...   \n",
       "14194  Am I able to track the card that was just sent...   \n",
       "\n",
       "                          label  \n",
       "0      top_up_queries_or_issues  \n",
       "1                         other  \n",
       "2                         other  \n",
       "3         needs_troubleshooting  \n",
       "4                         other  \n",
       "...                         ...  \n",
       "14190    card_queries_or_issues  \n",
       "14191    card_queries_or_issues  \n",
       "14192    card_queries_or_issues  \n",
       "14193     needs_troubleshooting  \n",
       "14194    card_queries_or_issues  \n",
       "\n",
       "[13084 rows x 2 columns]"
      ]
     },
     "execution_count": 38,
     "metadata": {},
     "output_type": "execute_result"
    }
   ],
   "source": [
    "df"
   ]
  },
  {
   "cell_type": "code",
   "execution_count": null,
   "id": "43e65644",
   "metadata": {},
   "outputs": [],
   "source": []
  },
  {
   "cell_type": "code",
   "execution_count": null,
   "id": "760e2ee7",
   "metadata": {},
   "outputs": [],
   "source": []
  },
  {
   "cell_type": "code",
   "execution_count": null,
   "id": "f51edb22",
   "metadata": {},
   "outputs": [],
   "source": []
  },
  {
   "cell_type": "code",
   "execution_count": null,
   "id": "a91388e0",
   "metadata": {},
   "outputs": [],
   "source": []
  },
  {
   "cell_type": "markdown",
   "id": "4b01ba1f",
   "metadata": {},
   "source": [
    "# EDA"
   ]
  },
  {
   "cell_type": "code",
   "execution_count": 39,
   "id": "788b8011",
   "metadata": {},
   "outputs": [],
   "source": [
    "df1 = df.copy()"
   ]
  },
  {
   "cell_type": "code",
   "execution_count": 40,
   "id": "8dea1d31",
   "metadata": {},
   "outputs": [
    {
     "data": {
      "text/html": [
       "<div>\n",
       "<style scoped>\n",
       "    .dataframe tbody tr th:only-of-type {\n",
       "        vertical-align: middle;\n",
       "    }\n",
       "\n",
       "    .dataframe tbody tr th {\n",
       "        vertical-align: top;\n",
       "    }\n",
       "\n",
       "    .dataframe thead th {\n",
       "        text-align: right;\n",
       "    }\n",
       "</style>\n",
       "<table border=\"1\" class=\"dataframe\">\n",
       "  <thead>\n",
       "    <tr style=\"text-align: right;\">\n",
       "      <th></th>\n",
       "      <th>text</th>\n",
       "      <th>label</th>\n",
       "    </tr>\n",
       "  </thead>\n",
       "  <tbody>\n",
       "    <tr>\n",
       "      <th>0</th>\n",
       "      <td>Can I automatically top-up when traveling?</td>\n",
       "      <td>top_up_queries_or_issues</td>\n",
       "    </tr>\n",
       "    <tr>\n",
       "      <th>1</th>\n",
       "      <td>What kind of fiat currency can I used for hold...</td>\n",
       "      <td>other</td>\n",
       "    </tr>\n",
       "    <tr>\n",
       "      <th>2</th>\n",
       "      <td>I did not get the item I ordered.  How should ...</td>\n",
       "      <td>other</td>\n",
       "    </tr>\n",
       "    <tr>\n",
       "      <th>3</th>\n",
       "      <td>Freeze my account it's been hacked.</td>\n",
       "      <td>needs_troubleshooting</td>\n",
       "    </tr>\n",
       "    <tr>\n",
       "      <th>4</th>\n",
       "      <td>is there a reason that my payment didnt go thr...</td>\n",
       "      <td>other</td>\n",
       "    </tr>\n",
       "    <tr>\n",
       "      <th>...</th>\n",
       "      <td>...</td>\n",
       "      <td>...</td>\n",
       "    </tr>\n",
       "    <tr>\n",
       "      <th>14190</th>\n",
       "      <td>Can you tell me what the disposable cards are ...</td>\n",
       "      <td>card_queries_or_issues</td>\n",
       "    </tr>\n",
       "    <tr>\n",
       "      <th>14191</th>\n",
       "      <td>The ATM won't give me my card back. I need it ...</td>\n",
       "      <td>card_queries_or_issues</td>\n",
       "    </tr>\n",
       "    <tr>\n",
       "      <th>14192</th>\n",
       "      <td>Can you please tell me why my card payments ar...</td>\n",
       "      <td>card_queries_or_issues</td>\n",
       "    </tr>\n",
       "    <tr>\n",
       "      <th>14193</th>\n",
       "      <td>The rate for a currency exchange was wrong whe...</td>\n",
       "      <td>needs_troubleshooting</td>\n",
       "    </tr>\n",
       "    <tr>\n",
       "      <th>14194</th>\n",
       "      <td>Am I able to track the card that was just sent...</td>\n",
       "      <td>card_queries_or_issues</td>\n",
       "    </tr>\n",
       "  </tbody>\n",
       "</table>\n",
       "<p>13084 rows × 2 columns</p>\n",
       "</div>"
      ],
      "text/plain": [
       "                                                    text  \\\n",
       "0             Can I automatically top-up when traveling?   \n",
       "1      What kind of fiat currency can I used for hold...   \n",
       "2      I did not get the item I ordered.  How should ...   \n",
       "3                    Freeze my account it's been hacked.   \n",
       "4      is there a reason that my payment didnt go thr...   \n",
       "...                                                  ...   \n",
       "14190  Can you tell me what the disposable cards are ...   \n",
       "14191  The ATM won't give me my card back. I need it ...   \n",
       "14192  Can you please tell me why my card payments ar...   \n",
       "14193  The rate for a currency exchange was wrong whe...   \n",
       "14194  Am I able to track the card that was just sent...   \n",
       "\n",
       "                          label  \n",
       "0      top_up_queries_or_issues  \n",
       "1                         other  \n",
       "2                         other  \n",
       "3         needs_troubleshooting  \n",
       "4                         other  \n",
       "...                         ...  \n",
       "14190    card_queries_or_issues  \n",
       "14191    card_queries_or_issues  \n",
       "14192    card_queries_or_issues  \n",
       "14193     needs_troubleshooting  \n",
       "14194    card_queries_or_issues  \n",
       "\n",
       "[13084 rows x 2 columns]"
      ]
     },
     "execution_count": 40,
     "metadata": {},
     "output_type": "execute_result"
    }
   ],
   "source": [
    "df1"
   ]
  },
  {
   "cell_type": "code",
   "execution_count": 41,
   "id": "ee63095f",
   "metadata": {
    "scrolled": true
   },
   "outputs": [
    {
     "data": {
      "text/plain": [
       "(13084, 2)"
      ]
     },
     "execution_count": 41,
     "metadata": {},
     "output_type": "execute_result"
    }
   ],
   "source": [
    "df1.shape"
   ]
  },
  {
   "cell_type": "markdown",
   "id": "661c607c",
   "metadata": {},
   "source": [
    "### Label Distribution"
   ]
  },
  {
   "cell_type": "code",
   "execution_count": 42,
   "id": "ed3c260a",
   "metadata": {},
   "outputs": [
    {
     "data": {
      "image/png": "[encoded data removed]",
      "text/plain": [
       "<Figure size 900x500 with 1 Axes>"
      ]
     },
     "metadata": {},
     "output_type": "display_data"
    }
   ],
   "source": [
    "x_label = df1['label'].value_counts()\n",
    "y_count = x_label.sort_index()\n",
    "plt.figure(figsize=(9,5))\n",
    "sns.barplot(x=y_count.index, y=y_count.values, alpha=0.7)\n",
    "plt.title(\"Label Distribution\", fontsize=12)\n",
    "plt.ylabel('Frequency', fontsize=10)\n",
    "plt.yticks(fontsize=9)\n",
    "plt.xlabel('Question Labels', fontsize=10)\n",
    "plt.xticks(fontsize=9, rotation=0)\n",
    "plt.show()"
   ]
  },
  {
   "cell_type": "code",
   "execution_count": 43,
   "id": "7035ded2",
   "metadata": {},
   "outputs": [
    {
     "data": {
      "image/png": "[encoded data removed]",
      "text/plain": [
       "<Figure size 500x500 with 1 Axes>"
      ]
     },
     "metadata": {},
     "output_type": "display_data"
    }
   ],
   "source": [
    "x_label = df1['label'].value_counts()\n",
    "plt.figure(figsize=(5, 5))\n",
    "colors = ['tab:blue', 'tab:orange', 'tab:green', 'tab:red']\n",
    "alpha = 0.7\n",
    "transparent_colors = [(r, g, b, alpha) for r, g, b in plt.cm.tab10.colors]\n",
    "plt.pie(x_label.values, labels=x_label.index, autopct='%1.1f%%', startangle=90, colors=transparent_colors)\n",
    "plt.title('Percentage of Labels')\n",
    "plt.axis('equal')\n",
    "plt.show()"
   ]
  },
  {
   "cell_type": "markdown",
   "id": "e7713a88",
   "metadata": {},
   "source": [
    "### Avg. Number of Words per Label"
   ]
  },
  {
   "cell_type": "code",
   "execution_count": 44,
   "id": "1b9e95ca",
   "metadata": {},
   "outputs": [],
   "source": [
    "df1['word_count'] = df['text'].apply(lambda x: len(str(x).split()))"
   ]
  },
  {
   "cell_type": "code",
   "execution_count": 45,
   "id": "8feb32e0",
   "metadata": {},
   "outputs": [
    {
     "data": {
      "text/html": [
       "<div>\n",
       "<style scoped>\n",
       "    .dataframe tbody tr th:only-of-type {\n",
       "        vertical-align: middle;\n",
       "    }\n",
       "\n",
       "    .dataframe tbody tr th {\n",
       "        vertical-align: top;\n",
       "    }\n",
       "\n",
       "    .dataframe thead th {\n",
       "        text-align: right;\n",
       "    }\n",
       "</style>\n",
       "<table border=\"1\" class=\"dataframe\">\n",
       "  <thead>\n",
       "    <tr style=\"text-align: right;\">\n",
       "      <th></th>\n",
       "      <th>text</th>\n",
       "      <th>label</th>\n",
       "      <th>word_count</th>\n",
       "    </tr>\n",
       "  </thead>\n",
       "  <tbody>\n",
       "    <tr>\n",
       "      <th>0</th>\n",
       "      <td>Can I automatically top-up when traveling?</td>\n",
       "      <td>top_up_queries_or_issues</td>\n",
       "      <td>6</td>\n",
       "    </tr>\n",
       "    <tr>\n",
       "      <th>1</th>\n",
       "      <td>What kind of fiat currency can I used for hold...</td>\n",
       "      <td>other</td>\n",
       "      <td>12</td>\n",
       "    </tr>\n",
       "    <tr>\n",
       "      <th>2</th>\n",
       "      <td>I did not get the item I ordered.  How should ...</td>\n",
       "      <td>other</td>\n",
       "      <td>26</td>\n",
       "    </tr>\n",
       "    <tr>\n",
       "      <th>3</th>\n",
       "      <td>Freeze my account it's been hacked.</td>\n",
       "      <td>needs_troubleshooting</td>\n",
       "      <td>6</td>\n",
       "    </tr>\n",
       "    <tr>\n",
       "      <th>4</th>\n",
       "      <td>is there a reason that my payment didnt go thr...</td>\n",
       "      <td>other</td>\n",
       "      <td>10</td>\n",
       "    </tr>\n",
       "    <tr>\n",
       "      <th>...</th>\n",
       "      <td>...</td>\n",
       "      <td>...</td>\n",
       "      <td>...</td>\n",
       "    </tr>\n",
       "    <tr>\n",
       "      <th>14190</th>\n",
       "      <td>Can you tell me what the disposable cards are ...</td>\n",
       "      <td>card_queries_or_issues</td>\n",
       "      <td>11</td>\n",
       "    </tr>\n",
       "    <tr>\n",
       "      <th>14191</th>\n",
       "      <td>The ATM won't give me my card back. I need it ...</td>\n",
       "      <td>card_queries_or_issues</td>\n",
       "      <td>13</td>\n",
       "    </tr>\n",
       "    <tr>\n",
       "      <th>14192</th>\n",
       "      <td>Can you please tell me why my card payments ar...</td>\n",
       "      <td>card_queries_or_issues</td>\n",
       "      <td>37</td>\n",
       "    </tr>\n",
       "    <tr>\n",
       "      <th>14193</th>\n",
       "      <td>The rate for a currency exchange was wrong whe...</td>\n",
       "      <td>needs_troubleshooting</td>\n",
       "      <td>12</td>\n",
       "    </tr>\n",
       "    <tr>\n",
       "      <th>14194</th>\n",
       "      <td>Am I able to track the card that was just sent...</td>\n",
       "      <td>card_queries_or_issues</td>\n",
       "      <td>13</td>\n",
       "    </tr>\n",
       "  </tbody>\n",
       "</table>\n",
       "<p>13084 rows × 3 columns</p>\n",
       "</div>"
      ],
      "text/plain": [
       "                                                    text  \\\n",
       "0             Can I automatically top-up when traveling?   \n",
       "1      What kind of fiat currency can I used for hold...   \n",
       "2      I did not get the item I ordered.  How should ...   \n",
       "3                    Freeze my account it's been hacked.   \n",
       "4      is there a reason that my payment didnt go thr...   \n",
       "...                                                  ...   \n",
       "14190  Can you tell me what the disposable cards are ...   \n",
       "14191  The ATM won't give me my card back. I need it ...   \n",
       "14192  Can you please tell me why my card payments ar...   \n",
       "14193  The rate for a currency exchange was wrong whe...   \n",
       "14194  Am I able to track the card that was just sent...   \n",
       "\n",
       "                          label  word_count  \n",
       "0      top_up_queries_or_issues           6  \n",
       "1                         other          12  \n",
       "2                         other          26  \n",
       "3         needs_troubleshooting           6  \n",
       "4                         other          10  \n",
       "...                         ...         ...  \n",
       "14190    card_queries_or_issues          11  \n",
       "14191    card_queries_or_issues          13  \n",
       "14192    card_queries_or_issues          37  \n",
       "14193     needs_troubleshooting          12  \n",
       "14194    card_queries_or_issues          13  \n",
       "\n",
       "[13084 rows x 3 columns]"
      ]
     },
     "execution_count": 45,
     "metadata": {},
     "output_type": "execute_result"
    }
   ],
   "source": [
    "df1"
   ]
  },
  {
   "cell_type": "code",
   "execution_count": 46,
   "id": "e3e28109",
   "metadata": {},
   "outputs": [
    {
     "data": {
      "image/png": "[encoded data removed]",
      "text/plain": [
       "<Figure size 900x500 with 1 Axes>"
      ]
     },
     "metadata": {},
     "output_type": "display_data"
    }
   ],
   "source": [
    "word_avg = df1.groupby('label')['word_count'].mean().plot(kind='bar', figsize=(9,5))\n",
    "plt.xlabel('Label', fontsize=11)\n",
    "plt.ylabel('Count of Words in Label', fontsize=11)\n",
    "plt.xticks(fontsize=10, rotation=0)\n",
    "plt.yticks(fontsize=10)\n",
    "plt.title('Average Number of Words per Label Distribution', fontsize=12)\n",
    "plt.show()"
   ]
  },
  {
   "cell_type": "markdown",
   "id": "a6de055b",
   "metadata": {},
   "source": [
    "### Word Frequency Analysis"
   ]
  },
  {
   "cell_type": "code",
   "execution_count": 46,
   "id": "d66b9180",
   "metadata": {},
   "outputs": [],
   "source": [
    "# text_df1 = df1['text']\n",
    "# all_words = []\n",
    "# for wordlist in text_df1:\n",
    "#     for word in wordlist.split():\n",
    "#         all_words.append(word)"
   ]
  },
  {
   "cell_type": "code",
   "execution_count": 47,
   "id": "f8731cbc",
   "metadata": {},
   "outputs": [],
   "source": [
    "# all_words"
   ]
  },
  {
   "cell_type": "code",
   "execution_count": 48,
   "id": "33bd3d95",
   "metadata": {},
   "outputs": [],
   "source": [
    "# unique_labels = df1['label'].unique()\n",
    "# print(unique_labels)"
   ]
  },
  {
   "cell_type": "code",
   "execution_count": 49,
   "id": "2cb7c636",
   "metadata": {},
   "outputs": [],
   "source": [
    "# from collections import Counter\n",
    "\n",
    "# group_by = df1.groupby('label')['text'].apply(lambda x: Counter(' '.join(x).split()).most_common(25))\n",
    "# group_by_0 = group_by.iloc[0]\n",
    "# words0 = list(zip(*group_by_0))[0]\n",
    "# freq0 = list(zip(*group_by_0))[1]\n",
    "# plt.figure(figsize=(50,30))\n",
    "# plt.bar(words0, freq0)\n",
    "# plt.xlabel('Words', fontsize=50)\n",
    "# plt.ylabel('Frequency of Words', fontsize=50)\n",
    "# plt.yticks(fontsize=40)\n",
    "# plt.xticks(rotation=60, fontsize=40)\n",
    "# plt.title('Frequency of 25 Most Common Words for Rating=1', fontsize=60)\n",
    "# plt.show()"
   ]
  },
  {
   "cell_type": "code",
   "execution_count": null,
   "id": "ae963872",
   "metadata": {},
   "outputs": [],
   "source": []
  },
  {
   "cell_type": "code",
   "execution_count": null,
   "id": "f4d1aa6c",
   "metadata": {},
   "outputs": [],
   "source": []
  },
  {
   "cell_type": "code",
   "execution_count": null,
   "id": "dcf11509",
   "metadata": {},
   "outputs": [],
   "source": []
  },
  {
   "cell_type": "markdown",
   "id": "7d574f63",
   "metadata": {},
   "source": [
    "# Data Preprocessing"
   ]
  },
  {
   "cell_type": "code",
   "execution_count": 50,
   "id": "6dc40598",
   "metadata": {},
   "outputs": [],
   "source": [
    "# import pandas as pd\n",
    "# import re\n",
    "# from nltk.tokenize import word_tokenize\n",
    "# from nltk.corpus import stopwords\n",
    "# from nltk.stem import PorterStemmer, WordNetLemmatizer\n",
    "\n",
    "# def preprocess(df, use_stemming=False, use_lemmatization=True):\n",
    "#     # convert text to lowercase\n",
    "#     df['text'] = df['text'].str.lower()\n",
    "    \n",
    "#     # remove special characters and digits\n",
    "#     df['text'] = df['text'].apply(lambda x: re.sub('[^a-zA-Z\\s]', '', x))\n",
    "#     df['text'] = df['text'].apply(lambda x: re.sub('\\d+', '', x))\n",
    "    \n",
    "#     # tokenize text\n",
    "#     df['text'] = df['text'].apply(word_tokenize)\n",
    "    \n",
    "#     # remove stopwords\n",
    "#     stop_words = set(stopwords.words('english'))\n",
    "#     df['text'] = df['text'].apply(lambda x: [word for word in x if word not in stop_words])\n",
    "    \n",
    "#     # apply stemming and/or lemmatization\n",
    "#     if use_stemming:\n",
    "#         stemmer = PorterStemmer()\n",
    "#         df['text'] = df['text'].apply(lambda x: [stemmer.stem(word) for word in x])\n",
    "    \n",
    "#     if use_lemmatization:\n",
    "#         lemmatizer = WordNetLemmatizer()\n",
    "#         df['text'] = df['text'].apply(lambda x: [lemmatizer.lemmatize(word) for word in x])\n",
    "    \n",
    "#     return df\n"
   ]
  },
  {
   "cell_type": "code",
   "execution_count": 47,
   "id": "7bb01705",
   "metadata": {},
   "outputs": [],
   "source": [
    "def preprocess_text(text, use_stemming=False, use_lemmatization=True):\n",
    "    # Convert to lowercase\n",
    "    text = text.lower()\n",
    "\n",
    "    # Remove special characters and digits\n",
    "    text = re.sub('[^a-zA-Z\\s]', '', text)\n",
    "    text = re.sub('\\d+', '', text)\n",
    "\n",
    "    # Tokenize text\n",
    "    words = word_tokenize(text)\n",
    "\n",
    "    # Remove stopwords\n",
    "    stop_words = set(stopwords.words('english'))\n",
    "    words = [word for word in words if word not in stop_words]\n",
    "\n",
    "    # Apply stemming and/or lemmatization\n",
    "    if use_stemming:\n",
    "        stemmer = PorterStemmer()\n",
    "        words = [stemmer.stem(word) for word in words]\n",
    "\n",
    "    if use_lemmatization:\n",
    "        lemmatizer = WordNetLemmatizer()\n",
    "        words = [lemmatizer.lemmatize(word) for word in words]\n",
    "\n",
    "    # Join words back into a string\n",
    "    text = ' '.join(words)\n",
    "\n",
    "    return text\n"
   ]
  },
  {
   "cell_type": "code",
   "execution_count": 48,
   "id": "c1772f1c",
   "metadata": {},
   "outputs": [],
   "source": [
    "df['text'] = df['text'].apply(preprocess_text)"
   ]
  },
  {
   "cell_type": "code",
   "execution_count": 49,
   "id": "34845db3",
   "metadata": {},
   "outputs": [
    {
     "data": {
      "text/html": [
       "<div>\n",
       "<style scoped>\n",
       "    .dataframe tbody tr th:only-of-type {\n",
       "        vertical-align: middle;\n",
       "    }\n",
       "\n",
       "    .dataframe tbody tr th {\n",
       "        vertical-align: top;\n",
       "    }\n",
       "\n",
       "    .dataframe thead th {\n",
       "        text-align: right;\n",
       "    }\n",
       "</style>\n",
       "<table border=\"1\" class=\"dataframe\">\n",
       "  <thead>\n",
       "    <tr style=\"text-align: right;\">\n",
       "      <th></th>\n",
       "      <th>text</th>\n",
       "      <th>label</th>\n",
       "    </tr>\n",
       "  </thead>\n",
       "  <tbody>\n",
       "    <tr>\n",
       "      <th>0</th>\n",
       "      <td>automatically topup traveling</td>\n",
       "      <td>top_up_queries_or_issues</td>\n",
       "    </tr>\n",
       "    <tr>\n",
       "      <th>1</th>\n",
       "      <td>kind fiat currency used holding exchange</td>\n",
       "      <td>other</td>\n",
       "    </tr>\n",
       "    <tr>\n",
       "      <th>2</th>\n",
       "      <td>get item ordered go cancel order payment pleas...</td>\n",
       "      <td>other</td>\n",
       "    </tr>\n",
       "    <tr>\n",
       "      <th>3</th>\n",
       "      <td>freeze account hacked</td>\n",
       "      <td>needs_troubleshooting</td>\n",
       "    </tr>\n",
       "    <tr>\n",
       "      <th>4</th>\n",
       "      <td>reason payment didnt go</td>\n",
       "      <td>other</td>\n",
       "    </tr>\n",
       "    <tr>\n",
       "      <th>...</th>\n",
       "      <td>...</td>\n",
       "      <td>...</td>\n",
       "    </tr>\n",
       "    <tr>\n",
       "      <th>14190</th>\n",
       "      <td>tell disposable card used</td>\n",
       "      <td>card_queries_or_issues</td>\n",
       "    </tr>\n",
       "    <tr>\n",
       "      <th>14191</th>\n",
       "      <td>atm wont give card back need back</td>\n",
       "      <td>card_queries_or_issues</td>\n",
       "    </tr>\n",
       "    <tr>\n",
       "      <th>14192</th>\n",
       "      <td>please tell card payment going try buy somethi...</td>\n",
       "      <td>card_queries_or_issues</td>\n",
       "    </tr>\n",
       "    <tr>\n",
       "      <th>14193</th>\n",
       "      <td>rate currency exchange wrong bought something</td>\n",
       "      <td>needs_troubleshooting</td>\n",
       "    </tr>\n",
       "    <tr>\n",
       "      <th>14194</th>\n",
       "      <td>able track card sent</td>\n",
       "      <td>card_queries_or_issues</td>\n",
       "    </tr>\n",
       "  </tbody>\n",
       "</table>\n",
       "<p>13084 rows × 2 columns</p>\n",
       "</div>"
      ],
      "text/plain": [
       "                                                    text  \\\n",
       "0                          automatically topup traveling   \n",
       "1               kind fiat currency used holding exchange   \n",
       "2      get item ordered go cancel order payment pleas...   \n",
       "3                                  freeze account hacked   \n",
       "4                                reason payment didnt go   \n",
       "...                                                  ...   \n",
       "14190                          tell disposable card used   \n",
       "14191                  atm wont give card back need back   \n",
       "14192  please tell card payment going try buy somethi...   \n",
       "14193      rate currency exchange wrong bought something   \n",
       "14194                               able track card sent   \n",
       "\n",
       "                          label  \n",
       "0      top_up_queries_or_issues  \n",
       "1                         other  \n",
       "2                         other  \n",
       "3         needs_troubleshooting  \n",
       "4                         other  \n",
       "...                         ...  \n",
       "14190    card_queries_or_issues  \n",
       "14191    card_queries_or_issues  \n",
       "14192    card_queries_or_issues  \n",
       "14193     needs_troubleshooting  \n",
       "14194    card_queries_or_issues  \n",
       "\n",
       "[13084 rows x 2 columns]"
      ]
     },
     "execution_count": 49,
     "metadata": {},
     "output_type": "execute_result"
    }
   ],
   "source": [
    "df"
   ]
  },
  {
   "cell_type": "code",
   "execution_count": null,
   "id": "7f48b3d3",
   "metadata": {},
   "outputs": [],
   "source": []
  },
  {
   "cell_type": "code",
   "execution_count": 50,
   "id": "d5763384",
   "metadata": {},
   "outputs": [],
   "source": [
    "df.to_csv('final_df.csv')"
   ]
  },
  {
   "cell_type": "code",
   "execution_count": null,
   "id": "fe23fa05",
   "metadata": {},
   "outputs": [],
   "source": []
  },
  {
   "cell_type": "markdown",
   "id": "1e34cd9b",
   "metadata": {},
   "source": [
    "### Word Frequency Analysis after Stop Word Removal and Preprocessing"
   ]
  },
  {
   "cell_type": "code",
   "execution_count": 51,
   "id": "343775b3",
   "metadata": {},
   "outputs": [],
   "source": [
    "text_df = df['text']\n",
    "all_words = []\n",
    "for wordlist in text_df:\n",
    "    for word in wordlist.split():\n",
    "        all_words.append(word)"
   ]
  },
  {
   "cell_type": "code",
   "execution_count": 52,
   "id": "437e5e66",
   "metadata": {},
   "outputs": [
    {
     "name": "stdout",
     "output_type": "stream",
     "text": [
      "['top_up_queries_or_issues' 'other' 'needs_troubleshooting'\n",
      " 'card_queries_or_issues']\n"
     ]
    }
   ],
   "source": [
    "unique_labels = df['label'].unique()\n",
    "print(unique_labels)"
   ]
  },
  {
   "cell_type": "code",
   "execution_count": 53,
   "id": "d12944f3",
   "metadata": {},
   "outputs": [
    {
     "data": {
      "text/html": [
       "<div>\n",
       "<style scoped>\n",
       "    .dataframe tbody tr th:only-of-type {\n",
       "        vertical-align: middle;\n",
       "    }\n",
       "\n",
       "    .dataframe tbody tr th {\n",
       "        vertical-align: top;\n",
       "    }\n",
       "\n",
       "    .dataframe thead th {\n",
       "        text-align: right;\n",
       "    }\n",
       "</style>\n",
       "<table border=\"1\" class=\"dataframe\">\n",
       "  <thead>\n",
       "    <tr style=\"text-align: right;\">\n",
       "      <th></th>\n",
       "      <th>text</th>\n",
       "      <th>label</th>\n",
       "    </tr>\n",
       "  </thead>\n",
       "  <tbody>\n",
       "    <tr>\n",
       "      <th>0</th>\n",
       "      <td>automatically topup traveling</td>\n",
       "      <td>top_up_queries_or_issues</td>\n",
       "    </tr>\n",
       "    <tr>\n",
       "      <th>1</th>\n",
       "      <td>kind fiat currency used holding exchange</td>\n",
       "      <td>other</td>\n",
       "    </tr>\n",
       "    <tr>\n",
       "      <th>2</th>\n",
       "      <td>get item ordered go cancel order payment pleas...</td>\n",
       "      <td>other</td>\n",
       "    </tr>\n",
       "    <tr>\n",
       "      <th>3</th>\n",
       "      <td>freeze account hacked</td>\n",
       "      <td>needs_troubleshooting</td>\n",
       "    </tr>\n",
       "    <tr>\n",
       "      <th>4</th>\n",
       "      <td>reason payment didnt go</td>\n",
       "      <td>other</td>\n",
       "    </tr>\n",
       "    <tr>\n",
       "      <th>...</th>\n",
       "      <td>...</td>\n",
       "      <td>...</td>\n",
       "    </tr>\n",
       "    <tr>\n",
       "      <th>14190</th>\n",
       "      <td>tell disposable card used</td>\n",
       "      <td>card_queries_or_issues</td>\n",
       "    </tr>\n",
       "    <tr>\n",
       "      <th>14191</th>\n",
       "      <td>atm wont give card back need back</td>\n",
       "      <td>card_queries_or_issues</td>\n",
       "    </tr>\n",
       "    <tr>\n",
       "      <th>14192</th>\n",
       "      <td>please tell card payment going try buy somethi...</td>\n",
       "      <td>card_queries_or_issues</td>\n",
       "    </tr>\n",
       "    <tr>\n",
       "      <th>14193</th>\n",
       "      <td>rate currency exchange wrong bought something</td>\n",
       "      <td>needs_troubleshooting</td>\n",
       "    </tr>\n",
       "    <tr>\n",
       "      <th>14194</th>\n",
       "      <td>able track card sent</td>\n",
       "      <td>card_queries_or_issues</td>\n",
       "    </tr>\n",
       "  </tbody>\n",
       "</table>\n",
       "<p>13084 rows × 2 columns</p>\n",
       "</div>"
      ],
      "text/plain": [
       "                                                    text  \\\n",
       "0                          automatically topup traveling   \n",
       "1               kind fiat currency used holding exchange   \n",
       "2      get item ordered go cancel order payment pleas...   \n",
       "3                                  freeze account hacked   \n",
       "4                                reason payment didnt go   \n",
       "...                                                  ...   \n",
       "14190                          tell disposable card used   \n",
       "14191                  atm wont give card back need back   \n",
       "14192  please tell card payment going try buy somethi...   \n",
       "14193      rate currency exchange wrong bought something   \n",
       "14194                               able track card sent   \n",
       "\n",
       "                          label  \n",
       "0      top_up_queries_or_issues  \n",
       "1                         other  \n",
       "2                         other  \n",
       "3         needs_troubleshooting  \n",
       "4                         other  \n",
       "...                         ...  \n",
       "14190    card_queries_or_issues  \n",
       "14191    card_queries_or_issues  \n",
       "14192    card_queries_or_issues  \n",
       "14193     needs_troubleshooting  \n",
       "14194    card_queries_or_issues  \n",
       "\n",
       "[13084 rows x 2 columns]"
      ]
     },
     "execution_count": 53,
     "metadata": {},
     "output_type": "execute_result"
    }
   ],
   "source": [
    "df"
   ]
  },
  {
   "cell_type": "code",
   "execution_count": 54,
   "id": "d57dbf2a",
   "metadata": {
    "scrolled": true
   },
   "outputs": [
    {
     "data": {
      "image/png": "[encoded data removed]",
      "text/plain": [
       "<Figure size 900x500 with 1 Axes>"
      ]
     },
     "metadata": {},
     "output_type": "display_data"
    }
   ],
   "source": [
    "from collections import Counter\n",
    "\n",
    "group_by = df.groupby('label')['text'].apply(lambda x: Counter(' '.join(x).split()).most_common(25))\n",
    "group_by_tag = group_by.iloc[0]\n",
    "words0 = list(zip(*group_by_tag))[0]\n",
    "freq0 = list(zip(*group_by_tag))[1]\n",
    "plt.figure(figsize=(9,5))\n",
    "plt.bar(words0, freq0)\n",
    "plt.xlabel('Words', fontsize=9)\n",
    "plt.ylabel('Frequency of Words', fontsize=9)\n",
    "plt.yticks(fontsize=9)\n",
    "plt.xticks(rotation=90, fontsize=9)\n",
    "plt.title(f'Frequency of 25 Most Common Words for Label = \"{unique_labels[0]}\"', fontsize=9)\n",
    "plt.show()"
   ]
  },
  {
   "cell_type": "code",
   "execution_count": 55,
   "id": "b6313a5c",
   "metadata": {
    "scrolled": true
   },
   "outputs": [
    {
     "data": {
      "image/png": "[encoded data removed]",
      "text/plain": [
       "<Figure size 900x500 with 1 Axes>"
      ]
     },
     "metadata": {},
     "output_type": "display_data"
    }
   ],
   "source": [
    "from collections import Counter\n",
    "\n",
    "group_by = df.groupby('label')['text'].apply(lambda x: Counter(' '.join(x).split()).most_common(25))\n",
    "group_by_tag = group_by.iloc[1]\n",
    "words0 = list(zip(*group_by_tag))[0]\n",
    "freq0 = list(zip(*group_by_tag))[1]\n",
    "plt.figure(figsize=(9,5))\n",
    "plt.bar(words0, freq0)\n",
    "plt.xlabel('Words', fontsize=9)\n",
    "plt.ylabel('Frequency of Words', fontsize=9)\n",
    "plt.yticks(fontsize=9)\n",
    "plt.xticks(rotation=90, fontsize=9)\n",
    "plt.title(f'Frequency of 25 Most Common Words for Label = \"{unique_labels[1]}\"', fontsize=9)\n",
    "plt.show()"
   ]
  },
  {
   "cell_type": "code",
   "execution_count": 56,
   "id": "cabbcfd9",
   "metadata": {},
   "outputs": [
    {
     "data": {
      "image/png": "[encoded data removed]",
      "text/plain": [
       "<Figure size 900x500 with 1 Axes>"
      ]
     },
     "metadata": {},
     "output_type": "display_data"
    }
   ],
   "source": [
    "from collections import Counter\n",
    "\n",
    "group_by = df.groupby('label')['text'].apply(lambda x: Counter(' '.join(x).split()).most_common(25))\n",
    "group_by_tag = group_by.iloc[2]\n",
    "words0 = list(zip(*group_by_tag))[0]\n",
    "freq0 = list(zip(*group_by_tag))[1]\n",
    "plt.figure(figsize=(9,5))\n",
    "plt.bar(words0, freq0)\n",
    "plt.xlabel('Words', fontsize=9)\n",
    "plt.ylabel('Frequency of Words', fontsize=9)\n",
    "plt.yticks(fontsize=9)\n",
    "plt.xticks(rotation=90, fontsize=9)\n",
    "plt.title(f'Frequency of 25 Most Common Words for Label = \"{unique_labels[2]}\"', fontsize=9)\n",
    "plt.show()"
   ]
  },
  {
   "cell_type": "code",
   "execution_count": 57,
   "id": "f007b514",
   "metadata": {},
   "outputs": [
    {
     "data": {
      "image/png": "[encoded data removed]",
      "text/plain": [
       "<Figure size 900x500 with 1 Axes>"
      ]
     },
     "metadata": {},
     "output_type": "display_data"
    }
   ],
   "source": [
    "from collections import Counter\n",
    "\n",
    "group_by = df.groupby('label')['text'].apply(lambda x: Counter(' '.join(x).split()).most_common(25))\n",
    "group_by_tag = group_by.iloc[3]\n",
    "words0 = list(zip(*group_by_tag))[0]\n",
    "freq0 = list(zip(*group_by_tag))[1]\n",
    "plt.figure(figsize=(9,5))\n",
    "plt.bar(words0, freq0)\n",
    "plt.xlabel('Words', fontsize=9)\n",
    "plt.ylabel('Frequency of Words', fontsize=9)\n",
    "plt.yticks(fontsize=9)\n",
    "plt.xticks(rotation=90, fontsize=9)\n",
    "plt.title(f'Frequency of 25 Most Common Words for Label = \"{unique_labels[3]}\"', fontsize=9)\n",
    "plt.show()"
   ]
  },
  {
   "cell_type": "code",
   "execution_count": null,
   "id": "d61e398b",
   "metadata": {},
   "outputs": [],
   "source": []
  },
  {
   "cell_type": "markdown",
   "id": "66e6ac03",
   "metadata": {},
   "source": [
    "# Train"
   ]
  },
  {
   "cell_type": "code",
   "execution_count": 89,
   "id": "8a3d1741",
   "metadata": {
    "scrolled": false
   },
   "outputs": [
    {
     "name": "stdout",
     "output_type": "stream",
     "text": [
      "X_train shape: (10467,)\n",
      "X_test shape: (2617,)\n",
      "y_train shape: (10467,)\n",
      "y_test shape: (2617,)\n"
     ]
    }
   ],
   "source": [
    "from sklearn.model_selection import train_test_split\n",
    "\n",
    "X = df['text'].copy()\n",
    "y = df['label'].copy()\n",
    "\n",
    "# Split the dataset into 80% training data and 20% test data\n",
    "X_train, X_test, y_train, y_test = train_test_split(X, y, test_size=0.2, random_state=42)\n",
    "\n",
    "# Print the shapes of the split datasets\n",
    "print('X_train shape:', X_train.shape)\n",
    "print('X_test shape:', X_test.shape)\n",
    "print('y_train shape:', y_train.shape)\n",
    "print('y_test shape:', y_test.shape)"
   ]
  },
  {
   "cell_type": "code",
   "execution_count": null,
   "id": "f12b97d2",
   "metadata": {},
   "outputs": [],
   "source": []
  },
  {
   "cell_type": "code",
   "execution_count": null,
   "id": "bc509a71",
   "metadata": {},
   "outputs": [],
   "source": []
  },
  {
   "cell_type": "markdown",
   "id": "f4210e0e",
   "metadata": {},
   "source": [
    "## Trying different Sampling Techniques"
   ]
  },
  {
   "cell_type": "code",
   "execution_count": 90,
   "id": "0ce085ff",
   "metadata": {},
   "outputs": [
    {
     "name": "stdout",
     "output_type": "stream",
     "text": [
      "                          precision    recall  f1-score   support\n",
      "\n",
      "  card_queries_or_issues       0.83      0.90      0.86       501\n",
      "   needs_troubleshooting       0.86      0.87      0.86       823\n",
      "                   other       0.88      0.84      0.86       974\n",
      "top_up_queries_or_issues       0.96      0.94      0.95       319\n",
      "\n",
      "                accuracy                           0.87      2617\n",
      "               macro avg       0.88      0.89      0.88      2617\n",
      "            weighted avg       0.87      0.87      0.87      2617\n",
      "\n"
     ]
    }
   ],
   "source": [
    "from sklearn.model_selection import train_test_split\n",
    "from imblearn.over_sampling import SMOTE\n",
    "from sklearn.linear_model import LogisticRegression\n",
    "from sklearn.metrics import classification_report\n",
    "from sklearn.feature_extraction.text import TfidfVectorizer\n",
    "\n",
    "# assuming your data is stored in X and y arrays\n",
    "\n",
    "# perform train-test split\n",
    "X_train, X_test, y_train, y_test = train_test_split(X, y, test_size=0.2, random_state=42)\n",
    "\n",
    "# vectorize the text data using TF-IDF\n",
    "tfidf_vectorizer = TfidfVectorizer()\n",
    "X_train_tfidf = tfidf_vectorizer.fit_transform(X_train)\n",
    "X_test_tfidf = tfidf_vectorizer.transform(X_test)\n",
    "\n",
    "# apply SMOTE to training data only\n",
    "smote = SMOTE(random_state=42)\n",
    "X_train_resampled, y_train_resampled = smote.fit_resample(X_train_tfidf, y_train)\n",
    "\n",
    "# train logistic regression model on resampled data\n",
    "lr_model = LogisticRegression(random_state=42)\n",
    "lr_model.fit(X_train_resampled, y_train_resampled)\n",
    "\n",
    "# make predictions on test data\n",
    "y_pred = lr_model.predict(X_test_tfidf)\n",
    "\n",
    "# generate classification report\n",
    "print(classification_report(y_test, y_pred))"
   ]
  },
  {
   "cell_type": "code",
   "execution_count": 91,
   "id": "461fcf22",
   "metadata": {},
   "outputs": [
    {
     "name": "stdout",
     "output_type": "stream",
     "text": [
      "                          precision    recall  f1-score   support\n",
      "\n",
      "  card_queries_or_issues       0.83      0.90      0.86       501\n",
      "   needs_troubleshooting       0.86      0.87      0.87       823\n",
      "                   other       0.89      0.84      0.86       974\n",
      "top_up_queries_or_issues       0.96      0.94      0.95       319\n",
      "\n",
      "                accuracy                           0.87      2617\n",
      "               macro avg       0.88      0.89      0.89      2617\n",
      "            weighted avg       0.88      0.87      0.87      2617\n",
      "\n"
     ]
    }
   ],
   "source": [
    "from sklearn.model_selection import train_test_split\n",
    "from imblearn.over_sampling import RandomOverSampler\n",
    "from sklearn.linear_model import LogisticRegression\n",
    "from sklearn.metrics import classification_report\n",
    "from sklearn.feature_extraction.text import TfidfVectorizer\n",
    "\n",
    "# assuming your data is stored in X and y arrays\n",
    "\n",
    "# perform train-test split\n",
    "X_train, X_test, y_train, y_test = train_test_split(X, y, test_size=0.2, random_state=42)\n",
    "\n",
    "# vectorize the text data using TF-IDF\n",
    "tfidf_vectorizer = TfidfVectorizer()\n",
    "X_train_tfidf = tfidf_vectorizer.fit_transform(X_train)\n",
    "X_test_tfidf = tfidf_vectorizer.transform(X_test)\n",
    "\n",
    "# apply random oversampling to training data only\n",
    "oversampler = RandomOverSampler(random_state=42)\n",
    "X_train_resampled, y_train_resampled = oversampler.fit_resample(X_train_tfidf, y_train)\n",
    "\n",
    "# train logistic regression model on resampled data\n",
    "lr_model = LogisticRegression(random_state=42)\n",
    "lr_model.fit(X_train_resampled, y_train_resampled)\n",
    "\n",
    "# make predictions on test data\n",
    "y_pred = lr_model.predict(X_test_tfidf)\n",
    "\n",
    "# generate classification report\n",
    "print(classification_report(y_test, y_pred))\n"
   ]
  },
  {
   "cell_type": "code",
   "execution_count": 92,
   "id": "37050490",
   "metadata": {},
   "outputs": [
    {
     "name": "stdout",
     "output_type": "stream",
     "text": [
      "                          precision    recall  f1-score   support\n",
      "\n",
      "  card_queries_or_issues       0.79      0.90      0.85       501\n",
      "   needs_troubleshooting       0.84      0.85      0.84       823\n",
      "                   other       0.87      0.80      0.83       974\n",
      "top_up_queries_or_issues       0.93      0.94      0.94       319\n",
      "\n",
      "                accuracy                           0.85      2617\n",
      "               macro avg       0.86      0.87      0.87      2617\n",
      "            weighted avg       0.85      0.85      0.85      2617\n",
      "\n"
     ]
    }
   ],
   "source": [
    "from sklearn.model_selection import train_test_split\n",
    "from imblearn.under_sampling import RandomUnderSampler\n",
    "from sklearn.linear_model import LogisticRegression\n",
    "from sklearn.metrics import classification_report\n",
    "from sklearn.feature_extraction.text import TfidfVectorizer\n",
    "\n",
    "# assuming your data is stored in X and y arrays\n",
    "\n",
    "# perform train-test split\n",
    "X_train, X_test, y_train, y_test = train_test_split(X, y, test_size=0.2, random_state=42)\n",
    "\n",
    "# vectorize the text data using TF-IDF\n",
    "tfidf_vectorizer = TfidfVectorizer()\n",
    "X_train_tfidf = tfidf_vectorizer.fit_transform(X_train)\n",
    "X_test_tfidf = tfidf_vectorizer.transform(X_test)\n",
    "\n",
    "# apply random undersampling to training data only\n",
    "undersampler = RandomUnderSampler(random_state=42)\n",
    "X_train_resampled, y_train_resampled = undersampler.fit_resample(X_train_tfidf, y_train)\n",
    "\n",
    "# train logistic regression model on resampled data\n",
    "lr_model = LogisticRegression(random_state=42)\n",
    "lr_model.fit(X_train_resampled, y_train_resampled)\n",
    "\n",
    "# make predictions on test data\n",
    "y_pred = lr_model.predict(X_test_tfidf)\n",
    "\n",
    "# generate classification report\n",
    "print(classification_report(y_test, y_pred))\n"
   ]
  },
  {
   "cell_type": "code",
   "execution_count": 93,
   "id": "e7a8d329",
   "metadata": {},
   "outputs": [],
   "source": [
    "# Random Oversampler gives the best results."
   ]
  },
  {
   "cell_type": "code",
   "execution_count": 94,
   "id": "78c112c7",
   "metadata": {},
   "outputs": [],
   "source": [
    "# Perform oversampling on the training set\n",
    "from imblearn.over_sampling import RandomOverSampler\n",
    "ros = RandomOverSampler(random_state=42)\n",
    "X_train_resampled, y_train_resampled = ros.fit_resample(X_train.to_numpy().reshape(-1, 1), y_train)"
   ]
  },
  {
   "cell_type": "code",
   "execution_count": 95,
   "id": "037f8b6a",
   "metadata": {
    "scrolled": false
   },
   "outputs": [
    {
     "data": {
      "text/plain": [
       "array([['way automatic top'],\n",
       "       ['money asked asked got'],\n",
       "       ['virtual card going'],\n",
       "       ...,\n",
       "       ['top verification code found'],\n",
       "       ['money added automatically necessary'],\n",
       "       ['could explain topup gone yet']], dtype=object)"
      ]
     },
     "execution_count": 95,
     "metadata": {},
     "output_type": "execute_result"
    }
   ],
   "source": [
    "X_train_resampled"
   ]
  },
  {
   "cell_type": "code",
   "execution_count": 96,
   "id": "f36ea2ff",
   "metadata": {},
   "outputs": [
    {
     "data": {
      "text/plain": [
       "0        top_up_queries_or_issues\n",
       "1           needs_troubleshooting\n",
       "2           needs_troubleshooting\n",
       "3                           other\n",
       "4                           other\n",
       "                   ...           \n",
       "15315    top_up_queries_or_issues\n",
       "15316    top_up_queries_or_issues\n",
       "15317    top_up_queries_or_issues\n",
       "15318    top_up_queries_or_issues\n",
       "15319    top_up_queries_or_issues\n",
       "Name: label, Length: 15320, dtype: object"
      ]
     },
     "execution_count": 96,
     "metadata": {},
     "output_type": "execute_result"
    }
   ],
   "source": [
    "y_train_resampled"
   ]
  },
  {
   "cell_type": "code",
   "execution_count": null,
   "id": "018b053e",
   "metadata": {},
   "outputs": [],
   "source": []
  },
  {
   "cell_type": "code",
   "execution_count": null,
   "id": "5c5d2e8d",
   "metadata": {},
   "outputs": [],
   "source": []
  },
  {
   "cell_type": "markdown",
   "id": "d8b59e38",
   "metadata": {},
   "source": [
    "# Logistic Regression"
   ]
  },
  {
   "cell_type": "code",
   "execution_count": 97,
   "id": "919f4256",
   "metadata": {},
   "outputs": [
    {
     "name": "stdout",
     "output_type": "stream",
     "text": [
      "                          precision    recall  f1-score   support\n",
      "\n",
      "  card_queries_or_issues       0.83      0.90      0.86       501\n",
      "   needs_troubleshooting       0.86      0.87      0.87       823\n",
      "                   other       0.88      0.84      0.86       974\n",
      "top_up_queries_or_issues       0.96      0.94      0.95       319\n",
      "\n",
      "                accuracy                           0.87      2617\n",
      "               macro avg       0.88      0.89      0.89      2617\n",
      "            weighted avg       0.87      0.87      0.87      2617\n",
      "\n"
     ]
    }
   ],
   "source": [
    "from sklearn.model_selection import train_test_split\n",
    "from sklearn.pipeline import Pipeline\n",
    "from sklearn.feature_extraction.text import TfidfVectorizer\n",
    "from sklearn.linear_model import LogisticRegression\n",
    "from sklearn.metrics import classification_report\n",
    "\n",
    "# Define a pipeline for text classification\n",
    "text_clf = Pipeline([('tfidf', TfidfVectorizer()), ('clf', LogisticRegression())])\n",
    "\n",
    "# Train the classifier on the resampled training data\n",
    "text_clf.fit(X_train_resampled.ravel(), y_train_resampled)\n",
    "\n",
    "# Predict on the testing set\n",
    "y_pred = text_clf.predict(X_test)\n",
    "\n",
    "# Evaluate the classifier performance\n",
    "print(classification_report(y_test, y_pred))"
   ]
  },
  {
   "cell_type": "code",
   "execution_count": 98,
   "id": "47b8e48b",
   "metadata": {},
   "outputs": [
    {
     "name": "stderr",
     "output_type": "stream",
     "text": [
      "/home/ashis-solomon/.local/lib/python3.10/site-packages/sklearn/linear_model/_logistic.py:444: ConvergenceWarning: lbfgs failed to converge (status=1):\n",
      "STOP: TOTAL NO. of ITERATIONS REACHED LIMIT.\n",
      "\n",
      "Increase the number of iterations (max_iter) or scale the data as shown in:\n",
      "    https://scikit-learn.org/stable/modules/preprocessing.html\n",
      "Please also refer to the documentation for alternative solver options:\n",
      "    https://scikit-learn.org/stable/modules/linear_model.html#logistic-regression\n",
      "  n_iter_i = _check_optimize_result(\n",
      "/home/ashis-solomon/.local/lib/python3.10/site-packages/sklearn/linear_model/_logistic.py:444: ConvergenceWarning: lbfgs failed to converge (status=1):\n",
      "STOP: TOTAL NO. of ITERATIONS REACHED LIMIT.\n",
      "\n",
      "Increase the number of iterations (max_iter) or scale the data as shown in:\n",
      "    https://scikit-learn.org/stable/modules/preprocessing.html\n",
      "Please also refer to the documentation for alternative solver options:\n",
      "    https://scikit-learn.org/stable/modules/linear_model.html#logistic-regression\n",
      "  n_iter_i = _check_optimize_result(\n",
      "/home/ashis-solomon/.local/lib/python3.10/site-packages/sklearn/linear_model/_logistic.py:444: ConvergenceWarning: lbfgs failed to converge (status=1):\n",
      "STOP: TOTAL NO. of ITERATIONS REACHED LIMIT.\n",
      "\n",
      "Increase the number of iterations (max_iter) or scale the data as shown in:\n",
      "    https://scikit-learn.org/stable/modules/preprocessing.html\n",
      "Please also refer to the documentation for alternative solver options:\n",
      "    https://scikit-learn.org/stable/modules/linear_model.html#logistic-regression\n",
      "  n_iter_i = _check_optimize_result(\n",
      "/home/ashis-solomon/.local/lib/python3.10/site-packages/sklearn/linear_model/_logistic.py:444: ConvergenceWarning: lbfgs failed to converge (status=1):\n",
      "STOP: TOTAL NO. of ITERATIONS REACHED LIMIT.\n",
      "\n",
      "Increase the number of iterations (max_iter) or scale the data as shown in:\n",
      "    https://scikit-learn.org/stable/modules/preprocessing.html\n",
      "Please also refer to the documentation for alternative solver options:\n",
      "    https://scikit-learn.org/stable/modules/linear_model.html#logistic-regression\n",
      "  n_iter_i = _check_optimize_result(\n",
      "/home/ashis-solomon/.local/lib/python3.10/site-packages/sklearn/linear_model/_logistic.py:444: ConvergenceWarning: lbfgs failed to converge (status=1):\n",
      "STOP: TOTAL NO. of ITERATIONS REACHED LIMIT.\n",
      "\n",
      "Increase the number of iterations (max_iter) or scale the data as shown in:\n",
      "    https://scikit-learn.org/stable/modules/preprocessing.html\n",
      "Please also refer to the documentation for alternative solver options:\n",
      "    https://scikit-learn.org/stable/modules/linear_model.html#logistic-regression\n",
      "  n_iter_i = _check_optimize_result(\n",
      "/home/ashis-solomon/.local/lib/python3.10/site-packages/sklearn/linear_model/_logistic.py:444: ConvergenceWarning: lbfgs failed to converge (status=1):\n",
      "STOP: TOTAL NO. of ITERATIONS REACHED LIMIT.\n",
      "\n",
      "Increase the number of iterations (max_iter) or scale the data as shown in:\n",
      "    https://scikit-learn.org/stable/modules/preprocessing.html\n",
      "Please also refer to the documentation for alternative solver options:\n",
      "    https://scikit-learn.org/stable/modules/linear_model.html#logistic-regression\n",
      "  n_iter_i = _check_optimize_result(\n",
      "/home/ashis-solomon/.local/lib/python3.10/site-packages/sklearn/linear_model/_logistic.py:444: ConvergenceWarning: lbfgs failed to converge (status=1):\n",
      "STOP: TOTAL NO. of ITERATIONS REACHED LIMIT.\n",
      "\n",
      "Increase the number of iterations (max_iter) or scale the data as shown in:\n",
      "    https://scikit-learn.org/stable/modules/preprocessing.html\n",
      "Please also refer to the documentation for alternative solver options:\n",
      "    https://scikit-learn.org/stable/modules/linear_model.html#logistic-regression\n",
      "  n_iter_i = _check_optimize_result(\n",
      "/home/ashis-solomon/.local/lib/python3.10/site-packages/sklearn/linear_model/_logistic.py:444: ConvergenceWarning: lbfgs failed to converge (status=1):\n",
      "STOP: TOTAL NO. of ITERATIONS REACHED LIMIT.\n",
      "\n",
      "Increase the number of iterations (max_iter) or scale the data as shown in:\n",
      "    https://scikit-learn.org/stable/modules/preprocessing.html\n",
      "Please also refer to the documentation for alternative solver options:\n",
      "    https://scikit-learn.org/stable/modules/linear_model.html#logistic-regression\n",
      "  n_iter_i = _check_optimize_result(\n",
      "/home/ashis-solomon/.local/lib/python3.10/site-packages/sklearn/linear_model/_logistic.py:444: ConvergenceWarning: lbfgs failed to converge (status=1):\n",
      "STOP: TOTAL NO. of ITERATIONS REACHED LIMIT.\n",
      "\n",
      "Increase the number of iterations (max_iter) or scale the data as shown in:\n",
      "    https://scikit-learn.org/stable/modules/preprocessing.html\n",
      "Please also refer to the documentation for alternative solver options:\n",
      "    https://scikit-learn.org/stable/modules/linear_model.html#logistic-regression\n",
      "  n_iter_i = _check_optimize_result(\n",
      "/home/ashis-solomon/.local/lib/python3.10/site-packages/sklearn/linear_model/_logistic.py:444: ConvergenceWarning: lbfgs failed to converge (status=1):\n",
      "STOP: TOTAL NO. of ITERATIONS REACHED LIMIT.\n",
      "\n",
      "Increase the number of iterations (max_iter) or scale the data as shown in:\n",
      "    https://scikit-learn.org/stable/modules/preprocessing.html\n",
      "Please also refer to the documentation for alternative solver options:\n",
      "    https://scikit-learn.org/stable/modules/linear_model.html#logistic-regression\n",
      "  n_iter_i = _check_optimize_result(\n"
     ]
    },
    {
     "name": "stdout",
     "output_type": "stream",
     "text": [
      "Best Hyperparameters:  {'clf__C': 10, 'clf__penalty': 'l2'}\n",
      "Best Score:  0.9142297650130548\n"
     ]
    }
   ],
   "source": [
    "from sklearn.model_selection import GridSearchCV\n",
    "from sklearn.linear_model import LogisticRegression\n",
    "\n",
    "# Define a pipeline for text classification\n",
    "text_clf_lr = Pipeline([('tfidf', TfidfVectorizer()), ('clf', LogisticRegression())])\n",
    "\n",
    "# Define the hyperparameters to search over\n",
    "param_grid_lr = {'clf__C': [0.01, 0.1, 1, 10], 'clf__penalty': ['l1', 'l2']}\n",
    "\n",
    "# Use GridSearchCV to search over the hyperparameters\n",
    "grid_search_lr = GridSearchCV(text_clf_lr, param_grid=param_grid_lr, cv=5, n_jobs=-1)\n",
    "\n",
    "# Train the classifier on the resampled training data\n",
    "grid_search_lr.fit(X_train_resampled.ravel(), y_train_resampled)\n",
    "\n",
    "# Print the best hyperparameters and the best score\n",
    "print(\"Best Hyperparameters: \", grid_search_lr.best_params_)\n",
    "print(\"Best Score: \", grid_search_lr.best_score_)"
   ]
  },
  {
   "cell_type": "code",
   "execution_count": 99,
   "id": "1bc3dd00",
   "metadata": {},
   "outputs": [
    {
     "name": "stdout",
     "output_type": "stream",
     "text": [
      "                          precision    recall  f1-score   support\n",
      "\n",
      "  card_queries_or_issues       0.85      0.89      0.87       501\n",
      "   needs_troubleshooting       0.86      0.87      0.87       823\n",
      "                   other       0.88      0.85      0.86       974\n",
      "top_up_queries_or_issues       0.95      0.93      0.94       319\n",
      "\n",
      "                accuracy                           0.88      2617\n",
      "               macro avg       0.88      0.89      0.88      2617\n",
      "            weighted avg       0.88      0.88      0.88      2617\n",
      "\n"
     ]
    }
   ],
   "source": [
    "from sklearn.model_selection import train_test_split\n",
    "from sklearn.pipeline import Pipeline\n",
    "from sklearn.feature_extraction.text import TfidfVectorizer\n",
    "from sklearn.linear_model import LogisticRegression\n",
    "from sklearn.metrics import classification_report\n",
    "\n",
    "# Define a pipeline for text classification\n",
    "text_clf = Pipeline([('tfidf', TfidfVectorizer()), ('clf', LogisticRegression(C=10, penalty='l2'))])\n",
    "\n",
    "# Train the classifier on the resampled training data\n",
    "text_clf.fit(X_train_resampled.ravel(), y_train_resampled)\n",
    "\n",
    "# Predict on the testing set\n",
    "y_pred = text_clf.predict(X_test)\n",
    "\n",
    "# Evaluate the classifier performance\n",
    "print(classification_report(y_test, y_pred))"
   ]
  },
  {
   "cell_type": "code",
   "execution_count": null,
   "id": "1173c127",
   "metadata": {},
   "outputs": [],
   "source": []
  },
  {
   "cell_type": "code",
   "execution_count": null,
   "id": "56bbb4e0",
   "metadata": {},
   "outputs": [],
   "source": []
  },
  {
   "cell_type": "code",
   "execution_count": null,
   "id": "747b6008",
   "metadata": {},
   "outputs": [],
   "source": []
  },
  {
   "cell_type": "markdown",
   "id": "5512a251",
   "metadata": {},
   "source": [
    "# Multinomial NB"
   ]
  },
  {
   "cell_type": "code",
   "execution_count": 100,
   "id": "319ff0e0",
   "metadata": {},
   "outputs": [
    {
     "name": "stdout",
     "output_type": "stream",
     "text": [
      "                          precision    recall  f1-score   support\n",
      "\n",
      "  card_queries_or_issues       0.82      0.84      0.83       501\n",
      "   needs_troubleshooting       0.80      0.87      0.83       823\n",
      "                   other       0.88      0.76      0.82       974\n",
      "top_up_queries_or_issues       0.81      0.93      0.87       319\n",
      "\n",
      "                accuracy                           0.83      2617\n",
      "               macro avg       0.83      0.85      0.84      2617\n",
      "            weighted avg       0.84      0.83      0.83      2617\n",
      "\n"
     ]
    }
   ],
   "source": [
    "from sklearn.naive_bayes import MultinomialNB\n",
    "\n",
    "# Define a pipeline for text classification using Naive Bayes\n",
    "text_clf_nb = Pipeline([('tfidf', TfidfVectorizer()), ('clf', MultinomialNB())])\n",
    "\n",
    "# Train the Naive Bayes classifier on the resampled training data\n",
    "text_clf_nb.fit(X_train_resampled.ravel(), y_train_resampled)\n",
    "\n",
    "# Predict on the testing set using Naive Bayes classifier\n",
    "y_pred_nb = text_clf_nb.predict(X_test)\n",
    "\n",
    "# Evaluate the Naive Bayes classifier performance\n",
    "print(classification_report(y_test, y_pred_nb))"
   ]
  },
  {
   "cell_type": "code",
   "execution_count": 101,
   "id": "178256df",
   "metadata": {},
   "outputs": [
    {
     "name": "stdout",
     "output_type": "stream",
     "text": [
      "Best Hyperparameters:  {'clf__alpha': 0.1}\n",
      "Best Score:  0.8699738903394255\n"
     ]
    }
   ],
   "source": [
    "from sklearn.model_selection import GridSearchCV\n",
    "from sklearn.naive_bayes import MultinomialNB\n",
    "\n",
    "# Define a pipeline for text classification\n",
    "text_clf_nb = Pipeline([('tfidf', TfidfVectorizer()), ('clf', MultinomialNB())])\n",
    "\n",
    "# Define the hyperparameters to search over\n",
    "param_grid_nb = {'clf__alpha': [0.01, 0.1, 1, 10]}\n",
    "\n",
    "# Use GridSearchCV to search over the hyperparameters\n",
    "grid_search_nb = GridSearchCV(text_clf_nb, param_grid=param_grid_nb, cv=5, n_jobs=-1)\n",
    "\n",
    "# Train the classifier on the resampled training data\n",
    "grid_search_nb.fit(X_train_resampled.ravel(), y_train_resampled)\n",
    "\n",
    "# Print the best hyperparameters and the best score\n",
    "print(\"Best Hyperparameters: \", grid_search_nb.best_params_)\n",
    "print(\"Best Score: \", grid_search_nb.best_score_)"
   ]
  },
  {
   "cell_type": "code",
   "execution_count": 102,
   "id": "e6a931a7",
   "metadata": {},
   "outputs": [
    {
     "name": "stdout",
     "output_type": "stream",
     "text": [
      "                          precision    recall  f1-score   support\n",
      "\n",
      "  card_queries_or_issues       0.83      0.83      0.83       501\n",
      "   needs_troubleshooting       0.81      0.86      0.83       823\n",
      "                   other       0.86      0.78      0.82       974\n",
      "top_up_queries_or_issues       0.82      0.91      0.86       319\n",
      "\n",
      "                accuracy                           0.83      2617\n",
      "               macro avg       0.83      0.84      0.83      2617\n",
      "            weighted avg       0.83      0.83      0.83      2617\n",
      "\n"
     ]
    }
   ],
   "source": [
    "from sklearn.naive_bayes import MultinomialNB\n",
    "\n",
    "# Define a pipeline for text classification using Naive Bayes\n",
    "text_clf_nb = Pipeline([('tfidf', TfidfVectorizer()), ('clf', MultinomialNB(alpha=0.1))])\n",
    "\n",
    "# Train the Naive Bayes classifier on the resampled training data\n",
    "text_clf_nb.fit(X_train_resampled.ravel(), y_train_resampled)\n",
    "\n",
    "# Predict on the testing set using Naive Bayes classifier\n",
    "y_pred_nb = text_clf_nb.predict(X_test)\n",
    "\n",
    "# Evaluate the Naive Bayes classifier performance\n",
    "print(classification_report(y_test, y_pred_nb))"
   ]
  },
  {
   "cell_type": "code",
   "execution_count": null,
   "id": "e5ea056b",
   "metadata": {},
   "outputs": [],
   "source": []
  },
  {
   "cell_type": "code",
   "execution_count": null,
   "id": "6ef0d8b7",
   "metadata": {},
   "outputs": [],
   "source": []
  },
  {
   "cell_type": "code",
   "execution_count": null,
   "id": "5db668f5",
   "metadata": {},
   "outputs": [],
   "source": []
  },
  {
   "cell_type": "markdown",
   "id": "c56b7c8e",
   "metadata": {},
   "source": [
    "# SVC"
   ]
  },
  {
   "cell_type": "code",
   "execution_count": 103,
   "id": "e538c1c7",
   "metadata": {},
   "outputs": [
    {
     "name": "stdout",
     "output_type": "stream",
     "text": [
      "                          precision    recall  f1-score   support\n",
      "\n",
      "  card_queries_or_issues       0.82      0.91      0.87       501\n",
      "   needs_troubleshooting       0.87      0.88      0.87       823\n",
      "                   other       0.90      0.83      0.87       974\n",
      "top_up_queries_or_issues       0.95      0.94      0.95       319\n",
      "\n",
      "                accuracy                           0.88      2617\n",
      "               macro avg       0.88      0.89      0.89      2617\n",
      "            weighted avg       0.88      0.88      0.88      2617\n",
      "\n"
     ]
    }
   ],
   "source": [
    "from sklearn.svm import SVC\n",
    "from sklearn.pipeline import Pipeline\n",
    "from sklearn.feature_extraction.text import TfidfVectorizer\n",
    "from sklearn.metrics import classification_report\n",
    "\n",
    "# Define a pipeline for text classification using SVM\n",
    "text_clf_svm = Pipeline([\n",
    "    ('tfidf', TfidfVectorizer()),\n",
    "    ('clf', SVC(kernel='linear'))\n",
    "])\n",
    "\n",
    "# Train the SVM classifier on the resampled training data\n",
    "text_clf_svm.fit(X_train_resampled.ravel(), y_train_resampled)\n",
    "\n",
    "# Predict on the testing set using SVM classifier\n",
    "y_pred_svm = text_clf_svm.predict(X_test)\n",
    "\n",
    "# Evaluate the SVM classifier performance\n",
    "print(classification_report(y_test, y_pred_svm))"
   ]
  },
  {
   "cell_type": "code",
   "execution_count": 104,
   "id": "fb6ff3b3",
   "metadata": {},
   "outputs": [
    {
     "name": "stdout",
     "output_type": "stream",
     "text": [
      "Best parameters:  {'clf__C': 10, 'clf__gamma': 'scale', 'clf__kernel': 'rbf'}\n",
      "                          precision    recall  f1-score   support\n",
      "\n",
      "  card_queries_or_issues       0.90      0.92      0.91       501\n",
      "   needs_troubleshooting       0.95      0.91      0.93       823\n",
      "                   other       0.92      0.93      0.93       974\n",
      "top_up_queries_or_issues       0.96      0.95      0.95       319\n",
      "\n",
      "                accuracy                           0.93      2617\n",
      "               macro avg       0.93      0.93      0.93      2617\n",
      "            weighted avg       0.93      0.93      0.93      2617\n",
      "\n"
     ]
    }
   ],
   "source": [
    "from sklearn.model_selection import GridSearchCV\n",
    "from sklearn.pipeline import Pipeline\n",
    "from sklearn.feature_extraction.text import TfidfVectorizer\n",
    "from sklearn.svm import SVC\n",
    "from sklearn.metrics import classification_report\n",
    "\n",
    "# Define a pipeline for text classification using SVC\n",
    "text_clf_svc = Pipeline([('tfidf', TfidfVectorizer()), ('clf', SVC())])\n",
    "\n",
    "# Define the parameter grid to search over\n",
    "param_grid = {\n",
    "    'clf__C': [0.1, 1, 10],\n",
    "    'clf__kernel': ['linear', 'rbf'],\n",
    "    'clf__gamma': ['scale', 'auto']\n",
    "}\n",
    "\n",
    "# Perform grid search with 5-fold cross-validation\n",
    "grid_search = GridSearchCV(text_clf_svc, param_grid=param_grid, cv=5, n_jobs=-1)\n",
    "\n",
    "# Train the classifier on the resampled training data\n",
    "grid_search.fit(X_train_resampled.ravel(), y_train_resampled)\n",
    "\n",
    "# Print the best hyperparameters found\n",
    "print(\"Best parameters: \", grid_search.best_params_)\n",
    "\n",
    "# Predict on the testing set using the best estimator from the grid search\n",
    "y_pred_svc = grid_search.best_estimator_.predict(X_test)\n",
    "\n",
    "# Evaluate the performance of the SVC model\n",
    "print(classification_report(y_test, y_pred_svc))"
   ]
  },
  {
   "cell_type": "code",
   "execution_count": null,
   "id": "77331ada",
   "metadata": {},
   "outputs": [],
   "source": []
  },
  {
   "cell_type": "code",
   "execution_count": null,
   "id": "6a02054b",
   "metadata": {},
   "outputs": [],
   "source": []
  },
  {
   "cell_type": "code",
   "execution_count": null,
   "id": "78c93c2e",
   "metadata": {},
   "outputs": [],
   "source": []
  },
  {
   "cell_type": "code",
   "execution_count": null,
   "id": "e86545ee",
   "metadata": {},
   "outputs": [],
   "source": []
  },
  {
   "cell_type": "markdown",
   "id": "87936b87",
   "metadata": {},
   "source": [
    "# Random Forest"
   ]
  },
  {
   "cell_type": "code",
   "execution_count": 105,
   "id": "d60dc0b9",
   "metadata": {},
   "outputs": [
    {
     "name": "stdout",
     "output_type": "stream",
     "text": [
      "                          precision    recall  f1-score   support\n",
      "\n",
      "  card_queries_or_issues       0.86      0.91      0.89       501\n",
      "   needs_troubleshooting       0.93      0.91      0.92       823\n",
      "                   other       0.91      0.91      0.91       974\n",
      "top_up_queries_or_issues       0.96      0.93      0.95       319\n",
      "\n",
      "                accuracy                           0.91      2617\n",
      "               macro avg       0.92      0.92      0.92      2617\n",
      "            weighted avg       0.91      0.91      0.91      2617\n",
      "\n"
     ]
    }
   ],
   "source": [
    "from sklearn.ensemble import RandomForestClassifier\n",
    "from sklearn.pipeline import Pipeline\n",
    "from sklearn.feature_extraction.text import TfidfVectorizer\n",
    "from sklearn.metrics import classification_report\n",
    "\n",
    "# Define a pipeline for text classification using Random Forest\n",
    "text_clf_rf = Pipeline([\n",
    "    ('tfidf', TfidfVectorizer()),\n",
    "    ('clf', RandomForestClassifier(n_estimators=100, random_state=42))\n",
    "])\n",
    "\n",
    "# Train the Random Forest classifier on the resampled training data\n",
    "text_clf_rf.fit(X_train_resampled.ravel(), y_train_resampled)\n",
    "\n",
    "# Predict on the testing set using Random Forest classifier\n",
    "y_pred_rf = text_clf_rf.predict(X_test)\n",
    "\n",
    "# Evaluate the Random Forest classifier performance\n",
    "print(classification_report(y_test, y_pred_rf))"
   ]
  },
  {
   "cell_type": "code",
   "execution_count": 106,
   "id": "f5ed0647",
   "metadata": {},
   "outputs": [
    {
     "name": "stdout",
     "output_type": "stream",
     "text": [
      "Best hyperparameters found for Random Forest classifier:\n",
      "{'clf__max_depth': 15, 'clf__n_estimators': 300, 'tfidf__max_df': 0.5}\n",
      "                          precision    recall  f1-score   support\n",
      "\n",
      "  card_queries_or_issues       0.71      0.88      0.79       501\n",
      "   needs_troubleshooting       0.83      0.80      0.82       823\n",
      "                   other       0.85      0.78      0.81       974\n",
      "top_up_queries_or_issues       0.92      0.89      0.90       319\n",
      "\n",
      "                accuracy                           0.82      2617\n",
      "               macro avg       0.83      0.84      0.83      2617\n",
      "            weighted avg       0.82      0.82      0.82      2617\n",
      "\n"
     ]
    }
   ],
   "source": [
    "from sklearn.model_selection import GridSearchCV\n",
    "\n",
    "# Define a pipeline for text classification using Random Forest\n",
    "text_clf_rf = Pipeline([\n",
    "    ('tfidf', TfidfVectorizer()),\n",
    "    ('clf', RandomForestClassifier(random_state=42))\n",
    "])\n",
    "\n",
    "# Define the grid of hyperparameters to search over\n",
    "param_grid = {\n",
    "    'tfidf__max_df': [0.5, 0.75, 1.0],\n",
    "    'clf__n_estimators': [100, 200, 300],\n",
    "    'clf__max_depth': [5, 10, 15]\n",
    "}\n",
    "\n",
    "# Create a GridSearchCV object with the pipeline and hyperparameter grid\n",
    "grid_search_rf = GridSearchCV(text_clf_rf, param_grid=param_grid, cv=5)\n",
    "\n",
    "# Fit the GridSearchCV object on the resampled training data\n",
    "grid_search_rf.fit(X_train_resampled.ravel(), y_train_resampled)\n",
    "\n",
    "# Print the best hyperparameters found by GridSearchCV\n",
    "print(\"Best hyperparameters found for Random Forest classifier:\")\n",
    "print(grid_search_rf.best_params_)\n",
    "\n",
    "# Predict on the testing set using the best Random Forest classifier\n",
    "y_pred_rf = grid_search_rf.predict(X_test)\n",
    "\n",
    "# Evaluate the best Random Forest classifier performance\n",
    "print(classification_report(y_test, y_pred_rf))"
   ]
  },
  {
   "cell_type": "code",
   "execution_count": null,
   "id": "488d22ab",
   "metadata": {},
   "outputs": [],
   "source": []
  },
  {
   "cell_type": "code",
   "execution_count": null,
   "id": "faa64d31",
   "metadata": {},
   "outputs": [],
   "source": []
  },
  {
   "cell_type": "code",
   "execution_count": 107,
   "id": "f6eda58a",
   "metadata": {},
   "outputs": [
    {
     "name": "stdout",
     "output_type": "stream",
     "text": [
      "                          precision    recall  f1-score   support\n",
      "\n",
      "  card_queries_or_issues       0.74      0.92      0.82       501\n",
      "   needs_troubleshooting       0.86      0.77      0.81       823\n",
      "                   other       0.84      0.81      0.82       974\n",
      "top_up_queries_or_issues       0.93      0.92      0.93       319\n",
      "\n",
      "                accuracy                           0.83      2617\n",
      "               macro avg       0.84      0.86      0.85      2617\n",
      "            weighted avg       0.84      0.83      0.83      2617\n",
      "\n"
     ]
    }
   ],
   "source": [
    "from sklearn.ensemble import GradientBoostingClassifier\n",
    "\n",
    "# Define a pipeline for text classification using gradient boosting\n",
    "text_clf_gb = Pipeline([('tfidf', TfidfVectorizer()), ('clf', GradientBoostingClassifier())])\n",
    "\n",
    "# Train the gradient boosting classifier on the resampled training data\n",
    "text_clf_gb.fit(X_train_resampled.ravel(), y_train_resampled)\n",
    "\n",
    "# Predict on the testing set using gradient boosting classifier\n",
    "y_pred_gb = text_clf_gb.predict(X_test)\n",
    "\n",
    "# Evaluate the gradient boosting classifier performance\n",
    "print(classification_report(y_test, y_pred_gb))"
   ]
  },
  {
   "cell_type": "code",
   "execution_count": 108,
   "id": "5af3c8b6",
   "metadata": {},
   "outputs": [
    {
     "name": "stdout",
     "output_type": "stream",
     "text": [
      "                          precision    recall  f1-score   support\n",
      "\n",
      "  card_queries_or_issues       0.64      0.86      0.73       501\n",
      "   needs_troubleshooting       0.61      0.25      0.35       823\n",
      "                   other       0.49      0.75      0.59       974\n",
      "top_up_queries_or_issues       0.67      0.27      0.39       319\n",
      "\n",
      "                accuracy                           0.55      2617\n",
      "               macro avg       0.60      0.53      0.52      2617\n",
      "            weighted avg       0.58      0.55      0.52      2617\n",
      "\n"
     ]
    }
   ],
   "source": [
    "from sklearn.ensemble import AdaBoostClassifier\n",
    "from xgboost import XGBClassifier\n",
    "\n",
    "# Define a pipeline for text classification using AdaBoost\n",
    "text_clf_ab = Pipeline([('tfidf', TfidfVectorizer()), ('clf', AdaBoostClassifier())])\n",
    "\n",
    "# Train the AdaBoost classifier on the resampled training data\n",
    "text_clf_ab.fit(X_train_resampled.ravel(), y_train_resampled)\n",
    "\n",
    "# Predict on the testing set using AdaBoost classifier\n",
    "y_pred_ab = text_clf_ab.predict(X_test)\n",
    "\n",
    "# Evaluate the AdaBoost classifier performance\n",
    "print(classification_report(y_test, y_pred_ab))"
   ]
  },
  {
   "cell_type": "code",
   "execution_count": 268,
   "id": "3542fa07",
   "metadata": {},
   "outputs": [
    {
     "name": "stdout",
     "output_type": "stream",
     "text": [
      "                          precision    recall  f1-score   support\n",
      "\n",
      "  card_queries_or_issues       0.62      0.85      0.72       501\n",
      "   needs_troubleshooting       0.55      0.73      0.63       823\n",
      "                   other       0.56      0.39      0.46       974\n",
      "top_up_queries_or_issues       0.68      0.35      0.47       319\n",
      "\n",
      "                accuracy                           0.58      2617\n",
      "               macro avg       0.60      0.58      0.57      2617\n",
      "            weighted avg       0.58      0.58      0.56      2617\n",
      "\n",
      "Accuracy: 0.5792892625143294\n",
      "Precision: 0.6018818296531817\n",
      "Recall: 0.5801116888929703\n"
     ]
    }
   ],
   "source": [
    "from sklearn.metrics import accuracy_score, precision_score, recall_score, f1_score\n",
    "\n",
    "# Define a pipeline for text classification using AdaBoost\n",
    "text_clf_ab = Pipeline([('tfidf', TfidfVectorizer()), ('clf', AdaBoostClassifier())])\n",
    "\n",
    "# Train the AdaBoost classifier on the resampled training data\n",
    "text_clf_ab.fit(X_train_resampled.ravel(), y_train_resampled)\n",
    "\n",
    "# Predict on the testing set using AdaBoost classifier\n",
    "y_pred_ab = text_clf_ab.predict(X_test)\n",
    "\n",
    "# Evaluate the AdaBoost classifier performance\n",
    "print(classification_report(y_test, y_pred_ab))\n",
    "\n",
    "# Calculate accuracy, precision, and recall scores\n",
    "accuracy = accuracy_score(y_test, y_pred_ab)\n",
    "precision = precision_score(y_test, y_pred_ab, average='macro')\n",
    "recall = recall_score(y_test, y_pred_ab, average='macro')\n",
    "f1_score = f1_score(y_test,y_pred_ab, average='macro')\n",
    "\n",
    "print(\"Accuracy:\", accuracy)\n",
    "print(\"Precision:\", precision)\n",
    "print(\"Recall:\", recall)"
   ]
  },
  {
   "cell_type": "code",
   "execution_count": null,
   "id": "69c10968",
   "metadata": {},
   "outputs": [],
   "source": []
  },
  {
   "cell_type": "code",
   "execution_count": null,
   "id": "08f47cd9",
   "metadata": {},
   "outputs": [],
   "source": []
  },
  {
   "cell_type": "code",
   "execution_count": null,
   "id": "f4ac5c86",
   "metadata": {},
   "outputs": [],
   "source": []
  },
  {
   "cell_type": "code",
   "execution_count": null,
   "id": "b4060268",
   "metadata": {},
   "outputs": [],
   "source": []
  },
  {
   "cell_type": "markdown",
   "id": "94ffb2a1",
   "metadata": {},
   "source": [
    "# Train Models"
   ]
  },
  {
   "cell_type": "code",
   "execution_count": 296,
   "id": "a167ad49",
   "metadata": {},
   "outputs": [
    {
     "name": "stdout",
     "output_type": "stream",
     "text": [
      "----------------------------------------------------------------------\n",
      "LOGISTIC REGRESSION CLASSIFIER\n",
      "                          precision    recall  f1-score   support\n",
      "\n",
      "  card_queries_or_issues       0.86      0.90      0.88       501\n",
      "   needs_troubleshooting       0.87      0.90      0.88       823\n",
      "                   other       0.90      0.85      0.87       974\n",
      "top_up_queries_or_issues       0.96      0.95      0.95       319\n",
      "\n",
      "                accuracy                           0.89      2617\n",
      "               macro avg       0.90      0.90      0.90      2617\n",
      "            weighted avg       0.89      0.89      0.89      2617\n",
      "\n",
      "Accuracy: 0.8880\n",
      "Precision: 0.8954\n",
      "Recall: 0.9010\n",
      "----------------------------------------------------------------------\n",
      "\n",
      "\n",
      "----------------------------------------------------------------------\n",
      "NAIVE BAYES CLASSIFIER\n",
      "                          precision    recall  f1-score   support\n",
      "\n",
      "  card_queries_or_issues       0.83      0.84      0.84       501\n",
      "   needs_troubleshooting       0.80      0.88      0.84       823\n",
      "                   other       0.89      0.78      0.83       974\n",
      "top_up_queries_or_issues       0.86      0.93      0.89       319\n",
      "\n",
      "                accuracy                           0.84      2617\n",
      "               macro avg       0.84      0.86      0.85      2617\n",
      "            weighted avg       0.84      0.84      0.84      2617\n",
      "\n",
      "Accuracy: 0.8399\n",
      "Precision: 0.8424\n",
      "Recall: 0.8564\n",
      "----------------------------------------------------------------------\n",
      "\n",
      "\n",
      "----------------------------------------------------------------------\n",
      "SVM CLASSIFIER\n",
      "                          precision    recall  f1-score   support\n",
      "\n",
      "  card_queries_or_issues       0.85      0.93      0.89       501\n",
      "   needs_troubleshooting       0.88      0.90      0.89       823\n",
      "                   other       0.92      0.86      0.89       974\n",
      "top_up_queries_or_issues       0.96      0.95      0.95       319\n",
      "\n",
      "                accuracy                           0.90      2617\n",
      "               macro avg       0.90      0.91      0.91      2617\n",
      "            weighted avg       0.90      0.90      0.90      2617\n",
      "\n",
      "Accuracy: 0.8972\n",
      "Precision: 0.9029\n",
      "Recall: 0.9093\n",
      "----------------------------------------------------------------------\n",
      "\n",
      "\n",
      "----------------------------------------------------------------------\n",
      "ADABOOST CLASSIFIER\n",
      "                          precision    recall  f1-score   support\n",
      "\n",
      "  card_queries_or_issues       0.58      0.85      0.69       501\n",
      "   needs_troubleshooting       0.69      0.54      0.61       823\n",
      "                   other       0.67      0.59      0.63       974\n",
      "top_up_queries_or_issues       0.69      0.80      0.74       319\n",
      "\n",
      "                accuracy                           0.65      2617\n",
      "               macro avg       0.66      0.70      0.67      2617\n",
      "            weighted avg       0.66      0.65      0.65      2617\n",
      "\n",
      "Accuracy: 0.6534\n",
      "Precision: 0.6580\n",
      "Recall: 0.6984\n",
      "----------------------------------------------------------------------\n",
      "\n",
      "\n",
      "----------------------------------------------------------------------\n",
      "RANDOM FOREST CLASSIFIER\n",
      "                          precision    recall  f1-score   support\n",
      "\n",
      "  card_queries_or_issues       0.85      0.89      0.87       501\n",
      "   needs_troubleshooting       0.90      0.92      0.91       823\n",
      "                   other       0.91      0.88      0.89       974\n",
      "top_up_queries_or_issues       0.95      0.93      0.94       319\n",
      "\n",
      "                accuracy                           0.90      2617\n",
      "               macro avg       0.90      0.90      0.90      2617\n",
      "            weighted avg       0.90      0.90      0.90      2617\n",
      "\n",
      "Accuracy: 0.8976\n",
      "Precision: 0.9016\n",
      "Recall: 0.9025\n",
      "----------------------------------------------------------------------\n",
      "\n",
      "\n",
      "----------------------------------------------------------------------\n",
      "GRADIENT BOOSTING CLASSIFIER\n",
      "                          precision    recall  f1-score   support\n",
      "\n",
      "  card_queries_or_issues       0.75      0.90      0.82       501\n",
      "   needs_troubleshooting       0.85      0.82      0.83       823\n",
      "                   other       0.87      0.81      0.84       974\n",
      "top_up_queries_or_issues       0.93      0.93      0.93       319\n",
      "\n",
      "                accuracy                           0.84      2617\n",
      "               macro avg       0.85      0.86      0.85      2617\n",
      "            weighted avg       0.85      0.84      0.84      2617\n",
      "\n",
      "Accuracy: 0.8429\n",
      "Precision: 0.8494\n",
      "Recall: 0.8635\n",
      "----------------------------------------------------------------------\n",
      "\n",
      "\n"
     ]
    }
   ],
   "source": [
    "import pickle\n",
    "from sklearn.model_selection import GridSearchCV\n",
    "from sklearn.metrics import classification_report, accuracy_score, precision_score, recall_score\n",
    "from sklearn.pipeline import Pipeline\n",
    "from sklearn.feature_extraction.text import TfidfVectorizer\n",
    "from sklearn.linear_model import LogisticRegression\n",
    "from sklearn.naive_bayes import MultinomialNB\n",
    "from sklearn.svm import SVC\n",
    "from sklearn.ensemble import RandomForestClassifier, GradientBoostingClassifier, AdaBoostClassifier\n",
    "import xgboost as xgb\n",
    "\n",
    "\n",
    "def evaluate_classifier(name, classifier, X_train, y_train, X_test, y_test, save_model=False, n_decimals=4):\n",
    "    classifier.fit(X_train, y_train)\n",
    "    y_pred = classifier.predict(X_test)\n",
    "    print('-' * 70)\n",
    "    print(f'{name.upper()} CLASSIFIER')\n",
    "    print(classification_report(y_test, y_pred))\n",
    "    accuracy = accuracy_score(y_test, y_pred)\n",
    "    precision = precision_score(y_test, y_pred, average='macro')\n",
    "    recall = recall_score(y_test, y_pred, average='macro')\n",
    "    print(f\"Accuracy: {accuracy:.{n_decimals}f}\")\n",
    "    print(f\"Precision: {precision:.{n_decimals}f}\")\n",
    "    print(f\"Recall: {recall:.{n_decimals}f}\")\n",
    "    print('-' * 70)\n",
    "    print('\\n')\n",
    "\n",
    "    if save_model:\n",
    "        with open(f'{name.lower()}_classifier.pkl', 'wb') as f:\n",
    "            pickle.dump(classifier, f)\n",
    "\n",
    "\n",
    "# Define the classifiers with their corresponding pipelines\n",
    "classifiers = {\n",
    "    'logistic regression': Pipeline([('tfidf', TfidfVectorizer()), ('clf', LogisticRegression())]),\n",
    "    'naive bayes': Pipeline([('tfidf', TfidfVectorizer()), ('clf', MultinomialNB())]),\n",
    "    'svm': Pipeline([('tfidf', TfidfVectorizer()), ('clf', SVC(kernel='linear'))]),\n",
    "    'adaboost': Pipeline([('tfidf', TfidfVectorizer()), ('clf', AdaBoostClassifier(n_estimators=300))]),  \n",
    "    'random forest': Pipeline([('tfidf', TfidfVectorizer()), ('clf', RandomForestClassifier(n_estimators=100, random_state=42))]),\n",
    "    'gradient boosting': Pipeline([('tfidf', TfidfVectorizer()), ('clf', GradientBoostingClassifier())])\n",
    "}\n",
    "\n",
    "# Evaluate each classifier and print evaluation metrics\n",
    "for name, classifier in classifiers.items():\n",
    "    evaluate_classifier(name, classifier, X_train_resampled.ravel(), y_train_resampled, X_test, y_test, save_model=True, n_decimals=4)\n"
   ]
  },
  {
   "cell_type": "code",
   "execution_count": null,
   "id": "8a70243e",
   "metadata": {},
   "outputs": [],
   "source": []
  },
  {
   "cell_type": "code",
   "execution_count": null,
   "id": "c069922e",
   "metadata": {},
   "outputs": [],
   "source": []
  },
  {
   "cell_type": "code",
   "execution_count": null,
   "id": "413ab58b",
   "metadata": {},
   "outputs": [],
   "source": []
  },
  {
   "cell_type": "markdown",
   "id": "0e8ce069",
   "metadata": {},
   "source": [
    "# Hyperparameter Tuning"
   ]
  },
  {
   "cell_type": "code",
   "execution_count": 299,
   "id": "04f5d3e0",
   "metadata": {},
   "outputs": [
    {
     "name": "stdout",
     "output_type": "stream",
     "text": [
      "Fitting 5 folds for each of 8 candidates, totalling 40 fits\n",
      "----------------------------------------------------------------------\n",
      "NAIVE BAYES CLASSIFIER\n",
      "                          precision    recall  f1-score   support\n",
      "\n",
      "  card_queries_or_issues       0.84      0.81      0.83       501\n",
      "   needs_troubleshooting       0.80      0.88      0.84       823\n",
      "                   other       0.87      0.79      0.83       974\n",
      "top_up_queries_or_issues       0.86      0.90      0.88       319\n",
      "\n",
      "                accuracy                           0.84      2617\n",
      "               macro avg       0.84      0.85      0.84      2617\n",
      "            weighted avg       0.84      0.84      0.84      2617\n",
      "\n",
      "Accuracy: 0.8376\n",
      "Precision: 0.8419\n",
      "Recall: 0.8467\n",
      "----------------------------------------------------------------------\n",
      "\n",
      "\n",
      "Fitting 5 folds for each of 144 candidates, totalling 720 fits\n"
     ]
    },
    {
     "ename": "KeyboardInterrupt",
     "evalue": "",
     "output_type": "error",
     "traceback": [
      "\u001b[0;31m---------------------------------------------------------------------------\u001b[0m",
      "\u001b[0;31mKeyboardInterrupt\u001b[0m                         Traceback (most recent call last)",
      "Cell \u001b[0;32mIn [299], line 62\u001b[0m\n\u001b[1;32m     60\u001b[0m \u001b[38;5;28;01mfor\u001b[39;00m name, classifier \u001b[38;5;129;01min\u001b[39;00m classifiers\u001b[38;5;241m.\u001b[39mitems():\n\u001b[1;32m     61\u001b[0m     grid_search \u001b[38;5;241m=\u001b[39m GridSearchCV(classifier[\u001b[38;5;124m'\u001b[39m\u001b[38;5;124mpipeline\u001b[39m\u001b[38;5;124m'\u001b[39m], classifier[\u001b[38;5;124m'\u001b[39m\u001b[38;5;124mparams\u001b[39m\u001b[38;5;124m'\u001b[39m], cv\u001b[38;5;241m=\u001b[39m\u001b[38;5;241m5\u001b[39m, n_jobs\u001b[38;5;241m=\u001b[39m\u001b[38;5;241m-\u001b[39m\u001b[38;5;241m1\u001b[39m, verbose\u001b[38;5;241m=\u001b[39m\u001b[38;5;241m1\u001b[39m)\n\u001b[0;32m---> 62\u001b[0m     \u001b[43mgrid_search\u001b[49m\u001b[38;5;241;43m.\u001b[39;49m\u001b[43mfit\u001b[49m\u001b[43m(\u001b[49m\u001b[43mX_train_resampled\u001b[49m\u001b[38;5;241;43m.\u001b[39;49m\u001b[43mravel\u001b[49m\u001b[43m(\u001b[49m\u001b[43m)\u001b[49m\u001b[43m,\u001b[49m\u001b[43m \u001b[49m\u001b[43my_train_resampled\u001b[49m\u001b[43m)\u001b[49m\n\u001b[1;32m     63\u001b[0m     best_params[name] \u001b[38;5;241m=\u001b[39m grid_search\u001b[38;5;241m.\u001b[39mbest_params_\n\u001b[1;32m     64\u001b[0m     clf \u001b[38;5;241m=\u001b[39m classifier[\u001b[38;5;124m'\u001b[39m\u001b[38;5;124mpipeline\u001b[39m\u001b[38;5;124m'\u001b[39m]\u001b[38;5;241m.\u001b[39mset_params(\u001b[38;5;241m*\u001b[39m\u001b[38;5;241m*\u001b[39mgrid_search\u001b[38;5;241m.\u001b[39mbest_params_)\n",
      "File \u001b[0;32m~/.local/lib/python3.10/site-packages/sklearn/model_selection/_search.py:875\u001b[0m, in \u001b[0;36mBaseSearchCV.fit\u001b[0;34m(self, X, y, groups, **fit_params)\u001b[0m\n\u001b[1;32m    869\u001b[0m     results \u001b[38;5;241m=\u001b[39m \u001b[38;5;28mself\u001b[39m\u001b[38;5;241m.\u001b[39m_format_results(\n\u001b[1;32m    870\u001b[0m         all_candidate_params, n_splits, all_out, all_more_results\n\u001b[1;32m    871\u001b[0m     )\n\u001b[1;32m    873\u001b[0m     \u001b[38;5;28;01mreturn\u001b[39;00m results\n\u001b[0;32m--> 875\u001b[0m \u001b[38;5;28;43mself\u001b[39;49m\u001b[38;5;241;43m.\u001b[39;49m\u001b[43m_run_search\u001b[49m\u001b[43m(\u001b[49m\u001b[43mevaluate_candidates\u001b[49m\u001b[43m)\u001b[49m\n\u001b[1;32m    877\u001b[0m \u001b[38;5;66;03m# multimetric is determined here because in the case of a callable\u001b[39;00m\n\u001b[1;32m    878\u001b[0m \u001b[38;5;66;03m# self.scoring the return type is only known after calling\u001b[39;00m\n\u001b[1;32m    879\u001b[0m first_test_score \u001b[38;5;241m=\u001b[39m all_out[\u001b[38;5;241m0\u001b[39m][\u001b[38;5;124m\"\u001b[39m\u001b[38;5;124mtest_scores\u001b[39m\u001b[38;5;124m\"\u001b[39m]\n",
      "File \u001b[0;32m~/.local/lib/python3.10/site-packages/sklearn/model_selection/_search.py:1379\u001b[0m, in \u001b[0;36mGridSearchCV._run_search\u001b[0;34m(self, evaluate_candidates)\u001b[0m\n\u001b[1;32m   1377\u001b[0m \u001b[38;5;28;01mdef\u001b[39;00m \u001b[38;5;21m_run_search\u001b[39m(\u001b[38;5;28mself\u001b[39m, evaluate_candidates):\n\u001b[1;32m   1378\u001b[0m     \u001b[38;5;124;03m\"\"\"Search all candidates in param_grid\"\"\"\u001b[39;00m\n\u001b[0;32m-> 1379\u001b[0m     \u001b[43mevaluate_candidates\u001b[49m\u001b[43m(\u001b[49m\u001b[43mParameterGrid\u001b[49m\u001b[43m(\u001b[49m\u001b[38;5;28;43mself\u001b[39;49m\u001b[38;5;241;43m.\u001b[39;49m\u001b[43mparam_grid\u001b[49m\u001b[43m)\u001b[49m\u001b[43m)\u001b[49m\n",
      "File \u001b[0;32m~/.local/lib/python3.10/site-packages/sklearn/model_selection/_search.py:822\u001b[0m, in \u001b[0;36mBaseSearchCV.fit.<locals>.evaluate_candidates\u001b[0;34m(candidate_params, cv, more_results)\u001b[0m\n\u001b[1;32m    814\u001b[0m \u001b[38;5;28;01mif\u001b[39;00m \u001b[38;5;28mself\u001b[39m\u001b[38;5;241m.\u001b[39mverbose \u001b[38;5;241m>\u001b[39m \u001b[38;5;241m0\u001b[39m:\n\u001b[1;32m    815\u001b[0m     \u001b[38;5;28mprint\u001b[39m(\n\u001b[1;32m    816\u001b[0m         \u001b[38;5;124m\"\u001b[39m\u001b[38;5;124mFitting \u001b[39m\u001b[38;5;132;01m{0}\u001b[39;00m\u001b[38;5;124m folds for each of \u001b[39m\u001b[38;5;132;01m{1}\u001b[39;00m\u001b[38;5;124m candidates,\u001b[39m\u001b[38;5;124m\"\u001b[39m\n\u001b[1;32m    817\u001b[0m         \u001b[38;5;124m\"\u001b[39m\u001b[38;5;124m totalling \u001b[39m\u001b[38;5;132;01m{2}\u001b[39;00m\u001b[38;5;124m fits\u001b[39m\u001b[38;5;124m\"\u001b[39m\u001b[38;5;241m.\u001b[39mformat(\n\u001b[1;32m    818\u001b[0m             n_splits, n_candidates, n_candidates \u001b[38;5;241m*\u001b[39m n_splits\n\u001b[1;32m    819\u001b[0m         )\n\u001b[1;32m    820\u001b[0m     )\n\u001b[0;32m--> 822\u001b[0m out \u001b[38;5;241m=\u001b[39m \u001b[43mparallel\u001b[49m\u001b[43m(\u001b[49m\n\u001b[1;32m    823\u001b[0m \u001b[43m    \u001b[49m\u001b[43mdelayed\u001b[49m\u001b[43m(\u001b[49m\u001b[43m_fit_and_score\u001b[49m\u001b[43m)\u001b[49m\u001b[43m(\u001b[49m\n\u001b[1;32m    824\u001b[0m \u001b[43m        \u001b[49m\u001b[43mclone\u001b[49m\u001b[43m(\u001b[49m\u001b[43mbase_estimator\u001b[49m\u001b[43m)\u001b[49m\u001b[43m,\u001b[49m\n\u001b[1;32m    825\u001b[0m \u001b[43m        \u001b[49m\u001b[43mX\u001b[49m\u001b[43m,\u001b[49m\n\u001b[1;32m    826\u001b[0m \u001b[43m        \u001b[49m\u001b[43my\u001b[49m\u001b[43m,\u001b[49m\n\u001b[1;32m    827\u001b[0m \u001b[43m        \u001b[49m\u001b[43mtrain\u001b[49m\u001b[38;5;241;43m=\u001b[39;49m\u001b[43mtrain\u001b[49m\u001b[43m,\u001b[49m\n\u001b[1;32m    828\u001b[0m \u001b[43m        \u001b[49m\u001b[43mtest\u001b[49m\u001b[38;5;241;43m=\u001b[39;49m\u001b[43mtest\u001b[49m\u001b[43m,\u001b[49m\n\u001b[1;32m    829\u001b[0m \u001b[43m        \u001b[49m\u001b[43mparameters\u001b[49m\u001b[38;5;241;43m=\u001b[39;49m\u001b[43mparameters\u001b[49m\u001b[43m,\u001b[49m\n\u001b[1;32m    830\u001b[0m \u001b[43m        \u001b[49m\u001b[43msplit_progress\u001b[49m\u001b[38;5;241;43m=\u001b[39;49m\u001b[43m(\u001b[49m\u001b[43msplit_idx\u001b[49m\u001b[43m,\u001b[49m\u001b[43m \u001b[49m\u001b[43mn_splits\u001b[49m\u001b[43m)\u001b[49m\u001b[43m,\u001b[49m\n\u001b[1;32m    831\u001b[0m \u001b[43m        \u001b[49m\u001b[43mcandidate_progress\u001b[49m\u001b[38;5;241;43m=\u001b[39;49m\u001b[43m(\u001b[49m\u001b[43mcand_idx\u001b[49m\u001b[43m,\u001b[49m\u001b[43m \u001b[49m\u001b[43mn_candidates\u001b[49m\u001b[43m)\u001b[49m\u001b[43m,\u001b[49m\n\u001b[1;32m    832\u001b[0m \u001b[43m        \u001b[49m\u001b[38;5;241;43m*\u001b[39;49m\u001b[38;5;241;43m*\u001b[39;49m\u001b[43mfit_and_score_kwargs\u001b[49m\u001b[43m,\u001b[49m\n\u001b[1;32m    833\u001b[0m \u001b[43m    \u001b[49m\u001b[43m)\u001b[49m\n\u001b[1;32m    834\u001b[0m \u001b[43m    \u001b[49m\u001b[38;5;28;43;01mfor\u001b[39;49;00m\u001b[43m \u001b[49m\u001b[43m(\u001b[49m\u001b[43mcand_idx\u001b[49m\u001b[43m,\u001b[49m\u001b[43m \u001b[49m\u001b[43mparameters\u001b[49m\u001b[43m)\u001b[49m\u001b[43m,\u001b[49m\u001b[43m \u001b[49m\u001b[43m(\u001b[49m\u001b[43msplit_idx\u001b[49m\u001b[43m,\u001b[49m\u001b[43m \u001b[49m\u001b[43m(\u001b[49m\u001b[43mtrain\u001b[49m\u001b[43m,\u001b[49m\u001b[43m \u001b[49m\u001b[43mtest\u001b[49m\u001b[43m)\u001b[49m\u001b[43m)\u001b[49m\u001b[43m \u001b[49m\u001b[38;5;129;43;01min\u001b[39;49;00m\u001b[43m \u001b[49m\u001b[43mproduct\u001b[49m\u001b[43m(\u001b[49m\n\u001b[1;32m    835\u001b[0m \u001b[43m        \u001b[49m\u001b[38;5;28;43menumerate\u001b[39;49m\u001b[43m(\u001b[49m\u001b[43mcandidate_params\u001b[49m\u001b[43m)\u001b[49m\u001b[43m,\u001b[49m\u001b[43m \u001b[49m\u001b[38;5;28;43menumerate\u001b[39;49m\u001b[43m(\u001b[49m\u001b[43mcv\u001b[49m\u001b[38;5;241;43m.\u001b[39;49m\u001b[43msplit\u001b[49m\u001b[43m(\u001b[49m\u001b[43mX\u001b[49m\u001b[43m,\u001b[49m\u001b[43m \u001b[49m\u001b[43my\u001b[49m\u001b[43m,\u001b[49m\u001b[43m \u001b[49m\u001b[43mgroups\u001b[49m\u001b[43m)\u001b[49m\u001b[43m)\u001b[49m\n\u001b[1;32m    836\u001b[0m \u001b[43m    \u001b[49m\u001b[43m)\u001b[49m\n\u001b[1;32m    837\u001b[0m \u001b[43m\u001b[49m\u001b[43m)\u001b[49m\n\u001b[1;32m    839\u001b[0m \u001b[38;5;28;01mif\u001b[39;00m \u001b[38;5;28mlen\u001b[39m(out) \u001b[38;5;241m<\u001b[39m \u001b[38;5;241m1\u001b[39m:\n\u001b[1;32m    840\u001b[0m     \u001b[38;5;28;01mraise\u001b[39;00m \u001b[38;5;167;01mValueError\u001b[39;00m(\n\u001b[1;32m    841\u001b[0m         \u001b[38;5;124m\"\u001b[39m\u001b[38;5;124mNo fits were performed. \u001b[39m\u001b[38;5;124m\"\u001b[39m\n\u001b[1;32m    842\u001b[0m         \u001b[38;5;124m\"\u001b[39m\u001b[38;5;124mWas the CV iterator empty? \u001b[39m\u001b[38;5;124m\"\u001b[39m\n\u001b[1;32m    843\u001b[0m         \u001b[38;5;124m\"\u001b[39m\u001b[38;5;124mWere there no candidates?\u001b[39m\u001b[38;5;124m\"\u001b[39m\n\u001b[1;32m    844\u001b[0m     )\n",
      "File \u001b[0;32m~/.local/lib/python3.10/site-packages/joblib/parallel.py:1098\u001b[0m, in \u001b[0;36mParallel.__call__\u001b[0;34m(self, iterable)\u001b[0m\n\u001b[1;32m   1095\u001b[0m     \u001b[38;5;28mself\u001b[39m\u001b[38;5;241m.\u001b[39m_iterating \u001b[38;5;241m=\u001b[39m \u001b[38;5;28;01mFalse\u001b[39;00m\n\u001b[1;32m   1097\u001b[0m \u001b[38;5;28;01mwith\u001b[39;00m \u001b[38;5;28mself\u001b[39m\u001b[38;5;241m.\u001b[39m_backend\u001b[38;5;241m.\u001b[39mretrieval_context():\n\u001b[0;32m-> 1098\u001b[0m     \u001b[38;5;28;43mself\u001b[39;49m\u001b[38;5;241;43m.\u001b[39;49m\u001b[43mretrieve\u001b[49m\u001b[43m(\u001b[49m\u001b[43m)\u001b[49m\n\u001b[1;32m   1099\u001b[0m \u001b[38;5;66;03m# Make sure that we get a last message telling us we are done\u001b[39;00m\n\u001b[1;32m   1100\u001b[0m elapsed_time \u001b[38;5;241m=\u001b[39m time\u001b[38;5;241m.\u001b[39mtime() \u001b[38;5;241m-\u001b[39m \u001b[38;5;28mself\u001b[39m\u001b[38;5;241m.\u001b[39m_start_time\n",
      "File \u001b[0;32m~/.local/lib/python3.10/site-packages/joblib/parallel.py:975\u001b[0m, in \u001b[0;36mParallel.retrieve\u001b[0;34m(self)\u001b[0m\n\u001b[1;32m    973\u001b[0m \u001b[38;5;28;01mtry\u001b[39;00m:\n\u001b[1;32m    974\u001b[0m     \u001b[38;5;28;01mif\u001b[39;00m \u001b[38;5;28mgetattr\u001b[39m(\u001b[38;5;28mself\u001b[39m\u001b[38;5;241m.\u001b[39m_backend, \u001b[38;5;124m'\u001b[39m\u001b[38;5;124msupports_timeout\u001b[39m\u001b[38;5;124m'\u001b[39m, \u001b[38;5;28;01mFalse\u001b[39;00m):\n\u001b[0;32m--> 975\u001b[0m         \u001b[38;5;28mself\u001b[39m\u001b[38;5;241m.\u001b[39m_output\u001b[38;5;241m.\u001b[39mextend(\u001b[43mjob\u001b[49m\u001b[38;5;241;43m.\u001b[39;49m\u001b[43mget\u001b[49m\u001b[43m(\u001b[49m\u001b[43mtimeout\u001b[49m\u001b[38;5;241;43m=\u001b[39;49m\u001b[38;5;28;43mself\u001b[39;49m\u001b[38;5;241;43m.\u001b[39;49m\u001b[43mtimeout\u001b[49m\u001b[43m)\u001b[49m)\n\u001b[1;32m    976\u001b[0m     \u001b[38;5;28;01melse\u001b[39;00m:\n\u001b[1;32m    977\u001b[0m         \u001b[38;5;28mself\u001b[39m\u001b[38;5;241m.\u001b[39m_output\u001b[38;5;241m.\u001b[39mextend(job\u001b[38;5;241m.\u001b[39mget())\n",
      "File \u001b[0;32m~/.local/lib/python3.10/site-packages/joblib/_parallel_backends.py:567\u001b[0m, in \u001b[0;36mLokyBackend.wrap_future_result\u001b[0;34m(future, timeout)\u001b[0m\n\u001b[1;32m    564\u001b[0m \u001b[38;5;124;03m\"\"\"Wrapper for Future.result to implement the same behaviour as\u001b[39;00m\n\u001b[1;32m    565\u001b[0m \u001b[38;5;124;03mAsyncResults.get from multiprocessing.\"\"\"\u001b[39;00m\n\u001b[1;32m    566\u001b[0m \u001b[38;5;28;01mtry\u001b[39;00m:\n\u001b[0;32m--> 567\u001b[0m     \u001b[38;5;28;01mreturn\u001b[39;00m \u001b[43mfuture\u001b[49m\u001b[38;5;241;43m.\u001b[39;49m\u001b[43mresult\u001b[49m\u001b[43m(\u001b[49m\u001b[43mtimeout\u001b[49m\u001b[38;5;241;43m=\u001b[39;49m\u001b[43mtimeout\u001b[49m\u001b[43m)\u001b[49m\n\u001b[1;32m    568\u001b[0m \u001b[38;5;28;01mexcept\u001b[39;00m CfTimeoutError \u001b[38;5;28;01mas\u001b[39;00m e:\n\u001b[1;32m    569\u001b[0m     \u001b[38;5;28;01mraise\u001b[39;00m \u001b[38;5;167;01mTimeoutError\u001b[39;00m \u001b[38;5;28;01mfrom\u001b[39;00m \u001b[38;5;21;01me\u001b[39;00m\n",
      "File \u001b[0;32m/usr/lib/python3.10/concurrent/futures/_base.py:453\u001b[0m, in \u001b[0;36mFuture.result\u001b[0;34m(self, timeout)\u001b[0m\n\u001b[1;32m    450\u001b[0m \u001b[38;5;28;01melif\u001b[39;00m \u001b[38;5;28mself\u001b[39m\u001b[38;5;241m.\u001b[39m_state \u001b[38;5;241m==\u001b[39m FINISHED:\n\u001b[1;32m    451\u001b[0m     \u001b[38;5;28;01mreturn\u001b[39;00m \u001b[38;5;28mself\u001b[39m\u001b[38;5;241m.\u001b[39m__get_result()\n\u001b[0;32m--> 453\u001b[0m \u001b[38;5;28;43mself\u001b[39;49m\u001b[38;5;241;43m.\u001b[39;49m\u001b[43m_condition\u001b[49m\u001b[38;5;241;43m.\u001b[39;49m\u001b[43mwait\u001b[49m\u001b[43m(\u001b[49m\u001b[43mtimeout\u001b[49m\u001b[43m)\u001b[49m\n\u001b[1;32m    455\u001b[0m \u001b[38;5;28;01mif\u001b[39;00m \u001b[38;5;28mself\u001b[39m\u001b[38;5;241m.\u001b[39m_state \u001b[38;5;129;01min\u001b[39;00m [CANCELLED, CANCELLED_AND_NOTIFIED]:\n\u001b[1;32m    456\u001b[0m     \u001b[38;5;28;01mraise\u001b[39;00m CancelledError()\n",
      "File \u001b[0;32m/usr/lib/python3.10/threading.py:320\u001b[0m, in \u001b[0;36mCondition.wait\u001b[0;34m(self, timeout)\u001b[0m\n\u001b[1;32m    318\u001b[0m \u001b[38;5;28;01mtry\u001b[39;00m:    \u001b[38;5;66;03m# restore state no matter what (e.g., KeyboardInterrupt)\u001b[39;00m\n\u001b[1;32m    319\u001b[0m     \u001b[38;5;28;01mif\u001b[39;00m timeout \u001b[38;5;129;01mis\u001b[39;00m \u001b[38;5;28;01mNone\u001b[39;00m:\n\u001b[0;32m--> 320\u001b[0m         \u001b[43mwaiter\u001b[49m\u001b[38;5;241;43m.\u001b[39;49m\u001b[43macquire\u001b[49m\u001b[43m(\u001b[49m\u001b[43m)\u001b[49m\n\u001b[1;32m    321\u001b[0m         gotit \u001b[38;5;241m=\u001b[39m \u001b[38;5;28;01mTrue\u001b[39;00m\n\u001b[1;32m    322\u001b[0m     \u001b[38;5;28;01melse\u001b[39;00m:\n",
      "\u001b[0;31mKeyboardInterrupt\u001b[0m: "
     ]
    }
   ],
   "source": [
    "import pickle\n",
    "from sklearn.model_selection import GridSearchCV\n",
    "from sklearn.metrics import classification_report, accuracy_score, precision_score, recall_score\n",
    "from sklearn.pipeline import Pipeline\n",
    "from sklearn.feature_extraction.text import TfidfVectorizer\n",
    "from sklearn.linear_model import LogisticRegression\n",
    "from sklearn.naive_bayes import MultinomialNB\n",
    "from sklearn.svm import SVC\n",
    "from sklearn.ensemble import RandomForestClassifier, GradientBoostingClassifier, AdaBoostClassifier\n",
    "import xgboost as xgb\n",
    "\n",
    "\n",
    "# Parameters for Logistic Regression\n",
    "lr_params = {'clf__C': [0.1, 1, 10], \n",
    "             'clf__penalty': ['l1', 'l2'], \n",
    "             'clf__solver': ['newton-cg', 'lbfgs', 'liblinear', 'sag', 'saga'], \n",
    "             'clf__max_iter': [100, 200, 300]}\n",
    "\n",
    "# Parameters for Naive Bayes\n",
    "nb_params = {'clf__alpha': [0.01, 0.1, 1, 10], \n",
    "             'clf__fit_prior': [True, False]}\n",
    "\n",
    "# Parameters for Support Vector Machine\n",
    "svm_params = {'clf__C': [0.1, 1, 10], \n",
    "              'clf__kernel': ['linear', 'rbf'], \n",
    "              'clf__gamma': ['scale', 'auto'], \n",
    "              'clf__degree': [2, 3, 4, 5], \n",
    "              'clf__coef0': [0.0, 0.5, 1.0]}\n",
    "\n",
    "# Parameters for Random Forest\n",
    "rf_params = {'tfidf__max_df': [0.5, 0.75, 1.0], \n",
    "             'clf__n_estimators': [100, 200, 300], \n",
    "             'clf__max_depth': [5, 10, 15], \n",
    "             'clf__min_samples_split': [2, 5, 10], \n",
    "             'clf__min_samples_leaf': [1, 2, 4]}\n",
    "\n",
    "# Parameters for Gradient Boosting\n",
    "gb_params = {'clf__n_estimators': [100, 200, 300], \n",
    "             'clf__learning_rate': [0.01, 0.1, 1.0], \n",
    "             'clf__subsample': [0.5, 0.75, 1.0]}\n",
    "\n",
    "# Parameters for AdaBoost\n",
    "ab_params = {'clf__n_estimators': [100, 200, 300], \n",
    "             'clf__learning_rate': [0.01, 0.1, 1]}\n",
    "\n",
    "\n",
    "# Define the classifiers with their corresponding pipelines and hyperparameter grids\n",
    "classifiers = {\n",
    "#     'logistic regression': {'pipeline': Pipeline([('tfidf', TfidfVectorizer()), ('clf', LogisticRegression())]), 'params': lr_params},\n",
    "    'naive bayes': {'pipeline': Pipeline([('tfidf', TfidfVectorizer()), ('clf', MultinomialNB())]), 'params': nb_params},\n",
    "    'svm': {'pipeline': Pipeline([('tfidf', TfidfVectorizer()), ('clf', SVC(kernel='linear'))]), 'params': svm_params},\n",
    "    'adaboost': {'pipeline': Pipeline([('tfidf', TfidfVectorizer()), ('clf', AdaBoostClassifier())]), 'params': ab_params},\n",
    "    'random forest': {'pipeline': Pipeline([('tfidf', TfidfVectorizer()), ('clf', RandomForestClassifier(random_state=42))]), 'params': rf_params},\n",
    "    'gradient boosting': {'pipeline': Pipeline([('tfidf', TfidfVectorizer()), ('clf', GradientBoostingClassifier())]), 'params': gb_params},\n",
    "}\n",
    "\n",
    "best_params = {}\n",
    "\n",
    "# Evaluate each classifier and print evaluation metrics\n",
    "for name, classifier in classifiers.items():\n",
    "    grid_search = GridSearchCV(classifier['pipeline'], classifier['params'], cv=5, n_jobs=-1, verbose=1)\n",
    "    grid_search.fit(X_train_resampled.ravel(), y_train_resampled)\n",
    "    best_params[name] = grid_search.best_params_\n",
    "    clf = classifier['pipeline'].set_params(**grid_search.best_params_)\n",
    "    evaluate_classifier(name, clf, X_train_resampled.ravel(), y_train_resampled, X_test, y_test, save_model=True, n_decimals=4)\n",
    "\n",
    "# Save the best parameters for all models\n",
    "with open('best_params.pkl', 'wb') as f:\n",
    "    pickle.dump(best_params, f)\n"
   ]
  },
  {
   "cell_type": "code",
   "execution_count": null,
   "id": "45a36b59",
   "metadata": {},
   "outputs": [],
   "source": []
  },
  {
   "cell_type": "code",
   "execution_count": null,
   "id": "4606345c",
   "metadata": {},
   "outputs": [],
   "source": []
  },
  {
   "cell_type": "code",
   "execution_count": null,
   "id": "3a817911",
   "metadata": {},
   "outputs": [],
   "source": []
  },
  {
   "cell_type": "code",
   "execution_count": null,
   "id": "93e45957",
   "metadata": {},
   "outputs": [],
   "source": []
  },
  {
   "cell_type": "code",
   "execution_count": null,
   "id": "c2e07df5",
   "metadata": {},
   "outputs": [],
   "source": []
  },
  {
   "cell_type": "markdown",
   "id": "01ceab1d",
   "metadata": {},
   "source": [
    "## Overnight Run"
   ]
  },
  {
   "cell_type": "code",
   "execution_count": 333,
   "id": "c3a3bc51",
   "metadata": {},
   "outputs": [
    {
     "name": "stdout",
     "output_type": "stream",
     "text": [
      "2023-03-26 20:40:55.476103\n",
      "Fitting 5 folds for each of 90 candidates, totalling 450 fits\n"
     ]
    },
    {
     "name": "stderr",
     "output_type": "stream",
     "text": [
      "/home/ashis-solomon/.local/lib/python3.10/site-packages/sklearn/linear_model/_logistic.py:444: ConvergenceWarning: lbfgs failed to converge (status=1):\n",
      "STOP: TOTAL NO. of ITERATIONS REACHED LIMIT.\n",
      "\n",
      "Increase the number of iterations (max_iter) or scale the data as shown in:\n",
      "    https://scikit-learn.org/stable/modules/preprocessing.html\n",
      "Please also refer to the documentation for alternative solver options:\n",
      "    https://scikit-learn.org/stable/modules/linear_model.html#logistic-regression\n",
      "  n_iter_i = _check_optimize_result(\n",
      "/home/ashis-solomon/.local/lib/python3.10/site-packages/sklearn/linear_model/_logistic.py:444: ConvergenceWarning: lbfgs failed to converge (status=1):\n",
      "STOP: TOTAL NO. of ITERATIONS REACHED LIMIT.\n",
      "\n",
      "Increase the number of iterations (max_iter) or scale the data as shown in:\n",
      "    https://scikit-learn.org/stable/modules/preprocessing.html\n",
      "Please also refer to the documentation for alternative solver options:\n",
      "    https://scikit-learn.org/stable/modules/linear_model.html#logistic-regression\n",
      "  n_iter_i = _check_optimize_result(\n",
      "/home/ashis-solomon/.local/lib/python3.10/site-packages/sklearn/linear_model/_logistic.py:444: ConvergenceWarning: lbfgs failed to converge (status=1):\n",
      "STOP: TOTAL NO. of ITERATIONS REACHED LIMIT.\n",
      "\n",
      "Increase the number of iterations (max_iter) or scale the data as shown in:\n",
      "    https://scikit-learn.org/stable/modules/preprocessing.html\n",
      "Please also refer to the documentation for alternative solver options:\n",
      "    https://scikit-learn.org/stable/modules/linear_model.html#logistic-regression\n",
      "  n_iter_i = _check_optimize_result(\n",
      "/home/ashis-solomon/.local/lib/python3.10/site-packages/sklearn/linear_model/_logistic.py:444: ConvergenceWarning: lbfgs failed to converge (status=1):\n",
      "STOP: TOTAL NO. of ITERATIONS REACHED LIMIT.\n",
      "\n",
      "Increase the number of iterations (max_iter) or scale the data as shown in:\n",
      "    https://scikit-learn.org/stable/modules/preprocessing.html\n",
      "Please also refer to the documentation for alternative solver options:\n",
      "    https://scikit-learn.org/stable/modules/linear_model.html#logistic-regression\n",
      "  n_iter_i = _check_optimize_result(\n",
      "/home/ashis-solomon/.local/lib/python3.10/site-packages/sklearn/linear_model/_logistic.py:444: ConvergenceWarning: lbfgs failed to converge (status=1):\n",
      "STOP: TOTAL NO. of ITERATIONS REACHED LIMIT.\n",
      "\n",
      "Increase the number of iterations (max_iter) or scale the data as shown in:\n",
      "    https://scikit-learn.org/stable/modules/preprocessing.html\n",
      "Please also refer to the documentation for alternative solver options:\n",
      "    https://scikit-learn.org/stable/modules/linear_model.html#logistic-regression\n",
      "  n_iter_i = _check_optimize_result(\n",
      "/home/ashis-solomon/.local/lib/python3.10/site-packages/sklearn/linear_model/_sag.py:350: ConvergenceWarning: The max_iter was reached which means the coef_ did not converge\n",
      "  warnings.warn(\n",
      "/home/ashis-solomon/.local/lib/python3.10/site-packages/sklearn/linear_model/_sag.py:350: ConvergenceWarning: The max_iter was reached which means the coef_ did not converge\n",
      "  warnings.warn(\n",
      "/home/ashis-solomon/.local/lib/python3.10/site-packages/sklearn/linear_model/_sag.py:350: ConvergenceWarning: The max_iter was reached which means the coef_ did not converge\n",
      "  warnings.warn(\n",
      "/home/ashis-solomon/.local/lib/python3.10/site-packages/sklearn/linear_model/_sag.py:350: ConvergenceWarning: The max_iter was reached which means the coef_ did not converge\n",
      "  warnings.warn(\n",
      "/home/ashis-solomon/.local/lib/python3.10/site-packages/sklearn/linear_model/_sag.py:350: ConvergenceWarning: The max_iter was reached which means the coef_ did not converge\n",
      "  warnings.warn(\n",
      "/home/ashis-solomon/.local/lib/python3.10/site-packages/sklearn/linear_model/_logistic.py:444: ConvergenceWarning: lbfgs failed to converge (status=1):\n",
      "STOP: TOTAL NO. of ITERATIONS REACHED LIMIT.\n",
      "\n",
      "Increase the number of iterations (max_iter) or scale the data as shown in:\n",
      "    https://scikit-learn.org/stable/modules/preprocessing.html\n",
      "Please also refer to the documentation for alternative solver options:\n",
      "    https://scikit-learn.org/stable/modules/linear_model.html#logistic-regression\n",
      "  n_iter_i = _check_optimize_result(\n",
      "/home/ashis-solomon/.local/lib/python3.10/site-packages/sklearn/linear_model/_logistic.py:444: ConvergenceWarning: lbfgs failed to converge (status=1):\n",
      "STOP: TOTAL NO. of ITERATIONS REACHED LIMIT.\n",
      "\n",
      "Increase the number of iterations (max_iter) or scale the data as shown in:\n",
      "    https://scikit-learn.org/stable/modules/preprocessing.html\n",
      "Please also refer to the documentation for alternative solver options:\n",
      "    https://scikit-learn.org/stable/modules/linear_model.html#logistic-regression\n",
      "  n_iter_i = _check_optimize_result(\n",
      "/home/ashis-solomon/.local/lib/python3.10/site-packages/sklearn/linear_model/_logistic.py:444: ConvergenceWarning: lbfgs failed to converge (status=1):\n",
      "STOP: TOTAL NO. of ITERATIONS REACHED LIMIT.\n",
      "\n",
      "Increase the number of iterations (max_iter) or scale the data as shown in:\n",
      "    https://scikit-learn.org/stable/modules/preprocessing.html\n",
      "Please also refer to the documentation for alternative solver options:\n",
      "    https://scikit-learn.org/stable/modules/linear_model.html#logistic-regression\n",
      "  n_iter_i = _check_optimize_result(\n",
      "/home/ashis-solomon/.local/lib/python3.10/site-packages/sklearn/linear_model/_logistic.py:444: ConvergenceWarning: lbfgs failed to converge (status=1):\n",
      "STOP: TOTAL NO. of ITERATIONS REACHED LIMIT.\n",
      "\n",
      "Increase the number of iterations (max_iter) or scale the data as shown in:\n",
      "    https://scikit-learn.org/stable/modules/preprocessing.html\n",
      "Please also refer to the documentation for alternative solver options:\n",
      "    https://scikit-learn.org/stable/modules/linear_model.html#logistic-regression\n",
      "  n_iter_i = _check_optimize_result(\n",
      "/home/ashis-solomon/.local/lib/python3.10/site-packages/sklearn/linear_model/_logistic.py:444: ConvergenceWarning: lbfgs failed to converge (status=1):\n",
      "STOP: TOTAL NO. of ITERATIONS REACHED LIMIT.\n",
      "\n",
      "Increase the number of iterations (max_iter) or scale the data as shown in:\n",
      "    https://scikit-learn.org/stable/modules/preprocessing.html\n",
      "Please also refer to the documentation for alternative solver options:\n",
      "    https://scikit-learn.org/stable/modules/linear_model.html#logistic-regression\n",
      "  n_iter_i = _check_optimize_result(\n",
      "/home/ashis-solomon/.local/lib/python3.10/site-packages/sklearn/linear_model/_sag.py:350: ConvergenceWarning: The max_iter was reached which means the coef_ did not converge\n",
      "  warnings.warn(\n",
      "/home/ashis-solomon/.local/lib/python3.10/site-packages/sklearn/linear_model/_sag.py:350: ConvergenceWarning: The max_iter was reached which means the coef_ did not converge\n",
      "  warnings.warn(\n",
      "/home/ashis-solomon/.local/lib/python3.10/site-packages/sklearn/linear_model/_sag.py:350: ConvergenceWarning: The max_iter was reached which means the coef_ did not converge\n",
      "  warnings.warn(\n",
      "/home/ashis-solomon/.local/lib/python3.10/site-packages/sklearn/linear_model/_sag.py:350: ConvergenceWarning: The max_iter was reached which means the coef_ did not converge\n",
      "  warnings.warn(\n",
      "/home/ashis-solomon/.local/lib/python3.10/site-packages/sklearn/linear_model/_sag.py:350: ConvergenceWarning: The max_iter was reached which means the coef_ did not converge\n",
      "  warnings.warn(\n",
      "/home/ashis-solomon/.local/lib/python3.10/site-packages/sklearn/linear_model/_sag.py:350: ConvergenceWarning: The max_iter was reached which means the coef_ did not converge\n",
      "  warnings.warn(\n",
      "/home/ashis-solomon/.local/lib/python3.10/site-packages/sklearn/linear_model/_logistic.py:444: ConvergenceWarning: lbfgs failed to converge (status=1):\n",
      "STOP: TOTAL NO. of ITERATIONS REACHED LIMIT.\n",
      "\n",
      "Increase the number of iterations (max_iter) or scale the data as shown in:\n",
      "    https://scikit-learn.org/stable/modules/preprocessing.html\n",
      "Please also refer to the documentation for alternative solver options:\n",
      "    https://scikit-learn.org/stable/modules/linear_model.html#logistic-regression\n",
      "  n_iter_i = _check_optimize_result(\n",
      "/home/ashis-solomon/.local/lib/python3.10/site-packages/sklearn/linear_model/_logistic.py:444: ConvergenceWarning: lbfgs failed to converge (status=1):\n",
      "STOP: TOTAL NO. of ITERATIONS REACHED LIMIT.\n",
      "\n",
      "Increase the number of iterations (max_iter) or scale the data as shown in:\n",
      "    https://scikit-learn.org/stable/modules/preprocessing.html\n",
      "Please also refer to the documentation for alternative solver options:\n",
      "    https://scikit-learn.org/stable/modules/linear_model.html#logistic-regression\n",
      "  n_iter_i = _check_optimize_result(\n",
      "/home/ashis-solomon/.local/lib/python3.10/site-packages/sklearn/linear_model/_logistic.py:444: ConvergenceWarning: lbfgs failed to converge (status=1):\n",
      "STOP: TOTAL NO. of ITERATIONS REACHED LIMIT.\n",
      "\n",
      "Increase the number of iterations (max_iter) or scale the data as shown in:\n",
      "    https://scikit-learn.org/stable/modules/preprocessing.html\n",
      "Please also refer to the documentation for alternative solver options:\n",
      "    https://scikit-learn.org/stable/modules/linear_model.html#logistic-regression\n",
      "  n_iter_i = _check_optimize_result(\n"
     ]
    },
    {
     "name": "stderr",
     "output_type": "stream",
     "text": [
      "/home/ashis-solomon/.local/lib/python3.10/site-packages/sklearn/linear_model/_logistic.py:444: ConvergenceWarning: lbfgs failed to converge (status=1):\n",
      "STOP: TOTAL NO. of ITERATIONS REACHED LIMIT.\n",
      "\n",
      "Increase the number of iterations (max_iter) or scale the data as shown in:\n",
      "    https://scikit-learn.org/stable/modules/preprocessing.html\n",
      "Please also refer to the documentation for alternative solver options:\n",
      "    https://scikit-learn.org/stable/modules/linear_model.html#logistic-regression\n",
      "  n_iter_i = _check_optimize_result(\n",
      "/home/ashis-solomon/.local/lib/python3.10/site-packages/sklearn/linear_model/_logistic.py:444: ConvergenceWarning: lbfgs failed to converge (status=1):\n",
      "STOP: TOTAL NO. of ITERATIONS REACHED LIMIT.\n",
      "\n",
      "Increase the number of iterations (max_iter) or scale the data as shown in:\n",
      "    https://scikit-learn.org/stable/modules/preprocessing.html\n",
      "Please also refer to the documentation for alternative solver options:\n",
      "    https://scikit-learn.org/stable/modules/linear_model.html#logistic-regression\n",
      "  n_iter_i = _check_optimize_result(\n",
      "/home/ashis-solomon/.local/lib/python3.10/site-packages/sklearn/linear_model/_sag.py:350: ConvergenceWarning: The max_iter was reached which means the coef_ did not converge\n",
      "  warnings.warn(\n",
      "/home/ashis-solomon/.local/lib/python3.10/site-packages/sklearn/linear_model/_sag.py:350: ConvergenceWarning: The max_iter was reached which means the coef_ did not converge\n",
      "  warnings.warn(\n",
      "/home/ashis-solomon/.local/lib/python3.10/site-packages/sklearn/linear_model/_sag.py:350: ConvergenceWarning: The max_iter was reached which means the coef_ did not converge\n",
      "  warnings.warn(\n",
      "/home/ashis-solomon/.local/lib/python3.10/site-packages/sklearn/linear_model/_sag.py:350: ConvergenceWarning: The max_iter was reached which means the coef_ did not converge\n",
      "  warnings.warn(\n",
      "/home/ashis-solomon/.local/lib/python3.10/site-packages/sklearn/linear_model/_sag.py:350: ConvergenceWarning: The max_iter was reached which means the coef_ did not converge\n",
      "  warnings.warn(\n",
      "/home/ashis-solomon/.local/lib/python3.10/site-packages/sklearn/linear_model/_sag.py:350: ConvergenceWarning: The max_iter was reached which means the coef_ did not converge\n",
      "  warnings.warn(\n",
      "/home/ashis-solomon/.local/lib/python3.10/site-packages/sklearn/linear_model/_sag.py:350: ConvergenceWarning: The max_iter was reached which means the coef_ did not converge\n",
      "  warnings.warn(\n",
      "/home/ashis-solomon/.local/lib/python3.10/site-packages/sklearn/linear_model/_sag.py:350: ConvergenceWarning: The max_iter was reached which means the coef_ did not converge\n",
      "  warnings.warn(\n",
      "/home/ashis-solomon/.local/lib/python3.10/site-packages/sklearn/linear_model/_sag.py:350: ConvergenceWarning: The max_iter was reached which means the coef_ did not converge\n",
      "  warnings.warn(\n",
      "/home/ashis-solomon/.local/lib/python3.10/site-packages/sklearn/linear_model/_sag.py:350: ConvergenceWarning: The max_iter was reached which means the coef_ did not converge\n",
      "  warnings.warn(\n"
     ]
    },
    {
     "name": "stdout",
     "output_type": "stream",
     "text": [
      "----------------------------------------------------------------------\n",
      "LOGISTIC REGRESSION CLASSIFIER\n",
      "                          precision    recall  f1-score   support\n",
      "\n",
      "  card_queries_or_issues       0.86      0.90      0.88       501\n",
      "   needs_troubleshooting       0.88      0.89      0.89       823\n",
      "                   other       0.90      0.87      0.88       974\n",
      "top_up_queries_or_issues       0.96      0.95      0.95       319\n",
      "\n",
      "                accuracy                           0.89      2617\n",
      "               macro avg       0.90      0.90      0.90      2617\n",
      "            weighted avg       0.89      0.89      0.89      2617\n",
      "\n",
      "Accuracy: 0.8934\n",
      "Precision: 0.9008\n",
      "Recall: 0.9036\n",
      "----------------------------------------------------------------------\n",
      "\n",
      "\n",
      "2023-03-26 20:43:41.802009\n",
      "2023-03-26 20:43:41.802052\n",
      "Fitting 5 folds for each of 8 candidates, totalling 40 fits\n",
      "----------------------------------------------------------------------\n",
      "NAIVE BAYES CLASSIFIER\n",
      "                          precision    recall  f1-score   support\n",
      "\n",
      "  card_queries_or_issues       0.84      0.81      0.83       501\n",
      "   needs_troubleshooting       0.80      0.88      0.84       823\n",
      "                   other       0.87      0.79      0.83       974\n",
      "top_up_queries_or_issues       0.86      0.90      0.88       319\n",
      "\n",
      "                accuracy                           0.84      2617\n",
      "               macro avg       0.84      0.85      0.84      2617\n",
      "            weighted avg       0.84      0.84      0.84      2617\n",
      "\n",
      "Accuracy: 0.8376\n",
      "Precision: 0.8419\n",
      "Recall: 0.8467\n",
      "----------------------------------------------------------------------\n",
      "\n",
      "\n",
      "2023-03-26 20:43:45.996782\n",
      "2023-03-26 20:43:45.996826\n",
      "Fitting 5 folds for each of 144 candidates, totalling 720 fits\n"
     ]
    },
    {
     "ename": "KeyboardInterrupt",
     "evalue": "",
     "output_type": "error",
     "traceback": [
      "\u001b[0;31m---------------------------------------------------------------------------\u001b[0m",
      "\u001b[0;31mKeyboardInterrupt\u001b[0m                         Traceback (most recent call last)",
      "Cell \u001b[0;32mIn [333], line 65\u001b[0m\n\u001b[1;32m     63\u001b[0m \u001b[38;5;28mprint\u001b[39m(datetime\u001b[38;5;241m.\u001b[39mnow())\n\u001b[1;32m     64\u001b[0m grid_search \u001b[38;5;241m=\u001b[39m GridSearchCV(classifier[\u001b[38;5;124m'\u001b[39m\u001b[38;5;124mpipeline\u001b[39m\u001b[38;5;124m'\u001b[39m], classifier[\u001b[38;5;124m'\u001b[39m\u001b[38;5;124mparams\u001b[39m\u001b[38;5;124m'\u001b[39m], cv\u001b[38;5;241m=\u001b[39m\u001b[38;5;241m5\u001b[39m, n_jobs\u001b[38;5;241m=\u001b[39m\u001b[38;5;241m-\u001b[39m\u001b[38;5;241m1\u001b[39m, verbose\u001b[38;5;241m=\u001b[39m\u001b[38;5;241m1\u001b[39m)\n\u001b[0;32m---> 65\u001b[0m \u001b[43mgrid_search\u001b[49m\u001b[38;5;241;43m.\u001b[39;49m\u001b[43mfit\u001b[49m\u001b[43m(\u001b[49m\u001b[43mX_train_resampled\u001b[49m\u001b[38;5;241;43m.\u001b[39;49m\u001b[43mravel\u001b[49m\u001b[43m(\u001b[49m\u001b[43m)\u001b[49m\u001b[43m,\u001b[49m\u001b[43m \u001b[49m\u001b[43my_train_resampled\u001b[49m\u001b[43m)\u001b[49m\n\u001b[1;32m     66\u001b[0m best_params[name] \u001b[38;5;241m=\u001b[39m grid_search\u001b[38;5;241m.\u001b[39mbest_params_\n\u001b[1;32m     67\u001b[0m clf \u001b[38;5;241m=\u001b[39m classifier[\u001b[38;5;124m'\u001b[39m\u001b[38;5;124mpipeline\u001b[39m\u001b[38;5;124m'\u001b[39m]\u001b[38;5;241m.\u001b[39mset_params(\u001b[38;5;241m*\u001b[39m\u001b[38;5;241m*\u001b[39mgrid_search\u001b[38;5;241m.\u001b[39mbest_params_)\n",
      "File \u001b[0;32m~/.local/lib/python3.10/site-packages/sklearn/model_selection/_search.py:875\u001b[0m, in \u001b[0;36mBaseSearchCV.fit\u001b[0;34m(self, X, y, groups, **fit_params)\u001b[0m\n\u001b[1;32m    869\u001b[0m     results \u001b[38;5;241m=\u001b[39m \u001b[38;5;28mself\u001b[39m\u001b[38;5;241m.\u001b[39m_format_results(\n\u001b[1;32m    870\u001b[0m         all_candidate_params, n_splits, all_out, all_more_results\n\u001b[1;32m    871\u001b[0m     )\n\u001b[1;32m    873\u001b[0m     \u001b[38;5;28;01mreturn\u001b[39;00m results\n\u001b[0;32m--> 875\u001b[0m \u001b[38;5;28;43mself\u001b[39;49m\u001b[38;5;241;43m.\u001b[39;49m\u001b[43m_run_search\u001b[49m\u001b[43m(\u001b[49m\u001b[43mevaluate_candidates\u001b[49m\u001b[43m)\u001b[49m\n\u001b[1;32m    877\u001b[0m \u001b[38;5;66;03m# multimetric is determined here because in the case of a callable\u001b[39;00m\n\u001b[1;32m    878\u001b[0m \u001b[38;5;66;03m# self.scoring the return type is only known after calling\u001b[39;00m\n\u001b[1;32m    879\u001b[0m first_test_score \u001b[38;5;241m=\u001b[39m all_out[\u001b[38;5;241m0\u001b[39m][\u001b[38;5;124m\"\u001b[39m\u001b[38;5;124mtest_scores\u001b[39m\u001b[38;5;124m\"\u001b[39m]\n",
      "File \u001b[0;32m~/.local/lib/python3.10/site-packages/sklearn/model_selection/_search.py:1379\u001b[0m, in \u001b[0;36mGridSearchCV._run_search\u001b[0;34m(self, evaluate_candidates)\u001b[0m\n\u001b[1;32m   1377\u001b[0m \u001b[38;5;28;01mdef\u001b[39;00m \u001b[38;5;21m_run_search\u001b[39m(\u001b[38;5;28mself\u001b[39m, evaluate_candidates):\n\u001b[1;32m   1378\u001b[0m     \u001b[38;5;124;03m\"\"\"Search all candidates in param_grid\"\"\"\u001b[39;00m\n\u001b[0;32m-> 1379\u001b[0m     \u001b[43mevaluate_candidates\u001b[49m\u001b[43m(\u001b[49m\u001b[43mParameterGrid\u001b[49m\u001b[43m(\u001b[49m\u001b[38;5;28;43mself\u001b[39;49m\u001b[38;5;241;43m.\u001b[39;49m\u001b[43mparam_grid\u001b[49m\u001b[43m)\u001b[49m\u001b[43m)\u001b[49m\n",
      "File \u001b[0;32m~/.local/lib/python3.10/site-packages/sklearn/model_selection/_search.py:822\u001b[0m, in \u001b[0;36mBaseSearchCV.fit.<locals>.evaluate_candidates\u001b[0;34m(candidate_params, cv, more_results)\u001b[0m\n\u001b[1;32m    814\u001b[0m \u001b[38;5;28;01mif\u001b[39;00m \u001b[38;5;28mself\u001b[39m\u001b[38;5;241m.\u001b[39mverbose \u001b[38;5;241m>\u001b[39m \u001b[38;5;241m0\u001b[39m:\n\u001b[1;32m    815\u001b[0m     \u001b[38;5;28mprint\u001b[39m(\n\u001b[1;32m    816\u001b[0m         \u001b[38;5;124m\"\u001b[39m\u001b[38;5;124mFitting \u001b[39m\u001b[38;5;132;01m{0}\u001b[39;00m\u001b[38;5;124m folds for each of \u001b[39m\u001b[38;5;132;01m{1}\u001b[39;00m\u001b[38;5;124m candidates,\u001b[39m\u001b[38;5;124m\"\u001b[39m\n\u001b[1;32m    817\u001b[0m         \u001b[38;5;124m\"\u001b[39m\u001b[38;5;124m totalling \u001b[39m\u001b[38;5;132;01m{2}\u001b[39;00m\u001b[38;5;124m fits\u001b[39m\u001b[38;5;124m\"\u001b[39m\u001b[38;5;241m.\u001b[39mformat(\n\u001b[1;32m    818\u001b[0m             n_splits, n_candidates, n_candidates \u001b[38;5;241m*\u001b[39m n_splits\n\u001b[1;32m    819\u001b[0m         )\n\u001b[1;32m    820\u001b[0m     )\n\u001b[0;32m--> 822\u001b[0m out \u001b[38;5;241m=\u001b[39m \u001b[43mparallel\u001b[49m\u001b[43m(\u001b[49m\n\u001b[1;32m    823\u001b[0m \u001b[43m    \u001b[49m\u001b[43mdelayed\u001b[49m\u001b[43m(\u001b[49m\u001b[43m_fit_and_score\u001b[49m\u001b[43m)\u001b[49m\u001b[43m(\u001b[49m\n\u001b[1;32m    824\u001b[0m \u001b[43m        \u001b[49m\u001b[43mclone\u001b[49m\u001b[43m(\u001b[49m\u001b[43mbase_estimator\u001b[49m\u001b[43m)\u001b[49m\u001b[43m,\u001b[49m\n\u001b[1;32m    825\u001b[0m \u001b[43m        \u001b[49m\u001b[43mX\u001b[49m\u001b[43m,\u001b[49m\n\u001b[1;32m    826\u001b[0m \u001b[43m        \u001b[49m\u001b[43my\u001b[49m\u001b[43m,\u001b[49m\n\u001b[1;32m    827\u001b[0m \u001b[43m        \u001b[49m\u001b[43mtrain\u001b[49m\u001b[38;5;241;43m=\u001b[39;49m\u001b[43mtrain\u001b[49m\u001b[43m,\u001b[49m\n\u001b[1;32m    828\u001b[0m \u001b[43m        \u001b[49m\u001b[43mtest\u001b[49m\u001b[38;5;241;43m=\u001b[39;49m\u001b[43mtest\u001b[49m\u001b[43m,\u001b[49m\n\u001b[1;32m    829\u001b[0m \u001b[43m        \u001b[49m\u001b[43mparameters\u001b[49m\u001b[38;5;241;43m=\u001b[39;49m\u001b[43mparameters\u001b[49m\u001b[43m,\u001b[49m\n\u001b[1;32m    830\u001b[0m \u001b[43m        \u001b[49m\u001b[43msplit_progress\u001b[49m\u001b[38;5;241;43m=\u001b[39;49m\u001b[43m(\u001b[49m\u001b[43msplit_idx\u001b[49m\u001b[43m,\u001b[49m\u001b[43m \u001b[49m\u001b[43mn_splits\u001b[49m\u001b[43m)\u001b[49m\u001b[43m,\u001b[49m\n\u001b[1;32m    831\u001b[0m \u001b[43m        \u001b[49m\u001b[43mcandidate_progress\u001b[49m\u001b[38;5;241;43m=\u001b[39;49m\u001b[43m(\u001b[49m\u001b[43mcand_idx\u001b[49m\u001b[43m,\u001b[49m\u001b[43m \u001b[49m\u001b[43mn_candidates\u001b[49m\u001b[43m)\u001b[49m\u001b[43m,\u001b[49m\n\u001b[1;32m    832\u001b[0m \u001b[43m        \u001b[49m\u001b[38;5;241;43m*\u001b[39;49m\u001b[38;5;241;43m*\u001b[39;49m\u001b[43mfit_and_score_kwargs\u001b[49m\u001b[43m,\u001b[49m\n\u001b[1;32m    833\u001b[0m \u001b[43m    \u001b[49m\u001b[43m)\u001b[49m\n\u001b[1;32m    834\u001b[0m \u001b[43m    \u001b[49m\u001b[38;5;28;43;01mfor\u001b[39;49;00m\u001b[43m \u001b[49m\u001b[43m(\u001b[49m\u001b[43mcand_idx\u001b[49m\u001b[43m,\u001b[49m\u001b[43m \u001b[49m\u001b[43mparameters\u001b[49m\u001b[43m)\u001b[49m\u001b[43m,\u001b[49m\u001b[43m \u001b[49m\u001b[43m(\u001b[49m\u001b[43msplit_idx\u001b[49m\u001b[43m,\u001b[49m\u001b[43m \u001b[49m\u001b[43m(\u001b[49m\u001b[43mtrain\u001b[49m\u001b[43m,\u001b[49m\u001b[43m \u001b[49m\u001b[43mtest\u001b[49m\u001b[43m)\u001b[49m\u001b[43m)\u001b[49m\u001b[43m \u001b[49m\u001b[38;5;129;43;01min\u001b[39;49;00m\u001b[43m \u001b[49m\u001b[43mproduct\u001b[49m\u001b[43m(\u001b[49m\n\u001b[1;32m    835\u001b[0m \u001b[43m        \u001b[49m\u001b[38;5;28;43menumerate\u001b[39;49m\u001b[43m(\u001b[49m\u001b[43mcandidate_params\u001b[49m\u001b[43m)\u001b[49m\u001b[43m,\u001b[49m\u001b[43m \u001b[49m\u001b[38;5;28;43menumerate\u001b[39;49m\u001b[43m(\u001b[49m\u001b[43mcv\u001b[49m\u001b[38;5;241;43m.\u001b[39;49m\u001b[43msplit\u001b[49m\u001b[43m(\u001b[49m\u001b[43mX\u001b[49m\u001b[43m,\u001b[49m\u001b[43m \u001b[49m\u001b[43my\u001b[49m\u001b[43m,\u001b[49m\u001b[43m \u001b[49m\u001b[43mgroups\u001b[49m\u001b[43m)\u001b[49m\u001b[43m)\u001b[49m\n\u001b[1;32m    836\u001b[0m \u001b[43m    \u001b[49m\u001b[43m)\u001b[49m\n\u001b[1;32m    837\u001b[0m \u001b[43m\u001b[49m\u001b[43m)\u001b[49m\n\u001b[1;32m    839\u001b[0m \u001b[38;5;28;01mif\u001b[39;00m \u001b[38;5;28mlen\u001b[39m(out) \u001b[38;5;241m<\u001b[39m \u001b[38;5;241m1\u001b[39m:\n\u001b[1;32m    840\u001b[0m     \u001b[38;5;28;01mraise\u001b[39;00m \u001b[38;5;167;01mValueError\u001b[39;00m(\n\u001b[1;32m    841\u001b[0m         \u001b[38;5;124m\"\u001b[39m\u001b[38;5;124mNo fits were performed. \u001b[39m\u001b[38;5;124m\"\u001b[39m\n\u001b[1;32m    842\u001b[0m         \u001b[38;5;124m\"\u001b[39m\u001b[38;5;124mWas the CV iterator empty? \u001b[39m\u001b[38;5;124m\"\u001b[39m\n\u001b[1;32m    843\u001b[0m         \u001b[38;5;124m\"\u001b[39m\u001b[38;5;124mWere there no candidates?\u001b[39m\u001b[38;5;124m\"\u001b[39m\n\u001b[1;32m    844\u001b[0m     )\n",
      "File \u001b[0;32m~/.local/lib/python3.10/site-packages/joblib/parallel.py:1098\u001b[0m, in \u001b[0;36mParallel.__call__\u001b[0;34m(self, iterable)\u001b[0m\n\u001b[1;32m   1095\u001b[0m     \u001b[38;5;28mself\u001b[39m\u001b[38;5;241m.\u001b[39m_iterating \u001b[38;5;241m=\u001b[39m \u001b[38;5;28;01mFalse\u001b[39;00m\n\u001b[1;32m   1097\u001b[0m \u001b[38;5;28;01mwith\u001b[39;00m \u001b[38;5;28mself\u001b[39m\u001b[38;5;241m.\u001b[39m_backend\u001b[38;5;241m.\u001b[39mretrieval_context():\n\u001b[0;32m-> 1098\u001b[0m     \u001b[38;5;28;43mself\u001b[39;49m\u001b[38;5;241;43m.\u001b[39;49m\u001b[43mretrieve\u001b[49m\u001b[43m(\u001b[49m\u001b[43m)\u001b[49m\n\u001b[1;32m   1099\u001b[0m \u001b[38;5;66;03m# Make sure that we get a last message telling us we are done\u001b[39;00m\n\u001b[1;32m   1100\u001b[0m elapsed_time \u001b[38;5;241m=\u001b[39m time\u001b[38;5;241m.\u001b[39mtime() \u001b[38;5;241m-\u001b[39m \u001b[38;5;28mself\u001b[39m\u001b[38;5;241m.\u001b[39m_start_time\n",
      "File \u001b[0;32m~/.local/lib/python3.10/site-packages/joblib/parallel.py:975\u001b[0m, in \u001b[0;36mParallel.retrieve\u001b[0;34m(self)\u001b[0m\n\u001b[1;32m    973\u001b[0m \u001b[38;5;28;01mtry\u001b[39;00m:\n\u001b[1;32m    974\u001b[0m     \u001b[38;5;28;01mif\u001b[39;00m \u001b[38;5;28mgetattr\u001b[39m(\u001b[38;5;28mself\u001b[39m\u001b[38;5;241m.\u001b[39m_backend, \u001b[38;5;124m'\u001b[39m\u001b[38;5;124msupports_timeout\u001b[39m\u001b[38;5;124m'\u001b[39m, \u001b[38;5;28;01mFalse\u001b[39;00m):\n\u001b[0;32m--> 975\u001b[0m         \u001b[38;5;28mself\u001b[39m\u001b[38;5;241m.\u001b[39m_output\u001b[38;5;241m.\u001b[39mextend(\u001b[43mjob\u001b[49m\u001b[38;5;241;43m.\u001b[39;49m\u001b[43mget\u001b[49m\u001b[43m(\u001b[49m\u001b[43mtimeout\u001b[49m\u001b[38;5;241;43m=\u001b[39;49m\u001b[38;5;28;43mself\u001b[39;49m\u001b[38;5;241;43m.\u001b[39;49m\u001b[43mtimeout\u001b[49m\u001b[43m)\u001b[49m)\n\u001b[1;32m    976\u001b[0m     \u001b[38;5;28;01melse\u001b[39;00m:\n\u001b[1;32m    977\u001b[0m         \u001b[38;5;28mself\u001b[39m\u001b[38;5;241m.\u001b[39m_output\u001b[38;5;241m.\u001b[39mextend(job\u001b[38;5;241m.\u001b[39mget())\n",
      "File \u001b[0;32m~/.local/lib/python3.10/site-packages/joblib/_parallel_backends.py:567\u001b[0m, in \u001b[0;36mLokyBackend.wrap_future_result\u001b[0;34m(future, timeout)\u001b[0m\n\u001b[1;32m    564\u001b[0m \u001b[38;5;124;03m\"\"\"Wrapper for Future.result to implement the same behaviour as\u001b[39;00m\n\u001b[1;32m    565\u001b[0m \u001b[38;5;124;03mAsyncResults.get from multiprocessing.\"\"\"\u001b[39;00m\n\u001b[1;32m    566\u001b[0m \u001b[38;5;28;01mtry\u001b[39;00m:\n\u001b[0;32m--> 567\u001b[0m     \u001b[38;5;28;01mreturn\u001b[39;00m \u001b[43mfuture\u001b[49m\u001b[38;5;241;43m.\u001b[39;49m\u001b[43mresult\u001b[49m\u001b[43m(\u001b[49m\u001b[43mtimeout\u001b[49m\u001b[38;5;241;43m=\u001b[39;49m\u001b[43mtimeout\u001b[49m\u001b[43m)\u001b[49m\n\u001b[1;32m    568\u001b[0m \u001b[38;5;28;01mexcept\u001b[39;00m CfTimeoutError \u001b[38;5;28;01mas\u001b[39;00m e:\n\u001b[1;32m    569\u001b[0m     \u001b[38;5;28;01mraise\u001b[39;00m \u001b[38;5;167;01mTimeoutError\u001b[39;00m \u001b[38;5;28;01mfrom\u001b[39;00m \u001b[38;5;21;01me\u001b[39;00m\n",
      "File \u001b[0;32m/usr/lib/python3.10/concurrent/futures/_base.py:453\u001b[0m, in \u001b[0;36mFuture.result\u001b[0;34m(self, timeout)\u001b[0m\n\u001b[1;32m    450\u001b[0m \u001b[38;5;28;01melif\u001b[39;00m \u001b[38;5;28mself\u001b[39m\u001b[38;5;241m.\u001b[39m_state \u001b[38;5;241m==\u001b[39m FINISHED:\n\u001b[1;32m    451\u001b[0m     \u001b[38;5;28;01mreturn\u001b[39;00m \u001b[38;5;28mself\u001b[39m\u001b[38;5;241m.\u001b[39m__get_result()\n\u001b[0;32m--> 453\u001b[0m \u001b[38;5;28;43mself\u001b[39;49m\u001b[38;5;241;43m.\u001b[39;49m\u001b[43m_condition\u001b[49m\u001b[38;5;241;43m.\u001b[39;49m\u001b[43mwait\u001b[49m\u001b[43m(\u001b[49m\u001b[43mtimeout\u001b[49m\u001b[43m)\u001b[49m\n\u001b[1;32m    455\u001b[0m \u001b[38;5;28;01mif\u001b[39;00m \u001b[38;5;28mself\u001b[39m\u001b[38;5;241m.\u001b[39m_state \u001b[38;5;129;01min\u001b[39;00m [CANCELLED, CANCELLED_AND_NOTIFIED]:\n\u001b[1;32m    456\u001b[0m     \u001b[38;5;28;01mraise\u001b[39;00m CancelledError()\n",
      "File \u001b[0;32m/usr/lib/python3.10/threading.py:320\u001b[0m, in \u001b[0;36mCondition.wait\u001b[0;34m(self, timeout)\u001b[0m\n\u001b[1;32m    318\u001b[0m \u001b[38;5;28;01mtry\u001b[39;00m:    \u001b[38;5;66;03m# restore state no matter what (e.g., KeyboardInterrupt)\u001b[39;00m\n\u001b[1;32m    319\u001b[0m     \u001b[38;5;28;01mif\u001b[39;00m timeout \u001b[38;5;129;01mis\u001b[39;00m \u001b[38;5;28;01mNone\u001b[39;00m:\n\u001b[0;32m--> 320\u001b[0m         \u001b[43mwaiter\u001b[49m\u001b[38;5;241;43m.\u001b[39;49m\u001b[43macquire\u001b[49m\u001b[43m(\u001b[49m\u001b[43m)\u001b[49m\n\u001b[1;32m    321\u001b[0m         gotit \u001b[38;5;241m=\u001b[39m \u001b[38;5;28;01mTrue\u001b[39;00m\n\u001b[1;32m    322\u001b[0m     \u001b[38;5;28;01melse\u001b[39;00m:\n",
      "\u001b[0;31mKeyboardInterrupt\u001b[0m: "
     ]
    }
   ],
   "source": [
    "# overnight run\n",
    "from datetime import datetime\n",
    "import pickle\n",
    "from sklearn.model_selection import GridSearchCV\n",
    "from sklearn.metrics import classification_report, accuracy_score, precision_score, recall_score\n",
    "from sklearn.pipeline import Pipeline\n",
    "from sklearn.feature_extraction.text import TfidfVectorizer\n",
    "from sklearn.linear_model import LogisticRegression\n",
    "from sklearn.naive_bayes import MultinomialNB\n",
    "from sklearn.svm import SVC\n",
    "from sklearn.ensemble import RandomForestClassifier, GradientBoostingClassifier, AdaBoostClassifier\n",
    "import xgboost as xgb\n",
    "\n",
    "\n",
    "# Parameters for Logistic Regression\n",
    "lr_params = {'clf__C': [0.1, 1, 10], \n",
    "             'clf__penalty': ['l1', 'l2'], \n",
    "             'clf__solver': ['newton-cg', 'lbfgs', 'liblinear', 'sag', 'saga'], \n",
    "             'clf__max_iter': [100, 200, 300]}\n",
    "\n",
    "# Parameters for Naive Bayes\n",
    "nb_params = {'clf__alpha': [0.01, 0.1, 1, 10], \n",
    "             'clf__fit_prior': [True, False]}\n",
    "\n",
    "# Parameters for Support Vector Machine\n",
    "svm_params = {'clf__C': [0.1, 1, 10], \n",
    "              'clf__kernel': ['linear', 'rbf'], \n",
    "              'clf__gamma': ['scale', 'auto'], \n",
    "              'clf__degree': [2, 3, 4, 5], \n",
    "              'clf__coef0': [0.0, 0.5, 1.0]}\n",
    "\n",
    "# Parameters for Random Forest\n",
    "rf_params = {'tfidf__max_df': [0.5, 0.75, 1.0], \n",
    "             'clf__n_estimators': [100, 200, 300], \n",
    "             'clf__max_depth': [5, 10, 15], \n",
    "             'clf__min_samples_split': [2, 5, 10], \n",
    "             'clf__min_samples_leaf': [1, 2, 4]}\n",
    "\n",
    "# Parameters for Gradient Boosting\n",
    "gb_params = {'clf__n_estimators': [100, 200, 300], \n",
    "             'clf__learning_rate': [0.01, 0.1, 1.0], \n",
    "             'clf__subsample': [0.5, 0.75, 1.0]}\n",
    "\n",
    "# Parameters for AdaBoost\n",
    "ab_params = {'clf__n_estimators': [100, 200, 300], \n",
    "             'clf__learning_rate': [0.01, 0.1, 1]}\n",
    "\n",
    "\n",
    "# Define the classifiers with their corresponding pipelines and hyperparameter grids\n",
    "classifiers = {\n",
    "    'logistic regression': {'pipeline': Pipeline([('tfidf', TfidfVectorizer()), ('clf', LogisticRegression())]), 'params': lr_params},\n",
    "    'naive bayes': {'pipeline': Pipeline([('tfidf', TfidfVectorizer()), ('clf', MultinomialNB())]), 'params': nb_params},\n",
    "    'svm': {'pipeline': Pipeline([('tfidf', TfidfVectorizer()), ('clf', SVC(kernel='linear'))]), 'params': svm_params},\n",
    "    'adaboost': {'pipeline': Pipeline([('tfidf', TfidfVectorizer()), ('clf', AdaBoostClassifier())]), 'params': ab_params},\n",
    "    'random forest': {'pipeline': Pipeline([('tfidf', TfidfVectorizer()), ('clf', RandomForestClassifier(random_state=42))]), 'params': rf_params},\n",
    "    'gradient boosting': {'pipeline': Pipeline([('tfidf', TfidfVectorizer()), ('clf', GradientBoostingClassifier())]), 'params': gb_params},\n",
    "}\n",
    "\n",
    "best_params = {}\n",
    "\n",
    "# Evaluate each classifier and print evaluation metrics\n",
    "for name, classifier in classifiers.items():\n",
    "    print(datetime.now())\n",
    "    grid_search = GridSearchCV(classifier['pipeline'], classifier['params'], cv=5, n_jobs=-1, verbose=1)\n",
    "    grid_search.fit(X_train_resampled.ravel(), y_train_resampled)\n",
    "    best_params[name] = grid_search.best_params_\n",
    "    clf = classifier['pipeline'].set_params(**grid_search.best_params_)\n",
    "    evaluate_classifier(name, clf, X_train_resampled.ravel(), y_train_resampled, X_test, y_test, save_model=True, n_decimals=4)\n",
    "    print(datetime.now())\n",
    "    \n",
    "# Save the best parameters for all models\n",
    "with open('best_paramsOVR1.pkl', 'wb') as f:\n",
    "    pickle.dump(best_params, f)\n"
   ]
  },
  {
   "cell_type": "code",
   "execution_count": null,
   "id": "818b9c23",
   "metadata": {},
   "outputs": [],
   "source": []
  },
  {
   "cell_type": "code",
   "execution_count": null,
   "id": "a789fcd1",
   "metadata": {},
   "outputs": [],
   "source": []
  },
  {
   "cell_type": "markdown",
   "id": "42632f8f",
   "metadata": {},
   "source": [
    "## Run with best params from the saved file."
   ]
  },
  {
   "cell_type": "code",
   "execution_count": 331,
   "id": "728a5396",
   "metadata": {},
   "outputs": [
    {
     "name": "stdout",
     "output_type": "stream",
     "text": [
      "RUN WITH BEST PARAMETERS\n",
      "\n",
      "----------------------------------------------------------------------\n",
      "NAIVE BAYES CLASSIFIER\n",
      "                          precision    recall  f1-score   support\n",
      "\n",
      "  card_queries_or_issues       0.84      0.81      0.83       501\n",
      "   needs_troubleshooting       0.80      0.88      0.84       823\n",
      "                   other       0.87      0.79      0.83       974\n",
      "top_up_queries_or_issues       0.86      0.90      0.88       319\n",
      "\n",
      "                accuracy                           0.84      2617\n",
      "               macro avg       0.84      0.85      0.84      2617\n",
      "            weighted avg       0.84      0.84      0.84      2617\n",
      "\n",
      "Accuracy: 0.8376\n",
      "Precision: 0.8419\n",
      "Recall: 0.8467\n",
      "----------------------------------------------------------------------\n",
      "\n",
      "\n"
     ]
    }
   ],
   "source": [
    "import pickle\n",
    "from sklearn.model_selection import GridSearchCV\n",
    "from sklearn.pipeline import Pipeline\n",
    "from sklearn.feature_extraction.text import TfidfVectorizer\n",
    "from sklearn.linear_model import LogisticRegression\n",
    "from sklearn.naive_bayes import MultinomialNB\n",
    "from sklearn.svm import SVC\n",
    "from sklearn.ensemble import RandomForestClassifier, GradientBoostingClassifier, AdaBoostClassifier\n",
    "import xgboost as xgb\n",
    "\n",
    "# Load the best hyperparameters from the saved pickle file\n",
    "with open('best_params.pkl', 'rb') as f:\n",
    "    best_params = pickle.load(f)\n",
    "\n",
    "# Define the classifiers with their corresponding pipelines and the best hyperparameters\n",
    "classifiers = {\n",
    "#     'logistic regression': {'pipeline': Pipeline([('tfidf', TfidfVectorizer()), ('clf', LogisticRegression(**best_params['logistic regression']))])},\n",
    "    'naive bayes': {'pipeline': Pipeline([('tfidf', TfidfVectorizer()), ('clf', MultinomialNB(**{k.replace('clf__', ''): v for k, v in best_params['naive bayes'].items()}))])},\n",
    "    'svm': {'pipeline': Pipeline([('tfidf', TfidfVectorizer()), ('clf', SVC(**{k.replace('clf__', ''): v for k, v in best_params['svm'].items()}))])},\n",
    "    'adaboost': {'pipeline': Pipeline([('tfidf', TfidfVectorizer()), ('clf', AdaBoostClassifier(**{k.replace('clf__', ''): v for k, v in best_params['adaboost'].items()}))])},\n",
    "    'random forest': {'pipeline': Pipeline([('tfidf', TfidfVectorizer()), ('clf', RandomForestClassifier(random_state=42, **{k.replace('clf__', ''): v for k, v in best_params['random forest'].items()}))])},\n",
    "    'gradient boosting': {'pipeline': Pipeline([('tfidf', TfidfVectorizer()), ('clf', GradientBoostingClassifier(**{k.replace('clf__', ''): v for k, v in best_params['gradient boosting'].items()}))])},\n",
    "}\n",
    "\n",
    "print('RUN WITH BEST PARAMETERS', end='\\n\\n')\n",
    "\n",
    "# Train and evaluate each classifier with the best hyperparameters\n",
    "for name, classifier in classifiers.items():\n",
    "    clf = classifier['pipeline']\n",
    "    clf.fit(X_train_resampled.ravel(), y_train_resampled)\n",
    "    evaluate_classifier(name, clf, X_train_resampled.ravel(), y_train_resampled, X_test, y_test, save_model=True, n_decimals=4)\n"
   ]
  }
 ],
 "metadata": {
  "kernelspec": {
   "display_name": "Python 3 (ipykernel)",
   "language": "python",
   "name": "python3"
  },
  "language_info": {
   "codemirror_mode": {
    "name": "ipython",
    "version": 3
   },
   "file_extension": ".py",
   "mimetype": "text/x-python",
   "name": "python",
   "nbconvert_exporter": "python",
   "pygments_lexer": "ipython3",
   "version": "3.10.6"
  }
 },
 "nbformat": 4,
 "nbformat_minor": 5
}
